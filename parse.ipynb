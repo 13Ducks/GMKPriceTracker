{
 "cells": [
  {
   "cell_type": "code",
   "execution_count": 45,
   "metadata": {},
   "outputs": [],
   "source": [
    "import pandas as pd\n",
    "import re"
   ]
  },
  {
   "cell_type": "code",
   "execution_count": 46,
   "metadata": {},
   "outputs": [],
   "source": [
    "df = pd.read_csv('smallFebGMK.csv')\n",
    "df.drop(df.columns[0], axis=1, inplace=True)\n",
    "df.drop_duplicates(subset=[\"link\"], inplace=True)\n",
    "df.set_index(['author', 'link'], inplace=True)\n",
    "#df.head()"
   ]
  },
  {
   "cell_type": "code",
   "execution_count": 47,
   "metadata": {},
   "outputs": [],
   "source": [
    "df['post_lower'] = df['post'].str.lower()\n",
    "df['title_lower'] = df['title'].str.lower()\n",
    "only_gmk = df[df['post_lower'].str.contains('gmk') | df['title_lower'].str.contains('gmk')].copy()\n",
    "#only_gmk.shape, df.shape"
   ]
  },
  {
   "cell_type": "code",
   "execution_count": 48,
   "metadata": {},
   "outputs": [],
   "source": [
    "def split_on_gmk(x):\n",
    "    a = x.lower().split(\"gmk\")[1]\n",
    "    return \"gmk \" + a.split()[0]\n",
    "\n",
    "only_gmk['product_name'] = only_gmk['rawtext'].apply(split_on_gmk)\n",
    "#only_gmk"
   ]
  },
  {
   "cell_type": "code",
   "execution_count": 49,
   "metadata": {},
   "outputs": [
    {
     "output_type": "stream",
     "name": "stdout",
     "text": [
      "MultiIndex([(            'rath_k', ...),\n            (       'Krasztest01', ...),\n            ( 'Mr_BillButtlicker', ...),\n            ( 'Mr_BillButtlicker', ...),\n            ( 'Mr_BillButtlicker', ...),\n            ('excited_to_be_here', ...),\n            (             'Sedyn', ...),\n            (    '_ProjectEuler_', ...),\n            (    '_ProjectEuler_', ...),\n            (          'Zeelobby', ...),\n            ...\n            (             'jsnau', ...),\n            (             'fff_x', ...),\n            (             'fff_x', ...),\n            (        'Darkemajik', ...),\n            (        'Darkemajik', ...),\n            (        'Darkemajik', ...),\n            (            'ra1nnn', ...),\n            (             'Acabi', ...),\n            (            'Clleno', ...),\n            (            'Clleno', ...)],\n           names=['author', 'link'], length=154)\n"
     ]
    }
   ],
   "source": [
    "print(only_gmk.index)\n",
    "#only_gmk\n",
    "#only_gmk.drop_duplicates(subset=[\"link\"])"
   ]
  },
  {
   "cell_type": "code",
   "execution_count": 64,
   "metadata": {
    "tags": [
     "outputPrepend"
    ]
   },
   "outputs": [
    {
     "output_type": "stream",
     "name": "stdout",
     "text": [
      "a alphas kit $110 shipped**~~ PRICES: [110]\nPRODUCT: gmk relegendables base LINE: ~~**gmk relegendables $40 shipped**~~ sold local sale PRICES: [40]\nPRODUCT: gmk camping deskmat LINE: |~~gmk camping deskmat~~|~~lightly used, in good condition~~|~~$30 shipped~~ sold for asking| PRICES: [30]\nPRODUCT: gmk masterpiece rama LINE: ~~gmk masterpiece x rama master gold - $175~~ sold. PRICES: [175]\nPRODUCT: gmk masterpiece rama LINE: ~~gmk masterpiece x rama knife black - $175~~ sold. PRICES: [175]\nPRODUCT: gmk masterpiece rama LINE: ~~gmk masterpiece x rama knife gold - $175~~ sold. PRICES: [175]\nPRODUCT: gmk nautilus rama LINE: ~~gmk nautilus 2 x rama nautilus enter - $200~~  PRICES: [200]\nPRODUCT: gmk nautilus base LINE: - ~~sold: gmk nautilus nightmares - $200~~ PRICES: [200]\nPRODUCT: gmk bingsu base LINE: # gmk bingsu - $350 shipped (sold) PRICES: [350]\nPRODUCT: gmk dmg bars LINE: # gmk dmg spacebars - $45 shipped (sold) PRICES: [45]\nPRODUCT: gmk olivia++ light base LINE: |~~gmk olivia++ light base~~|~~no shine, practically new. shipped in bags.~~|~~$300~~ sold for asking to u/sortabeta| PRICES: [300]\nPRODUCT: gmk olivia++ dark base LINE: |~~gmk olivia++ dark base~~|~~no shine, never used. shipped in bags.~~|~~$265~~| PRICES: [265]\nPRODUCT: gmk olivia++ base LINE: |~~gmk olivia++ extensions~~|~~no shine, never used. shipped in tray.~~|~~$90~~ sold for asking to u/kind_mind_1196| PRICES: [90]\nPRODUCT: gmk olivia++ novelties, bars LINE: |~~gmk olivia++ spacebars + novelties~~|~~no shine, practically new. shipped in tray.~~|~~$100~~| PRICES: [100]\nPRODUCT: gmk olivia++ dark base LINE: |~~gmk olivia++ dark base~~|~~removed from trays but never used. shipped in bags.~~|~~$250~~| PRICES: [250]\nPRODUCT: gmk olivia++ novelties, bars LINE: |~~gmk olivia++ novelties + spacebars~~|~~one spacebar and novelties are lightly used. all in impeccable condition.~~|~~$100~~| PRICES: [100]\nPRODUCT: gmk peaches rama LINE: |~~rama x gmk peaches n' cream green leaf~~|~~brand new.~~|~~$120~~ sold to  u/itsmematej for asking through venmo.| PRICES: [120]\nPRODUCT: gmk olivia++ dark base LINE: |~~gmk olivia++ dark base~~|~~removed from trays but never used. shipped in bags.~~|~~$250~~ sold for asking to u/_imalittlestitious| PRICES: [250]\nPRODUCT: gmk olivia++ dark base, novelties, bars LINE: |~~gmk olivia++ novelties + spacebars~~|~~one spacebar and novelties lightly used with no shine or damage. all in impeccable condition. shipped in bags or trays, depending on if they're bundled with the dark base.~~|~~$100~~ sold for asking to u/_imalittlestitious| PRICES: [100]\nPRODUCT: gmk finer base, novelties, bars LINE: |~~gmk finer things base + novelties + spacebars~~|~~all bnib sealed. not looking to separate.~~|~~$450~~| PRICES: [450]\nPRODUCT: gmk umbra base LINE: ~~gmk umbra for $285 shipped~~  **sold** for $270 shipped PRICES: [285, 270]\nPRODUCT: gmk taro base LINE: [~~gmk taro basekit~~](https://imgur.com/ktwf8of): $280 shipped   sold PRICES: [280]\nPRODUCT: gmk taro base LINE: [~~gmk taro milk tea mods~~](https://imgur.com/b2h5s28): $100 shipped  sold PRICES: [100]\nPRODUCT: gmk sumi deskmat LINE: [~~gmk sumi sakura deskmat~~](https://imgur.com/bmd7by2): $45 shipped\tsold PRICES: [45]\nPRODUCT: gmk rudy base LINE: ~~gmk rudy base kit~~: $280 shipped  sold PRICES: [280]\nPRODUCT: gmk mizu deskmat LINE: [~~gmk mizu tulia (koi) deskmat~~](https://imgur.com/a/rgkpehc): $45 shipped  sold PRICES: [45]\nPRODUCT: gmk olivia++ base, novelties LINE: ~~gmk olivia++ light | base, novelties | little to no shine | **$360 shipped conus**~~ **sold** PRICES: [360]\nPRODUCT: gmk taro base LINE: ~~gmk taro r2 | base | mounted for 2 days | **$300 shipped conus**~~ **sold** PRICES: [300]\nPRODUCT: gmk dark dark base LINE: |~~gmk dark base kit~~|~~sealed~~|~~$240+shipping costs~~ **sold**| PRICES: [240]\nPRODUCT: gmk deep base LINE: ~~gmk deep space~~-sold for $180 PRICES: [180]\nPRODUCT: gmk 9009 bars LINE: ~~gmk 9009 r3 + spacebars - $275~~ PRICES: [275]\nPRODUCT: gmk cafe bars, rama LINE: ~~gmk cafe + rama bean + gmk cafe spacebars - $450~~ PRICES: [450]\nPRODUCT: gmk firefly base LINE: **~~gmk firefly $330~~**  PRICES: [330]\nPRODUCT: gmk bow base LINE: **~~gmk bow zhuyin $150 (reserved)~~** PRICES: [150]\nPRODUCT: gmk merlin base LINE: ~~gmk merlin base - 200$ plus shipping. lightly used for maybe a week. i’ll include the shipping in the price if it’s shipped in bags.~~ PRICES: [200]\nPRODUCT: gmk dark, base LINE: gmk dark, base and deviant, factory sealed. -$260 usd sold! PRICES: [260]\nPRODUCT: gmk alter novelties, bars LINE: ~~gmk alter - lightly used for photos, chipped corner on trays, includes falter, sealed spacebars and novelties - $575~~ sold PRICES: [575]\nPRODUCT: gmk taro novelties, alphas LINE: ~~gmk taro r2 boba alphas, milk tea mods, novelties - $320~~ no longer available PRICES: [320]\nPRODUCT: gmk hiragana base LINE: 1. ~~gmk hiragana and spacebar kit! $100 shipped~~ sold to u/itakakashi PRICES: [100]\nPRODUCT: gmk red base LINE: ~~3. also selling a complete gmk red samurai keycap set - $85 obo~~ PRICES: [85]\nPRODUCT: gmk wob base LINE: **~~gmk wob hiragana (used for a day) - $200~~** **sold** PRICES: [200]\nPRODUCT: gmk dots base LINE: ~~-[gmk dots (base)](https://i.imgur.com/3zov43t.jpg), no box/tray, but unused/no shine -- $300 obo (there is also an upcoming r2 gb of this soon if you would prefer to pay less + wait instead)~~ (**sold**) PRICES: [300]\nPRODUCT: gmk vaporwave base LINE: ~~-[gmk vaporwave (base)](https://i.imgur.com/ac8rnfq.jpg), no box/tray, but unused/no shine -- $300 obo shipped~~ **(sold)** PRICES: [300]\nPRODUCT: gmk metropolis base LINE: -~~[gmk metropolis (base, signs, blocks)](https://i.imgur.com/gp7zcfe.jpg), base in bags + the rest in trays, unused/no shine, $375 obo shipped~~ (**sold**) PRICES: [375]\nPRODUCT: gmk sandstorm base LINE: ~~-[gmk sandstorm (base, spacebar)](https://i.imgur.com/yp7inqr.jpg), bag-shipped, unused/no shine, $290 obo shipped~~ (**sold**) PRICES: [290]\nPRODUCT: gmk metaverse base LINE: |gmk metaverse r2 base|new, sealed|~~$285 shipped~~ **sold**| PRICES: [285]\nPRODUCT: gmk olivia++ dark base, bars LINE: ~~gmk olivia++ (dark base + spacebars)~~ | ~~$300~~ | ~~[pics](https://imgur.com/a/cl9c2dj)~~ | ~~still sealed~~ | **sold** PRICES: [300]\nPRODUCT: gmk olivia++ light base, bars LINE: ~~gmk olivia++ (light base + spacebars)~~ | ~~$365~~ | ~~[pics](https://imgur.com/a/nql1ufd)~~ | ~~still sealed~~ | **sold** PRICES: [365]\nPRODUCT: gmk camping base, novelties, bars LINE: ~~gmk camping r2 (base + novelties + spacebars)~~ | ~~$380~~ | ~~[pics](https://imgur.com/a/yppyt8d)~~ | ~~still sealed~~ | **sold** PRICES: [380]\nPRODUCT: gmk camping novelties, alphas LINE: ~~gmk camping r2 latin alphas + gmk camping r1 novelties~~ | ~~$275~~ | ~~[pics](https://imgur.com/a/pdtafx5)~~ | ~~still sealed, lets you convert your existing r2 into r1~~ | **sold** PRICES: [275]\nPRODUCT: gmk ursa base, novelties, bars LINE: ~~gmk ursa (base + novelties + spacebars)~~ | ~~$320~~ | ~~[pics](https://imgur.com/a/etnpslo)~~ | ~~still sealed~~ | **sold** PRICES: [320]\nPRODUCT: gmk heck base LINE: ~~gmk heck (1 set left): ~~$41~~ ~~$28~~ ~~**$15**~~ ~~shipped conus.~~ PRICES: [41, 28, 15]\nPRODUCT: gmk heck base LINE: gmk heck (all sets): ~~$41~~ **$28** shipped conus. PRICES: [41, 28]\nPRODUCT: gmk carbon: base LINE: ~~gmk carbon: $185 shipped conus.~~ PRICES: [185]\nPRODUCT: gmk bleached rama LINE: ~~**gmk bleached rama x and o cap $110 each**~~ **both sold** PRICES: [110]\nPRODUCT: gmk fuyu base LINE: |~~gmk fuyu base kit~~ **sold**|~~sealed~~|~~$300 shipped~~| PRICES: [300]\nPRODUCT: gmk fuyu deskmat LINE: |~~gmk fuyu deskmat~~ **sold**|~~brand new, never used; (still in shipping packaging)~~|~~$45 shipped~~| PRICES: [45]\nPRODUCT: gmk olivia++ deskmat LINE: |~~gmk olivia++ light deskmat~~ **sold**|~~brand new, never used~~|~~$50 shipped~~| PRICES: [50]\nPRODUCT: gmk dots deskmat LINE: |~~gmk dots horizontal deskmat~~  **sold**|~~brand new, never used~~|~~$45 shipped~~| PRICES: [45]\nPRODUCT: gmk dmg bars LINE: |[gmk dmg + spacebars](https://imgur.com/4i5ghhi)|$350 shipped, paypal, us only|~~available~~ sold for asking|brand new in box| PRICES: [350]\nPRODUCT: gmk sandstorm base, accents LINE: ~~hi mechmarket. selling gmk sandstorm base and space for~~ **~~$315 + shipping~~**~~. the keycaps will be~~ **~~shipped in bags~~** *~~(the jtk trays in the pictures will not be included)~~*~~. shipping from sg to conus is estimated to be around $25-$40, but please pm me for a quote. the tsangan layout keycaps with accents were very lightly used, but there's no visible shine as far as i can tell.~~ PRICES: [315, 25, 40]\nPRODUCT: gmk first base, rama LINE: [gmk first love and rama](https://imgur.com/a/fcvbjf0) \\- ~~bought this set used from another user here a couple days ago. unfortunately have to get rid of it. the set still looks great, althought there is some slight shine on the spacebar and subtle visible shine on w,a,s,d and shift keys. the rama you can see in the picture i also bought with a couple of scuffs on the bottom end, but not visible when in a case or mounted. all of the rest of the keycaps other than a basic 65% layout were never touched. .~~ **~~$330 shipped in box $320 shipped in bags.~~** **~~base kit sold for $220. rama still avilable for $80 shipped~~** PRICES: [330, 320, 220, 80]\nPRODUCT: gmk first rama LINE: [~~gmk first love rama~~](https://imgur.com/a/rwno8ek) ~~- bought this about a week ago from another user but have to let it go. there are some scratched on the bottom side, but can't be seen from display case or when mounted.~~ **~~$75 shipped obo~~** **sold** PRICES: [75]\nPRODUCT: gmk nautilus base LINE: gmk nautilus r1 base | heavily used and shined. there are also a few scuffed keycaps with dents due to dropping my keyboard. throwing in a 4 ft usb-c naut-themed cable in for free to sweeten the deal.| ~~$120~~ sold PRICES: [120]\nPRODUCT: gmk camping base, novelties, alphas, bars LINE: **~~gmk camping bundle~~** ~~-  kits included: base, novelties, spacebars, latin alphas. typed on for a few weeks. latin alphas are still sealed. looking to keep all of this bundled.~~ **~~$375 shipped~~** *sold for $360 shipped* PRICES: [375, 360]\nPRODUCT: gmk olivia++ dark base LINE: **gmk olivia++ dark** **~~bundle~~** \\- kits included: dark base, ~~extension kit~~. never typed on but mounted. would like to sell these together. **$275 shipped \\*** *someone really wanted the extension kit by itself so it's been sold for $80* PRICES: [275, 80]\nPRODUCT: gmk taro base, alphas, bars LINE: **~~gmk taro r2 bundle~~** ~~- kits included: base, boba (purple) alphas, spacebars. typed on base for a few weeks, no shine. spacebars and alpha kit are still sealed. would like to keep this bundled as well.~~ **~~$400 shipped --~~** *~~this is pending for a local sale~~*  *sold locally for $300* PRICES: [400, 300]\nPRODUCT: gmk eclipse accents LINE: **~~gmk eclipse + pale blue accents $220 shipped in box/tray~~** **sold for $210** PRICES: [220, 210]\nPRODUCT: gmk oblivion base LINE: **~~gmk oblivion monochrome  $220 shipped in box/tray~~** **sold for asking** PRICES: [220]\nPRODUCT: gmk olivia++ alphas LINE: ~~hello, i have an unopened set of gmk olivia++ dark (the black alphas) core set, never mounted and still in plastic. asking for $270 shipped conus only, thanks!~~ PRICES: [270]\nPRODUCT: gmk nautilus, base LINE: |~~gmk nautilus, includes a dvorak/colemak kit 7u spacebar has some shine on left thumb.~~|~~220$~~| PRICES: [220]\nPRODUCT: gmk penumbra base LINE: |~~gmk penumbra~~|~~180$~~| PRICES: [180]\nPRODUCT: gmk mizu base LINE: ~~**gmk mizu base kit** (shown on blue maja which is not for sale) - lovingly cared for, never gamed on. tried to capture if there is any shine. it's minimal on the home row if anything at all. will ship in bag. **$340** sold $325~~ PRICES: [340, 325]\nPRODUCT: gmk noel novelties LINE: ~~gmk noel (novelties) -- $80~~ PRICES: [80]\nPRODUCT: gmk taro novelties LINE: ~~gmk taro (novelties) -- $70~~ PRICES: [70]\nPRODUCT: gmk taro base LINE: ~~gmk taro r2 base $300~~ sold PRICES: [300]\nPRODUCT: gmk 8008 base LINE: **~~gmk 8008 base + accent~~**~~: barely used. ships in a bag, - $270 shipped obo~~ sold PRICES: [270]\nPRODUCT: gmk metaverse base, novelties LINE: **~~gmk metaverse r2 base, novelties, royal and spacebar~~**~~. brand new, sealed.  $470 shipped~~ sold PRICES: [470]\nPRODUCT: gmk botanical base, novelties LINE: ~~gmk botanical base + novelties: brand new, sealed $420 shipped~~ **sold** PRICES: [420]\nPRODUCT: gmk mastermind rama LINE: ~~gmk mastermind x rama gold pvd brass knife artisan: brand new $150 shipped obo~~ **sold** PRICES: [150]\nPRODUCT: gmk olivia++ light base LINE: ~~gmk olivia++ light base: brand new, sealed: $350 shipped obo~~ **sold** PRICES: [350]\nPRODUCT: gmk 8008 base LINE: ~~**gmk 8008 base + accent**: barely used. ships in a bag - $330 shipped obo~~ PRICES: [330]\nPRODUCT: gmk metaverse base, novelties LINE: ~~**gmk metaverse r2 base, novelties, royal and spacebar**. brand new, sealed. - $470 shipped obo~~ PRICES: [470]\nPRODUCT: gmk ursa base, bars LINE: |[~~gmk ursa base + spacebars + 40s~~](https://imgur.com/a/8hwshka)|~~base is only opened to check keys, the other 2 kits are sealed~~|~~$350 shipped in tray or $345 in bags sold spacebars for $65 and base+40s for $290~~| PRICES: [350, 345, 65, 290]\nPRODUCT: gmk ursa base, bars LINE: |[~~gmk ursa base + spacebars~~](https://imgur.com/a/8hwshka)|~~if you really don't want the 40s, i could seek to sell it separately later, but i will priotize all 3 kits buyers~~|~~$320 shipped in tray or $315 shipped in bags sold~~| PRICES: [320, 315]\nPRODUCT: gmk firefly base, accents LINE: |[~~gmk firefly base + (de)accents~~](https://imgur.com/a/on7o08c)|~~typed on for a few hours a month ago and then put everything back to tray, no shine~~|~~$315 shipped in tray or $310 shipped in bags, sold for $305 local pickup~~| PRICES: [315, 310, 305]\nPRODUCT: gmk camping base LINE: ~~gmk camping r2 - light shine, overall great condition - $215~~ sold for asking PRICES: [215]\nPRODUCT: gmk solarized/penumbra base LINE: |~~gmk solarized/penumbra~~|~~selling together as they came. used for a month or so, minimal shine.~~|~~$300 shipped~~| PRICES: [300]\nPRODUCT: gmk olivia++ light base LINE: ~~gmk olivia++ light base, new, $300.~~  sold for asking PRICES: [300]\nPRODUCT: gmk olivia dark base, novelties LINE: * ~~gmk olivia ++ dark base and novelties~~ **~~$250~~** PRICES: [250]\nPRODUCT: gmk delta base LINE: ~~gmk delta base - used for a few months, no shine.  complete set including original box and trays.~~ **~~asking $300 shipped~~** sold to u/acceptable_ocelot PRICES: [300]\nPRODUCT: gmk striker|mounted base LINE: |gmk striker|mounted once other than that its not been used|$340 sold| PRICES: [340]\nPRODUCT: gmk night base LINE: |gmk night runner|new, comes with the fixed key|$270 sold| PRICES: [270]\nPRODUCT: gmk camping novelties LINE: gmk camping novelties:  $80 sold sold sold PRICES: [80]\nPRODUCT: gmk mizu base, novelties, bars, deskmat, rama LINE: it includes gmk mizu base kit, spacebars, novelties, and the tulia deskmat.  everything is used for about a month but typed on lightly. i cannot see any shine, even with harsh lighting. more pics can be provided but i tried to get some with harsh lighting in the timestamp. tulia mat has been used for almost a year straight, so there are a few tiny spots that will probably come out with it being cleaned off. i am looking for $450 shipped obo or trades for rama x and o keycaps. sold for 435 PRICES: [450]\nPRODUCT: gmk zhuyin alphas LINE: ~~gmk zhuyin wob alphas add-on kit~~ |  ~~new, sealed~~ | ~~$170 shipped conus~~ | **sold** PRICES: [170]\nPRODUCT: gmk cafe base LINE: |~~gmk cafe bnib~~|~~bnib cafe~~|~~310$ shipped~~|no, sold asking| PRICES: [310]\nPRODUCT: gmk nautilus base LINE: |~~gmk nautilus 2 core~~|~~new, sealed~~|~~$265~~|sold to /u/mewogoginspin for asking| PRICES: [265]\nPRODUCT: gmk botanical base, novelties, rama LINE: |~~gmk botanical base, novelties, green rama~~|~~$525 sold as bundle~~| PRICES: [525]\nPRODUCT: gmk spirit base LINE: ~~sealed gmk spirit base kit: $250~~ sold PRICES: [250]\nPRODUCT: gmk jamon base LINE: sold* gmk jamon base - $200 shipped conus  PRICES: [200]\nPRODUCT: gmk nines base LINE: sold* gmk nines base - $200 shipped conus PRICES: [200]\nPRODUCT: gmk taro base LINE: ~~gmk taro bundle of all kits - $345~~ PRICES: [345]\nPRODUCT: gmk taro base, novelties, accents LINE: ~~gmk taro base kit - $300~~ sold for asking, ~~novelties - $60~~ sold for $55, ~~accents - $45~~ sold for asking PRICES: [300, 60, 55, 45]\nPRODUCT: gmk taro base, novelties, accents LINE: ~~gmk taro base kit+novelties+accents - $425~~ PRICES: [425]\nPRODUCT: gmk taro base, novelties, accents LINE: ~~gmk taro r2 base kit - $300~~ sold for asking, ~~novelties - $70~~ sold for $55, ~~accents - $45~~ sold for asking PRICES: [300, 70, 55, 45]\nPRODUCT: gmk oblivion base, alphas LINE: ~~gmk oblivion v2 regular base kit+ hagoromo alphas - $360~~ sold for asking PRICES: [360]\nPRODUCT: gmk taro base, accents LINE: ~~gmk taro base kit - $300~~ sold for asking, ~~accents - $45~~ sold for asking PRICES: [300, 45]\nPRODUCT: gmk taro base, accents LINE: ~~gmk taro base kit+accents - $345~~ PRICES: [345]\nPRODUCT: gmk taro base LINE: ~~gmk taro r2 bundle of all kits - $425~~ PRICES: [425]\nPRODUCT: gmk taro base, novelties, accents LINE: ~~gmk taro r2 base kit - $300~~ sold for asking, ~~novelties - $70~~ sold for $55, ~~accents - $45~~ sold for asking PRICES: [300, 70, 55, 45]\nPRODUCT: gmk nautilus base, novelties LINE: |~~gmk nautilus nightmares base + novelties~~|like new, mounted once for pictures.|$265 shipped| PRICES: [265]\nPRODUCT: gmk classic base LINE: ~~gmk classic retro (originative)- used,  no shine $230 shipped in og tray or $210 shipped in bag~~ sold PRICES: [230, 210]\nPRODUCT: gmk spacekeys- base LINE: ~~gmk spacekeys- $50 shipped~~ sold PRICES: [50]\nPRODUCT: gmk taro base LINE: ~~selling sealed gmk taro r2 base only~~ $280 usd. local free shipping. PRICES: [280]\nPRODUCT: gmk olivia++ bars LINE: gmk olivia++ spacebars | brand new sealed | ~~$90 shipped, conus only~~ sold PRICES: [90]\nPRODUCT: gmk laser alphas, bars LINE: ~~gmk laser gaijin alphas, spacebars, and mitowaves (has shine on some keys) (most spacebars were never used)~~: $300 sold PRICES: [300]\nPRODUCT: gmk laser base LINE: ~~gmk laser translucent keycaps (sealed) (dusk color):~~ $35 sold PRICES: [35]\ndefaultdict(<class 'list'>, {'gmk dmg': [300, 45, 350], 'gmk metaverse': [420, 285, 470, 470], 'gmk taro': [110, 280, 100, 300, 320, 300, 70, 300, 345, 45, 425, 45, 45, 345, 425, 45, 280], 'gmk relegendables': [40], 'gmk camping': [30, 380, 275, 360, 215, 80], 'gmk masterpiece': [175, 175, 175], 'gmk nautilus': [200, 200, 120, 265, 265], 'gmk bingsu': [350], 'gmk olivia++': [300, 265, 90, 100, 250, 100, 250, 100, 360, 300, 365, 50, 80, 270, 350, 300, 90], 'gmk peaches': [120], 'gmk finer': [450], 'gmk umbra': [270], 'gmk sumi': [45], 'gmk rudy': [280], 'gmk mizu': [45, 325, 450], 'gmk dark': [240], 'gmk deep': [180], 'gmk 9009': [275], 'gmk cafe': [450, 310], 'gmk firefly': [330, 305], 'gmk bow': [150], 'gmk merlin': [200], 'gmk dark,': [260], 'gmk alter': [575], 'gmk hiragana': [100], 'gmk red': [85], 'gmk wob': [200], 'gmk dots': [300, 45], 'gmk vaporwave': [300], 'gmk metropolis': [375], 'gmk sandstorm': [290, 25], 'gmk ursa': [320, 65, 315], 'gmk heck': [15, 28], 'gmk carbon:': [185], 'gmk bleached': [110], 'gmk fuyu': [300, 45], 'gmk first': [80, 75], 'gmk eclipse': [210], 'gmk oblivion': [220, 360], 'gmk nautilus,': [220], 'gmk penumbra': [180], 'gmk noel': [80], 'gmk 8008': [270, 330], 'gmk botanical': [420, 525], 'gmk mastermind': [150], 'gmk solarized/penumbra': [300], 'gmk olivia': [250], 'gmk delta': [300], 'gmk striker|mounted': [340], 'gmk night': [270], 'gmk zhuyin': [170], 'gmk spirit': [250], 'gmk jamon': [200], 'gmk nines': [200], 'gmk classic': [210], 'gmk spacekeys-': [50], 'gmk laser': [300, 35]})\n"
     ]
    }
   ],
   "source": [
    "from collections import defaultdict\n",
    "all_prices = defaultdict(list)\n",
    "\n",
    "money_regex = r'\\$\\d+|\\d+\\$'\n",
    "\n",
    "sets = {'base':0, 'nov':0, 'alphas':0, 'accents':0, 'bars':0, 'light base':0, 'dark base':0, 'deskmat':0, 'rama':0}\n",
    "\n",
    "def match_product(df):\n",
    "    for row in df.itertuples():\n",
    "        s = row.post_lower.split(\"\\n\")\n",
    "        product = row.product_name.lower()\n",
    "        for l in s:\n",
    "            low = l.lower()\n",
    "            if \"gmk\" in low and ('~~' in low or 'sold' in low):\n",
    "                #print(low)\n",
    "                a = low.split(\"gmk \")[1]\n",
    "                product_name = \"gmk \" + re.split(r\" |~\", a)[0]\n",
    "                #print(a, re.split(r\" |~\", a))\n",
    "                matches = re.findall(money_regex, low)\n",
    "                \n",
    "                prices = [int(re.findall(r'\\d+', m)[0]) for m in matches]\n",
    "                if len(prices) > 0:\n",
    "                    kits = []\n",
    "                    removeBase = False\n",
    "                    empty=True\n",
    "                    for x in sets.keys():\n",
    "                        if x in low:\n",
    "                            empty=False\n",
    "                            sets[x]+=1\n",
    "                            if x == 'nov':\n",
    "                                kits.append('novelties')\n",
    "                            elif x == 'light base' or x == 'dark base':\n",
    "                                kits.insert(0, f'{x}')\n",
    "                                removeBase = True\n",
    "                            else:\n",
    "                                kits.append(x)\n",
    "                    products = product_name\n",
    "                    if not kits:\n",
    "                        kits = ['base']\n",
    "                    products+= f' {kits.pop(0)}'\n",
    "                    for x in kits:\n",
    "                        if removeBase and x == 'base':\n",
    "                            continue\n",
    "                        products += f', {x}'\n",
    "                    print(f\"PRODUCT: {products} LINE: {low} PRICES: {prices}\")\n",
    "                    all_prices[product_name].append(min(prices))\n",
    "    \n",
    "\n",
    "for i, new_df in only_gmk.groupby(level=0):\n",
    "    match_product(new_df)\n",
    "\n",
    "print(all_prices)"
   ]
  },
  {
   "cell_type": "code",
   "execution_count": null,
   "metadata": {},
   "outputs": [],
   "source": []
  }
 ],
 "metadata": {
  "kernelspec": {
   "name": "python388jvsc74a57bd083c37cfb601c034df582858d233453172d1d663bf85d40f2eea2ab530f817b68",
   "display_name": "Python 3.8.8 64-bit ('PythonSoftwareFoundation.Python.3.8_qbz5n2kfra8p0')"
  },
  "metadata": {
   "interpreter": {
    "hash": "83c37cfb601c034df582858d233453172d1d663bf85d40f2eea2ab530f817b68"
   }
  }
 },
 "nbformat": 4,
 "nbformat_minor": 2
}