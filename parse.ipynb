{
 "cells": [
  {
   "cell_type": "code",
   "execution_count": 1,
   "metadata": {},
   "outputs": [],
   "source": [
    "import pandas as pd\n",
    "import re"
   ]
  },
  {
   "cell_type": "code",
   "execution_count": 3,
   "metadata": {},
   "outputs": [
    {
     "output_type": "execute_result",
     "data": {
      "text/plain": [
       "                                                                                                                   post  \\\n",
       "author            link                                                                                                    \n",
       "GreenyOstrichy    /r/mechmarket/comments/l1t1u6/cabc_h_paypal_w_o...                             Open to all offers, PM   \n",
       "rath_k            /r/mechmarket/comments/l8bmmu/usmi_h_gmk_cafe_b...  [Timestamps](https://imgur.com/a/atjuMNc)\\n\\n&...   \n",
       "Krasztest01       /r/mechmarket/comments/l424x4/euplhgmk_botanica...  [Timestamp](https://imgur.com/a/WrVBtSG)\\n\\n&#...   \n",
       "Mr_BillButtlicker /r/mechmarket/comments/l1fckk/usga_h_gmk_merlin...  Hi all,\\n\\n[timestamp ](https://imgur.com/gall...   \n",
       "                  /r/mechmarket/comments/kvg1uw/usga_h_pc_key65_g...  \\nHi all,\\n\\n[timestamp ](https://imgur.com/ga...   \n",
       "\n",
       "                                                                                                   rawtext  \\\n",
       "author            link                                                                                       \n",
       "GreenyOstrichy    /r/mechmarket/comments/l1t1u6/cabc_h_paypal_w_o...  Sold GMK Camping R2 to /u/SplifoMode   \n",
       "rath_k            /r/mechmarket/comments/l8bmmu/usmi_h_gmk_cafe_b...         Bought GMK Cafe from u/rath_k   \n",
       "Krasztest01       /r/mechmarket/comments/l424x4/euplhgmk_botanica...     Sold GMK Botanical to u/westend14   \n",
       "Mr_BillButtlicker /r/mechmarket/comments/l1fckk/usga_h_gmk_merlin...        Sold GMK Merlin to u/inphinity   \n",
       "                  /r/mechmarket/comments/kvg1uw/usga_h_pc_key65_g...        Sold GMK Merlin to u/inphinity   \n",
       "\n",
       "                                                                                                                  title  \n",
       "author            link                                                                                                   \n",
       "GreenyOstrichy    /r/mechmarket/comments/l1t1u6/cabc_h_paypal_w_o...  [CA-BC] [H] PayPal [W] Old Epbt sets (gateron ...  \n",
       "rath_k            /r/mechmarket/comments/l8bmmu/usmi_h_gmk_cafe_b...  [US-MI] [H] GMK Cafe BNIB, GMK Olivia++ BNIB, ...  \n",
       "Krasztest01       /r/mechmarket/comments/l424x4/euplhgmk_botanica...  [EU-PL][H]GMK Botanical, 90xH1 Switches [W]Pay...  \n",
       "Mr_BillButtlicker /r/mechmarket/comments/l1fckk/usga_h_gmk_merlin...   [US-GA] [H] GMK Merlin [W] 200$ PayPal or Trades  \n",
       "                  /r/mechmarket/comments/kvg1uw/usga_h_pc_key65_g...  [US-GA] [H] PC KEY65, GMK Merlin [W] PayPal, T...  "
      ],
      "text/html": "<div>\n<style scoped>\n    .dataframe tbody tr th:only-of-type {\n        vertical-align: middle;\n    }\n\n    .dataframe tbody tr th {\n        vertical-align: top;\n    }\n\n    .dataframe thead th {\n        text-align: right;\n    }\n</style>\n<table border=\"1\" class=\"dataframe\">\n  <thead>\n    <tr style=\"text-align: right;\">\n      <th></th>\n      <th></th>\n      <th>post</th>\n      <th>rawtext</th>\n      <th>title</th>\n    </tr>\n    <tr>\n      <th>author</th>\n      <th>link</th>\n      <th></th>\n      <th></th>\n      <th></th>\n    </tr>\n  </thead>\n  <tbody>\n    <tr>\n      <th>GreenyOstrichy</th>\n      <th>/r/mechmarket/comments/l1t1u6/cabc_h_paypal_w_old_epbt_sets_gateron_molds_2016/</th>\n      <td>Open to all offers, PM</td>\n      <td>Sold GMK Camping R2 to /u/SplifoMode</td>\n      <td>[CA-BC] [H] PayPal [W] Old Epbt sets (gateron ...</td>\n    </tr>\n    <tr>\n      <th>rath_k</th>\n      <th>/r/mechmarket/comments/l8bmmu/usmi_h_gmk_cafe_bnib_gmk_olivia_bnib_tulia/</th>\n      <td>[Timestamps](https://imgur.com/a/atjuMNc)\\n\\n&amp;...</td>\n      <td>Bought GMK Cafe from u/rath_k</td>\n      <td>[US-MI] [H] GMK Cafe BNIB, GMK Olivia++ BNIB, ...</td>\n    </tr>\n    <tr>\n      <th>Krasztest01</th>\n      <th>/r/mechmarket/comments/l424x4/euplhgmk_botanical_90xh1_switches_wpaypal_revolut/</th>\n      <td>[Timestamp](https://imgur.com/a/WrVBtSG)\\n\\n&amp;#...</td>\n      <td>Sold GMK Botanical to u/westend14</td>\n      <td>[EU-PL][H]GMK Botanical, 90xH1 Switches [W]Pay...</td>\n    </tr>\n    <tr>\n      <th rowspan=\"2\" valign=\"top\">Mr_BillButtlicker</th>\n      <th>/r/mechmarket/comments/l1fckk/usga_h_gmk_merlin_w_200_paypal_or_trades/</th>\n      <td>Hi all,\\n\\n[timestamp ](https://imgur.com/gall...</td>\n      <td>Sold GMK Merlin to u/inphinity</td>\n      <td>[US-GA] [H] GMK Merlin [W] 200$ PayPal or Trades</td>\n    </tr>\n    <tr>\n      <th>/r/mechmarket/comments/kvg1uw/usga_h_pc_key65_gmk_merlin_w_paypal_trades/</th>\n      <td>\\nHi all,\\n\\n[timestamp ](https://imgur.com/ga...</td>\n      <td>Sold GMK Merlin to u/inphinity</td>\n      <td>[US-GA] [H] PC KEY65, GMK Merlin [W] PayPal, T...</td>\n    </tr>\n  </tbody>\n</table>\n</div>"
     },
     "metadata": {},
     "execution_count": 3
    }
   ],
   "source": [
    "df = pd.read_csv('smallFebGMK.csv')\n",
    "df.drop(df.columns[0], axis=1, inplace=True)\n",
    "df.drop_duplicates(subset=[\"link\"], inplace=True)\n",
    "df.set_index(['author', 'link'], inplace=True)\n",
    "df.head()"
   ]
  },
  {
   "cell_type": "code",
   "execution_count": 4,
   "metadata": {},
   "outputs": [
    {
     "output_type": "execute_result",
     "data": {
      "text/plain": [
       "((154, 5), (202, 5))"
      ]
     },
     "metadata": {},
     "execution_count": 4
    }
   ],
   "source": [
    "df['post_lower'] = df['post'].str.lower()\n",
    "df['title_lower'] = df['title'].str.lower()\n",
    "only_gmk = df[df['post_lower'].str.contains('gmk') | df['title_lower'].str.contains('gmk')].copy()\n",
    "only_gmk.shape, df.shape"
   ]
  },
  {
   "cell_type": "code",
   "execution_count": 5,
   "metadata": {},
   "outputs": [
    {
     "output_type": "execute_result",
     "data": {
      "text/plain": [
       "                                                                                                                   post  \\\n",
       "author            link                                                                                                    \n",
       "rath_k            /r/mechmarket/comments/l8bmmu/usmi_h_gmk_cafe_b...  [Timestamps](https://imgur.com/a/atjuMNc)\\n\\n&...   \n",
       "Krasztest01       /r/mechmarket/comments/l424x4/euplhgmk_botanica...  [Timestamp](https://imgur.com/a/WrVBtSG)\\n\\n&#...   \n",
       "Mr_BillButtlicker /r/mechmarket/comments/l1fckk/usga_h_gmk_merlin...  Hi all,\\n\\n[timestamp ](https://imgur.com/gall...   \n",
       "                  /r/mechmarket/comments/kvg1uw/usga_h_pc_key65_g...  \\nHi all,\\n\\n[timestamp ](https://imgur.com/ga...   \n",
       "                  /r/mechmarket/comments/kqbs9o/usga_h_pc_key65_g...  Hi all,\\n\\n[timestamp ](https://imgur.com/gall...   \n",
       "...                                                                                                                 ...   \n",
       "Darkemajik        /r/mechmarket/comments/lh6bql/usca_h_rama_u80a_...  Post is outdated! Here's the [link](https://ww...   \n",
       "ra1nnn            /r/mechmarket/comments/lkm7vm/usca_h_gmk_zhuyin...  [stampsstampstamps](https://i.imgur.com/zTUPbE...   \n",
       "Acabi             /r/mechmarket/comments/lnsaoi/usca_h_gmk_taro_b...  Hello everyone! All shipping and fees are incl...   \n",
       "Clleno            /r/mechmarket/comments/lilnp8/usca_h_built_eo87...  [Timestamp](https://imgur.com/a/S705CqX?fbclid...   \n",
       "                  /r/mechmarket/comments/l2cgea/usca_h_polycarbon...  [Timestamp](https://imgur.com/a/ANTp6Vy?fbclid...   \n",
       "\n",
       "                                                                                                                rawtext  \\\n",
       "author            link                                                                                                    \n",
       "rath_k            /r/mechmarket/comments/l8bmmu/usmi_h_gmk_cafe_b...                      Bought GMK Cafe from u/rath_k   \n",
       "Krasztest01       /r/mechmarket/comments/l424x4/euplhgmk_botanica...                  Sold GMK Botanical to u/westend14   \n",
       "Mr_BillButtlicker /r/mechmarket/comments/l1fckk/usga_h_gmk_merlin...                     Sold GMK Merlin to u/inphinity   \n",
       "                  /r/mechmarket/comments/kvg1uw/usga_h_pc_key65_g...                     Sold GMK Merlin to u/inphinity   \n",
       "                  /r/mechmarket/comments/kqbs9o/usga_h_pc_key65_g...                     Sold GMK Merlin to u/inphinity   \n",
       "...                                                                                                                 ...   \n",
       "Darkemajik        /r/mechmarket/comments/lh6bql/usca_h_rama_u80a_...  Bought GMK Olivia Dark ++ Spacebars Kit from  ...   \n",
       "ra1nnn            /r/mechmarket/comments/lkm7vm/usca_h_gmk_zhuyin...             Bought gmk zhuyin alphas from u/ra1nnn   \n",
       "Acabi             /r/mechmarket/comments/lnsaoi/usca_h_gmk_taro_b...           Sold N9 GMK Relegendables to u/F3Company   \n",
       "Clleno            /r/mechmarket/comments/lilnp8/usca_h_built_eo87...  Bought GMK Taro R2 accent & novelties kits fro...   \n",
       "                  /r/mechmarket/comments/l2cgea/usca_h_polycarbon...  Bought GMK Taro R2 accent & novelties kits fro...   \n",
       "\n",
       "                                                                                                                  title  \\\n",
       "author            link                                                                                                    \n",
       "rath_k            /r/mechmarket/comments/l8bmmu/usmi_h_gmk_cafe_b...  [US-MI] [H] GMK Cafe BNIB, GMK Olivia++ BNIB, ...   \n",
       "Krasztest01       /r/mechmarket/comments/l424x4/euplhgmk_botanica...  [EU-PL][H]GMK Botanical, 90xH1 Switches [W]Pay...   \n",
       "Mr_BillButtlicker /r/mechmarket/comments/l1fckk/usga_h_gmk_merlin...   [US-GA] [H] GMK Merlin [W] 200$ PayPal or Trades   \n",
       "                  /r/mechmarket/comments/kvg1uw/usga_h_pc_key65_g...  [US-GA] [H] PC KEY65, GMK Merlin [W] PayPal, T...   \n",
       "                  /r/mechmarket/comments/kqbs9o/usga_h_pc_key65_g...  [US-GA] [H] PC KEY65, GMK Merlin [W] PayPal, T...   \n",
       "...                                                                                                                 ...   \n",
       "Darkemajik        /r/mechmarket/comments/lh6bql/usca_h_rama_u80a_...  [US-CA] [H] RAMA U80-A Kuro/Milk, GMK Finer Th...   \n",
       "ra1nnn            /r/mechmarket/comments/lkm7vm/usca_h_gmk_zhuyin...  [US-CA] [H] GMK Zhuyin WoB, Keyforge Shishi (L...   \n",
       "Acabi             /r/mechmarket/comments/lnsaoi/usca_h_gmk_taro_b...  [US-CA] [H] GMK Taro Boba Alphas, GMK N9 Releg...   \n",
       "Clleno            /r/mechmarket/comments/lilnp8/usca_h_built_eo87...  [US-CA] [H] Built EO-87, GMK Bingsu, EPBT Kon ...   \n",
       "                  /r/mechmarket/comments/l2cgea/usca_h_polycarbon...  [US-CA] [H] Polycarbonate MAJA , GMK Taro Acce...   \n",
       "\n",
       "                                                                                                             post_lower  \\\n",
       "author            link                                                                                                    \n",
       "rath_k            /r/mechmarket/comments/l8bmmu/usmi_h_gmk_cafe_b...  [timestamps](https://imgur.com/a/atjumnc)\\n\\n&...   \n",
       "Krasztest01       /r/mechmarket/comments/l424x4/euplhgmk_botanica...  [timestamp](https://imgur.com/a/wrvbtsg)\\n\\n&#...   \n",
       "Mr_BillButtlicker /r/mechmarket/comments/l1fckk/usga_h_gmk_merlin...  hi all,\\n\\n[timestamp ](https://imgur.com/gall...   \n",
       "                  /r/mechmarket/comments/kvg1uw/usga_h_pc_key65_g...  \\nhi all,\\n\\n[timestamp ](https://imgur.com/ga...   \n",
       "                  /r/mechmarket/comments/kqbs9o/usga_h_pc_key65_g...  hi all,\\n\\n[timestamp ](https://imgur.com/gall...   \n",
       "...                                                                                                                 ...   \n",
       "Darkemajik        /r/mechmarket/comments/lh6bql/usca_h_rama_u80a_...  post is outdated! here's the [link](https://ww...   \n",
       "ra1nnn            /r/mechmarket/comments/lkm7vm/usca_h_gmk_zhuyin...  [stampsstampstamps](https://i.imgur.com/ztupbe...   \n",
       "Acabi             /r/mechmarket/comments/lnsaoi/usca_h_gmk_taro_b...  hello everyone! all shipping and fees are incl...   \n",
       "Clleno            /r/mechmarket/comments/lilnp8/usca_h_built_eo87...  [timestamp](https://imgur.com/a/s705cqx?fbclid...   \n",
       "                  /r/mechmarket/comments/l2cgea/usca_h_polycarbon...  [timestamp](https://imgur.com/a/antp6vy?fbclid...   \n",
       "\n",
       "                                                                                                            title_lower  \\\n",
       "author            link                                                                                                    \n",
       "rath_k            /r/mechmarket/comments/l8bmmu/usmi_h_gmk_cafe_b...  [us-mi] [h] gmk cafe bnib, gmk olivia++ bnib, ...   \n",
       "Krasztest01       /r/mechmarket/comments/l424x4/euplhgmk_botanica...  [eu-pl][h]gmk botanical, 90xh1 switches [w]pay...   \n",
       "Mr_BillButtlicker /r/mechmarket/comments/l1fckk/usga_h_gmk_merlin...   [us-ga] [h] gmk merlin [w] 200$ paypal or trades   \n",
       "                  /r/mechmarket/comments/kvg1uw/usga_h_pc_key65_g...  [us-ga] [h] pc key65, gmk merlin [w] paypal, t...   \n",
       "                  /r/mechmarket/comments/kqbs9o/usga_h_pc_key65_g...  [us-ga] [h] pc key65, gmk merlin [w] paypal, t...   \n",
       "...                                                                                                                 ...   \n",
       "Darkemajik        /r/mechmarket/comments/lh6bql/usca_h_rama_u80a_...  [us-ca] [h] rama u80-a kuro/milk, gmk finer th...   \n",
       "ra1nnn            /r/mechmarket/comments/lkm7vm/usca_h_gmk_zhuyin...  [us-ca] [h] gmk zhuyin wob, keyforge shishi (l...   \n",
       "Acabi             /r/mechmarket/comments/lnsaoi/usca_h_gmk_taro_b...  [us-ca] [h] gmk taro boba alphas, gmk n9 releg...   \n",
       "Clleno            /r/mechmarket/comments/lilnp8/usca_h_built_eo87...  [us-ca] [h] built eo-87, gmk bingsu, epbt kon ...   \n",
       "                  /r/mechmarket/comments/l2cgea/usca_h_polycarbon...  [us-ca] [h] polycarbonate maja , gmk taro acce...   \n",
       "\n",
       "                                                                           product_name  \n",
       "author            link                                                                   \n",
       "rath_k            /r/mechmarket/comments/l8bmmu/usmi_h_gmk_cafe_b...           gmk cafe  \n",
       "Krasztest01       /r/mechmarket/comments/l424x4/euplhgmk_botanica...      gmk botanical  \n",
       "Mr_BillButtlicker /r/mechmarket/comments/l1fckk/usga_h_gmk_merlin...         gmk merlin  \n",
       "                  /r/mechmarket/comments/kvg1uw/usga_h_pc_key65_g...         gmk merlin  \n",
       "                  /r/mechmarket/comments/kqbs9o/usga_h_pc_key65_g...         gmk merlin  \n",
       "...                                                                                 ...  \n",
       "Darkemajik        /r/mechmarket/comments/lh6bql/usca_h_rama_u80a_...         gmk olivia  \n",
       "ra1nnn            /r/mechmarket/comments/lkm7vm/usca_h_gmk_zhuyin...         gmk zhuyin  \n",
       "Acabi             /r/mechmarket/comments/lnsaoi/usca_h_gmk_taro_b...  gmk relegendables  \n",
       "Clleno            /r/mechmarket/comments/lilnp8/usca_h_built_eo87...           gmk taro  \n",
       "                  /r/mechmarket/comments/l2cgea/usca_h_polycarbon...           gmk taro  \n",
       "\n",
       "[154 rows x 6 columns]"
      ],
      "text/html": "<div>\n<style scoped>\n    .dataframe tbody tr th:only-of-type {\n        vertical-align: middle;\n    }\n\n    .dataframe tbody tr th {\n        vertical-align: top;\n    }\n\n    .dataframe thead th {\n        text-align: right;\n    }\n</style>\n<table border=\"1\" class=\"dataframe\">\n  <thead>\n    <tr style=\"text-align: right;\">\n      <th></th>\n      <th></th>\n      <th>post</th>\n      <th>rawtext</th>\n      <th>title</th>\n      <th>post_lower</th>\n      <th>title_lower</th>\n      <th>product_name</th>\n    </tr>\n    <tr>\n      <th>author</th>\n      <th>link</th>\n      <th></th>\n      <th></th>\n      <th></th>\n      <th></th>\n      <th></th>\n      <th></th>\n    </tr>\n  </thead>\n  <tbody>\n    <tr>\n      <th>rath_k</th>\n      <th>/r/mechmarket/comments/l8bmmu/usmi_h_gmk_cafe_bnib_gmk_olivia_bnib_tulia/</th>\n      <td>[Timestamps](https://imgur.com/a/atjuMNc)\\n\\n&amp;...</td>\n      <td>Bought GMK Cafe from u/rath_k</td>\n      <td>[US-MI] [H] GMK Cafe BNIB, GMK Olivia++ BNIB, ...</td>\n      <td>[timestamps](https://imgur.com/a/atjumnc)\\n\\n&amp;...</td>\n      <td>[us-mi] [h] gmk cafe bnib, gmk olivia++ bnib, ...</td>\n      <td>gmk cafe</td>\n    </tr>\n    <tr>\n      <th>Krasztest01</th>\n      <th>/r/mechmarket/comments/l424x4/euplhgmk_botanical_90xh1_switches_wpaypal_revolut/</th>\n      <td>[Timestamp](https://imgur.com/a/WrVBtSG)\\n\\n&amp;#...</td>\n      <td>Sold GMK Botanical to u/westend14</td>\n      <td>[EU-PL][H]GMK Botanical, 90xH1 Switches [W]Pay...</td>\n      <td>[timestamp](https://imgur.com/a/wrvbtsg)\\n\\n&amp;#...</td>\n      <td>[eu-pl][h]gmk botanical, 90xh1 switches [w]pay...</td>\n      <td>gmk botanical</td>\n    </tr>\n    <tr>\n      <th rowspan=\"3\" valign=\"top\">Mr_BillButtlicker</th>\n      <th>/r/mechmarket/comments/l1fckk/usga_h_gmk_merlin_w_200_paypal_or_trades/</th>\n      <td>Hi all,\\n\\n[timestamp ](https://imgur.com/gall...</td>\n      <td>Sold GMK Merlin to u/inphinity</td>\n      <td>[US-GA] [H] GMK Merlin [W] 200$ PayPal or Trades</td>\n      <td>hi all,\\n\\n[timestamp ](https://imgur.com/gall...</td>\n      <td>[us-ga] [h] gmk merlin [w] 200$ paypal or trades</td>\n      <td>gmk merlin</td>\n    </tr>\n    <tr>\n      <th>/r/mechmarket/comments/kvg1uw/usga_h_pc_key65_gmk_merlin_w_paypal_trades/</th>\n      <td>\\nHi all,\\n\\n[timestamp ](https://imgur.com/ga...</td>\n      <td>Sold GMK Merlin to u/inphinity</td>\n      <td>[US-GA] [H] PC KEY65, GMK Merlin [W] PayPal, T...</td>\n      <td>\\nhi all,\\n\\n[timestamp ](https://imgur.com/ga...</td>\n      <td>[us-ga] [h] pc key65, gmk merlin [w] paypal, t...</td>\n      <td>gmk merlin</td>\n    </tr>\n    <tr>\n      <th>/r/mechmarket/comments/kqbs9o/usga_h_pc_key65_gmk_merlin_w_paypal_trades/</th>\n      <td>Hi all,\\n\\n[timestamp ](https://imgur.com/gall...</td>\n      <td>Sold GMK Merlin to u/inphinity</td>\n      <td>[US-GA] [H] PC KEY65, GMK Merlin [W] PayPal, T...</td>\n      <td>hi all,\\n\\n[timestamp ](https://imgur.com/gall...</td>\n      <td>[us-ga] [h] pc key65, gmk merlin [w] paypal, t...</td>\n      <td>gmk merlin</td>\n    </tr>\n    <tr>\n      <th>...</th>\n      <th>...</th>\n      <td>...</td>\n      <td>...</td>\n      <td>...</td>\n      <td>...</td>\n      <td>...</td>\n      <td>...</td>\n    </tr>\n    <tr>\n      <th>Darkemajik</th>\n      <th>/r/mechmarket/comments/lh6bql/usca_h_rama_u80a_kuromilk_gmk_finer_things_base/</th>\n      <td>Post is outdated! Here's the [link](https://ww...</td>\n      <td>Bought GMK Olivia Dark ++ Spacebars Kit from  ...</td>\n      <td>[US-CA] [H] RAMA U80-A Kuro/Milk, GMK Finer Th...</td>\n      <td>post is outdated! here's the [link](https://ww...</td>\n      <td>[us-ca] [h] rama u80-a kuro/milk, gmk finer th...</td>\n      <td>gmk olivia</td>\n    </tr>\n    <tr>\n      <th>ra1nnn</th>\n      <th>/r/mechmarket/comments/lkm7vm/usca_h_gmk_zhuyin_wob_keyforge_shishi_lord_of_ivy/</th>\n      <td>[stampsstampstamps](https://i.imgur.com/zTUPbE...</td>\n      <td>Bought gmk zhuyin alphas from u/ra1nnn</td>\n      <td>[US-CA] [H] GMK Zhuyin WoB, Keyforge Shishi (L...</td>\n      <td>[stampsstampstamps](https://i.imgur.com/ztupbe...</td>\n      <td>[us-ca] [h] gmk zhuyin wob, keyforge shishi (l...</td>\n      <td>gmk zhuyin</td>\n    </tr>\n    <tr>\n      <th>Acabi</th>\n      <th>/r/mechmarket/comments/lnsaoi/usca_h_gmk_taro_boba_alphas_gmk_n9_relegendables/</th>\n      <td>Hello everyone! All shipping and fees are incl...</td>\n      <td>Sold N9 GMK Relegendables to u/F3Company</td>\n      <td>[US-CA] [H] GMK Taro Boba Alphas, GMK N9 Releg...</td>\n      <td>hello everyone! all shipping and fees are incl...</td>\n      <td>[us-ca] [h] gmk taro boba alphas, gmk n9 releg...</td>\n      <td>gmk relegendables</td>\n    </tr>\n    <tr>\n      <th rowspan=\"2\" valign=\"top\">Clleno</th>\n      <th>/r/mechmarket/comments/lilnp8/usca_h_built_eo87_gmk_bingsu_epbt_kon_momo_taro/</th>\n      <td>[Timestamp](https://imgur.com/a/S705CqX?fbclid...</td>\n      <td>Bought GMK Taro R2 accent &amp; novelties kits fro...</td>\n      <td>[US-CA] [H] Built EO-87, GMK Bingsu, EPBT Kon ...</td>\n      <td>[timestamp](https://imgur.com/a/s705cqx?fbclid...</td>\n      <td>[us-ca] [h] built eo-87, gmk bingsu, epbt kon ...</td>\n      <td>gmk taro</td>\n    </tr>\n    <tr>\n      <th>/r/mechmarket/comments/l2cgea/usca_h_polycarbonate_maja_gmk_taro_accent_kit/</th>\n      <td>[Timestamp](https://imgur.com/a/ANTp6Vy?fbclid...</td>\n      <td>Bought GMK Taro R2 accent &amp; novelties kits fro...</td>\n      <td>[US-CA] [H] Polycarbonate MAJA , GMK Taro Acce...</td>\n      <td>[timestamp](https://imgur.com/a/antp6vy?fbclid...</td>\n      <td>[us-ca] [h] polycarbonate maja , gmk taro acce...</td>\n      <td>gmk taro</td>\n    </tr>\n  </tbody>\n</table>\n<p>154 rows × 6 columns</p>\n</div>"
     },
     "metadata": {},
     "execution_count": 5
    }
   ],
   "source": [
    "def split_on_gmk(x):\n",
    "    a = x.lower().split(\"gmk\")[1]\n",
    "    return \"gmk \" + a.split()[0]\n",
    "\n",
    "only_gmk['product_name'] = only_gmk['rawtext'].apply(split_on_gmk)\n",
    "only_gmk"
   ]
  },
  {
   "cell_type": "code",
   "execution_count": 33,
   "metadata": {
    "tags": [
     "outputPrepend"
    ]
   },
   "outputs": [
    {
     "output_type": "stream",
     "name": "stdout",
     "text": [
      " bar CURRENT STRING: ~~gmk olivia++ (dark base + spacebars)~~ | ~~ PRICE: 300\nFULL LINE: ~~gmk olivia++ (light base + spacebars)~~ | ~~$365~~ | ~~[pics](https://imgur.com/a/nql1ufd)~~ | ~~still sealed~~ | **sold**\nPRODUCT: gmk olivia++, light base, bar CURRENT STRING: ~~gmk olivia++ (light base + spacebars)~~ | ~~ PRICE: 365\nFULL LINE: ~~gmk camping r2 (base + novelties + spacebars)~~ | ~~$380~~ | ~~[pics](https://imgur.com/a/yppyt8d)~~ | ~~still sealed~~ | **sold**\nPRODUCT: gmk camping, base, novelties, bar CURRENT STRING: ~~gmk camping r2 (base + novelties + spacebars)~~ | ~~ PRICE: 380\nFULL LINE: ~~gmk camping r2 latin alphas + gmk camping r1 novelties~~ | ~~$275~~ | ~~[pics](https://imgur.com/a/pdtafx5)~~ | ~~still sealed, lets you convert your existing r2 into r1~~ | **sold**\nPRODUCT: gmk camping, novelties, alphas CURRENT STRING: ~~gmk camping r2 latin alphas + gmk camping r1 novelties~~ | ~~ PRICE: 275\nFULL LINE: ~~gmk ursa (base + novelties + spacebars)~~ | ~~$320~~ | ~~[pics](https://imgur.com/a/etnpslo)~~ | ~~still sealed~~ | **sold**\nPRODUCT: gmk ursa, base, novelties, bar CURRENT STRING: ~~gmk ursa (base + novelties + spacebars)~~ | ~~ PRICE: 320\nFULL LINE: ~~gmk heck (1 set left): ~~$41~~ ~~$28~~ ~~**$15**~~ ~~shipped conus.~~\nPRODUCT: gmk heck, base CURRENT STRING: ~~gmk heck (1 set left): ~~ PRICE: 15\nFULL LINE: gmk heck (all sets): ~~$41~~ **$28** shipped conus.\nPRODUCT: gmk heck, base CURRENT STRING: gmk heck (all sets): ~~ PRICE: 28\nFULL LINE: ~~gmk carbon: $185 shipped conus.~~\nPRODUCT: gmk carbon:, base CURRENT STRING: ~~gmk carbon:  PRICE: 185\nFULL LINE: ~~**gmk bleached rama x and o cap $110 each**~~ **both sold**\nPRODUCT: gmk bleached, rama CURRENT STRING: ~~**gmk bleached rama x and o cap  PRICE: 110\nFULL LINE: |~~gmk fuyu base kit~~ **sold**|~~sealed~~|~~$300 shipped~~|\nPRODUCT: gmk fuyu, base CURRENT STRING: |~~gmk fuyu base kit~~ **sold**|~~sealed~~|~~ PRICE: 300\nFULL LINE: |~~gmk fuyu deskmat~~ **sold**|~~brand new, never used; (still in shipping packaging)~~|~~$45 shipped~~|\nPRODUCT: gmk fuyu, deskmat CURRENT STRING: |~~gmk fuyu deskmat~~ **sold**|~~brand new, never used; (still in shipping packaging)~~|~~ PRICE: 45\nFULL LINE: |~~gmk olivia++ light deskmat~~ **sold**|~~brand new, never used~~|~~$50 shipped~~|\nPRODUCT: gmk olivia++, deskmat CURRENT STRING: |~~gmk olivia++ light deskmat~~ **sold**|~~brand new, never used~~|~~ PRICE: 50\nFULL LINE: |~~gmk dots horizontal deskmat~~  **sold**|~~brand new, never used~~|~~$45 shipped~~|\nPRODUCT: gmk dots, deskmat CURRENT STRING: |~~gmk dots horizontal deskmat~~  **sold**|~~brand new, never used~~|~~ PRICE: 45\nFULL LINE: |[gmk dmg + spacebars](https://imgur.com/4i5ghhi)|$350 shipped, paypal, us only|~~available~~ sold for asking|brand new in box|\nPRODUCT: gmk dmg, bar CURRENT STRING: |[gmk dmg + spacebars](https://imgur.com/4i5ghhi)| PRICE: 350\nFULL LINE: ~~hi mechmarket. selling gmk sandstorm base and space for~~ **~~$315 + shipping~~**~~. the keycaps will be~~ **~~shipped in bags~~** *~~(the jtk trays in the pictures will not be included)~~*~~. shipping from sg to conus is estimated to be around $25-$40, but please pm me for a quote. the tsangan layout keycaps with accents were very lightly used, but there's no visible shine as far as i can tell.~~\nPRODUCT: gmk sandstorm, base CURRENT STRING: ~~hi mechmarket. selling gmk sandstorm base and space for~~ **~~ PRICE: 25\nFULL LINE: [gmk first love and rama](https://imgur.com/a/fcvbjf0) \\- ~~bought this set used from another user here a couple days ago. unfortunately have to get rid of it. the set still looks great, althought there is some slight shine on the spacebar and subtle visible shine on w,a,s,d and shift keys. the rama you can see in the picture i also bought with a couple of scuffs on the bottom end, but not visible when in a case or mounted. all of the rest of the keycaps other than a basic 65% layout were never touched. .~~ **~~$330 shipped in box $320 shipped in bags.~~** **~~base kit sold for $220. rama still avilable for $80 shipped~~**\nPRODUCT: gmk first, bar, rama CURRENT STRING: [gmk first love and rama](https://imgur.com/a/fcvbjf0) \\- ~~bought this set used from another user here a couple days ago. unfortunately have to get rid of it. the set still looks great, althought there is some slight shine on the spacebar and subtle visible shine on w,a,s,d and shift keys. the rama you can see in the picture i also bought with a couple of scuffs on the bottom end, but not visible when in a case or mounted. all of the rest of the keycaps other than a basic 65% layout were never touched. .~~ **~~ PRICE: 320\nPRODUCT: gmk first, base CURRENT STRING:  shipped in bags.~~** **~~base kit sold for  PRICE: 220\nPRODUCT: gmk first, rama CURRENT STRING: . rama still avilable for  PRICE: 80\nFULL LINE: [~~gmk first love rama~~](https://imgur.com/a/rwno8ek) ~~- bought this about a week ago from another user but have to let it go. there are some scratched on the bottom side, but can't be seen from display case or when mounted.~~ **~~$75 shipped obo~~** **sold**\nPRODUCT: gmk first, rama CURRENT STRING: [~~gmk first love rama~~](https://imgur.com/a/rwno8ek) ~~- bought this about a week ago from another user but have to let it go. there are some scratched on the bottom side, but can't be seen from display case or when mounted.~~ **~~ PRICE: 75\nFULL LINE: gmk nautilus r1 base | heavily used and shined. there are also a few scuffed keycaps with dents due to dropping my keyboard. throwing in a 4 ft usb-c naut-themed cable in for free to sweeten the deal.| ~~$120~~ sold\nPRODUCT: gmk nautilus, base CURRENT STRING: gmk nautilus r1 base | heavily used and shined. there are also a few scuffed keycaps with dents due to dropping my keyboard. throwing in a 4 ft usb-c naut-themed cable in for free to sweeten the deal.| ~~ PRICE: 120\nFULL LINE: **~~gmk camping bundle~~** ~~-  kits included: base, novelties, spacebars, latin alphas. typed on for a few weeks. latin alphas are still sealed. looking to keep all of this bundled.~~ **~~$375 shipped~~** *sold for $360 shipped*\nPRODUCT: gmk camping, base, novelties, alphas, bar CURRENT STRING: **~~gmk camping bundle~~** ~~-  kits included: base, novelties, spacebars, latin alphas. typed on for a few weeks. latin alphas are still sealed. looking to keep all of this bundled.~~ **~~ PRICE: 360\nFULL LINE: **gmk olivia++ dark** **~~bundle~~** \\- kits included: dark base, ~~extension kit~~. never typed on but mounted. would like to sell these together. **$275 shipped \\*** *someone really wanted the extension kit by itself so it's been sold for $80*\nPRODUCT: gmk olivia++, dark base CURRENT STRING: **gmk olivia++ dark** **~~bundle~~** \\- kits included: dark base, ~~extension kit~~. never typed on but mounted. would like to sell these together. ** PRICE: 80\nFULL LINE: **~~gmk taro r2 bundle~~** ~~- kits included: base, boba (purple) alphas, spacebars. typed on base for a few weeks, no shine. spacebars and alpha kit are still sealed. would like to keep this bundled as well.~~ **~~$400 shipped --~~** *~~this is pending for a local sale~~*  *sold locally for $300*\nPRODUCT: gmk taro, base, alphas, bar CURRENT STRING: **~~gmk taro r2 bundle~~** ~~- kits included: base, boba (purple) alphas, spacebars. typed on base for a few weeks, no shine. spacebars and alpha kit are still sealed. would like to keep this bundled as well.~~ **~~ PRICE: 300\nFULL LINE: **~~gmk eclipse + pale blue accents $220 shipped in box/tray~~** **sold for $210**\nPRODUCT: gmk eclipse, accents CURRENT STRING: **~~gmk eclipse + pale blue accents  PRICE: 210\nFULL LINE: **~~gmk oblivion monochrome  $220 shipped in box/tray~~** **sold for asking**\nPRODUCT: gmk oblivion, base CURRENT STRING: **~~gmk oblivion monochrome   PRICE: 220\nFULL LINE: ~~hello, i have an unopened set of gmk olivia++ dark (the black alphas) core set, never mounted and still in plastic. asking for $270 shipped conus only, thanks!~~\nPRODUCT: gmk olivia++, alphas CURRENT STRING: ~~hello, i have an unopened set of gmk olivia++ dark (the black alphas) core set, never mounted and still in plastic. asking for  PRICE: 270\nFULL LINE: |~~gmk nautilus, includes a dvorak/colemak kit 7u spacebar has some shine on left thumb.~~|~~220$~~|\nPRODUCT: gmk nautilus,, bar CURRENT STRING: |~~gmk nautilus, includes a dvorak/colemak kit 7u spacebar has some shine on left thumb.~~|~~ PRICE: 220\nFULL LINE: |~~gmk penumbra~~|~~180$~~|\nPRODUCT: gmk penumbra, base CURRENT STRING: |~~gmk penumbra~~|~~ PRICE: 180\nFULL LINE: ~~**gmk mizu base kit** (shown on blue maja which is not for sale) - lovingly cared for, never gamed on. tried to capture if there is any shine. it's minimal on the home row if anything at all. will ship in bag. **$340** sold $325~~\nPRODUCT: gmk mizu, base CURRENT STRING: ~~**gmk mizu base kit** (shown on blue maja which is not for sale) - lovingly cared for, never gamed on. tried to capture if there is any shine. it's minimal on the home row if anything at all. will ship in bag. ** PRICE: 325\nFULL LINE: ~~gmk noel (novelties) -- $80~~\nPRODUCT: gmk noel, novelties CURRENT STRING: ~~gmk noel (novelties) --  PRICE: 80\nFULL LINE: ~~gmk taro (novelties) -- $70~~\nPRODUCT: gmk taro, novelties CURRENT STRING: ~~gmk taro (novelties) --  PRICE: 70\nFULL LINE: ~~gmk taro r2 base $300~~ sold\nPRODUCT: gmk taro, base CURRENT STRING: ~~gmk taro r2 base  PRICE: 300\nFULL LINE: **~~gmk 8008 base + accent~~**~~: barely used. ships in a bag, - $270 shipped obo~~ sold\nPRODUCT: gmk 8008, base, bar CURRENT STRING: **~~gmk 8008 base + accent~~**~~: barely used. ships in a bag, -  PRICE: 270\nFULL LINE: **~~gmk metaverse r2 base, novelties, royal and spacebar~~**~~. brand new, sealed.  $470 shipped~~ sold\nPRODUCT: gmk metaverse, base, novelties, bar CURRENT STRING: **~~gmk metaverse r2 base, novelties, royal and spacebar~~**~~. brand new, sealed.   PRICE: 470\nFULL LINE: ~~gmk botanical base + novelties: brand new, sealed $420 shipped~~ **sold**\nPRODUCT: gmk botanical, base, novelties CURRENT STRING: ~~gmk botanical base + novelties: brand new, sealed  PRICE: 420\nFULL LINE: ~~gmk mastermind x rama gold pvd brass knife artisan: brand new $150 shipped obo~~ **sold**\nPRODUCT: gmk mastermind, rama CURRENT STRING: ~~gmk mastermind x rama gold pvd brass knife artisan: brand new  PRICE: 150\nFULL LINE: ~~gmk olivia++ light base: brand new, sealed: $350 shipped obo~~ **sold**\nPRODUCT: gmk olivia++, light base CURRENT STRING: ~~gmk olivia++ light base: brand new, sealed:  PRICE: 350\nFULL LINE: ~~**gmk 8008 base + accent**: barely used. ships in a bag - $330 shipped obo~~\nPRODUCT: gmk 8008, base, bar CURRENT STRING: ~~**gmk 8008 base + accent**: barely used. ships in a bag -  PRICE: 330\nFULL LINE: ~~**gmk metaverse r2 base, novelties, royal and spacebar**. brand new, sealed. - $470 shipped obo~~\nPRODUCT: gmk metaverse, base, novelties, bar CURRENT STRING: ~~**gmk metaverse r2 base, novelties, royal and spacebar**. brand new, sealed. -  PRICE: 470\nFULL LINE: |[~~gmk ursa base + spacebars + 40s~~](https://imgur.com/a/8hwshka)|~~base is only opened to check keys, the other 2 kits are sealed~~|~~$350 shipped in tray or $345 in bags sold spacebars for $65 and base+40s for $290~~|\nPRODUCT: gmk ursa, base, bar CURRENT STRING: |[~~gmk ursa base + spacebars + 40s~~](https://imgur.com/a/8hwshka)|~~base is only opened to check keys, the other 2 kits are sealed~~|~~ PRICE: 345\nPRODUCT: gmk ursa, bar CURRENT STRING:  in bags sold spacebars for  PRICE: 65\nPRODUCT: gmk ursa, base CURRENT STRING:  and base+40s for  PRICE: 290\nFULL LINE: |[~~gmk ursa base + spacebars~~](https://imgur.com/a/8hwshka)|~~if you really don't want the 40s, i could seek to sell it separately later, but i will priotize all 3 kits buyers~~|~~$320 shipped in tray or $315 shipped in bags sold~~|\nPRODUCT: gmk ursa, base, bar CURRENT STRING: |[~~gmk ursa base + spacebars~~](https://imgur.com/a/8hwshka)|~~if you really don't want the 40s, i could seek to sell it separately later, but i will priotize all 3 kits buyers~~|~~ PRICE: 315\nFULL LINE: |[~~gmk firefly base + (de)accents~~](https://imgur.com/a/on7o08c)|~~typed on for a few hours a month ago and then put everything back to tray, no shine~~|~~$315 shipped in tray or $310 shipped in bags, sold for $305 local pickup~~|\nPRODUCT: gmk firefly, base, accents CURRENT STRING: |[~~gmk firefly base + (de)accents~~](https://imgur.com/a/on7o08c)|~~typed on for a few hours a month ago and then put everything back to tray, no shine~~|~~ PRICE: 305\nFULL LINE: ~~gmk camping r2 - light shine, overall great condition - $215~~ sold for asking\nPRODUCT: gmk camping, base CURRENT STRING: ~~gmk camping r2 - light shine, overall great condition -  PRICE: 215\nFULL LINE: |~~gmk solarized/penumbra~~|~~selling together as they came. used for a month or so, minimal shine.~~|~~$300 shipped~~|\nPRODUCT: gmk solarized/penumbra, base CURRENT STRING: |~~gmk solarized/penumbra~~|~~selling together as they came. used for a month or so, minimal shine.~~|~~ PRICE: 300\nFULL LINE: ~~gmk olivia++ light base, new, $300.~~  sold for asking\nPRODUCT: gmk olivia++, light base CURRENT STRING: ~~gmk olivia++ light base, new,  PRICE: 300\nFULL LINE: * ~~gmk olivia ++ dark base and novelties~~ **~~$250~~**\nPRODUCT: gmk olivia, dark base, novelties CURRENT STRING: * ~~gmk olivia ++ dark base and novelties~~ **~~ PRICE: 250\nFULL LINE: ~~gmk delta base - used for a few months, no shine.  complete set including original box and trays.~~ **~~asking $300 shipped~~** sold to u/acceptable_ocelot\nPRODUCT: gmk delta, base CURRENT STRING: ~~gmk delta base - used for a few months, no shine.  complete set including original box and trays.~~ **~~asking  PRICE: 300\nFULL LINE: |gmk striker|mounted once other than that its not been used|$340 sold|\nPRODUCT: gmk striker|mounted, base CURRENT STRING: |gmk striker|mounted once other than that its not been used| PRICE: 340\nFULL LINE: |gmk night runner|new, comes with the fixed key|$270 sold|\nPRODUCT: gmk night, base CURRENT STRING: |gmk night runner|new, comes with the fixed key| PRICE: 270\nFULL LINE: gmk camping novelties:  $80 sold sold sold\nPRODUCT: gmk camping, novelties CURRENT STRING: gmk camping novelties:   PRICE: 80\nFULL LINE: it includes gmk mizu base kit, spacebars, novelties, and the tulia deskmat.  everything is used for about a month but typed on lightly. i cannot see any shine, even with harsh lighting. more pics can be provided but i tried to get some with harsh lighting in the timestamp. tulia mat has been used for almost a year straight, so there are a few tiny spots that will probably come out with it being cleaned off. i am looking for $450 shipped obo or trades for rama x and o keycaps. sold for 435\nPRODUCT: gmk mizu, base, novelties, bar, deskmat CURRENT STRING: it includes gmk mizu base kit, spacebars, novelties, and the tulia deskmat.  everything is used for about a month but typed on lightly. i cannot see any shine, even with harsh lighting. more pics can be provided but i tried to get some with harsh lighting in the timestamp. tulia mat has been used for almost a year straight, so there are a few tiny spots that will probably come out with it being cleaned off. i am looking for  PRICE: 450\nFULL LINE: ~~gmk zhuyin wob alphas add-on kit~~ |  ~~new, sealed~~ | ~~$170 shipped conus~~ | **sold**\nPRODUCT: gmk zhuyin, alphas CURRENT STRING: ~~gmk zhuyin wob alphas add-on kit~~ |  ~~new, sealed~~ | ~~ PRICE: 170\nFULL LINE: |~~gmk cafe bnib~~|~~bnib cafe~~|~~310$ shipped~~|no, sold asking|\nPRODUCT: gmk cafe, base CURRENT STRING: |~~gmk cafe bnib~~|~~bnib cafe~~|~~ PRICE: 310\nFULL LINE: |~~gmk nautilus 2 core~~|~~new, sealed~~|~~$265~~|sold to /u/mewogoginspin for asking|\nPRODUCT: gmk nautilus, base CURRENT STRING: |~~gmk nautilus 2 core~~|~~new, sealed~~|~~ PRICE: 265\nFULL LINE: |~~gmk botanical base, novelties, green rama~~|~~$525 sold as bundle~~|\nPRODUCT: gmk botanical, base, novelties, rama CURRENT STRING: |~~gmk botanical base, novelties, green rama~~|~~ PRICE: 525\nFULL LINE: ~~sealed gmk spirit base kit: $250~~ sold\nPRODUCT: gmk spirit, base CURRENT STRING: ~~sealed gmk spirit base kit:  PRICE: 250\nFULL LINE: sold* gmk jamon base - $200 shipped conus \nPRODUCT: gmk jamon, base CURRENT STRING: sold* gmk jamon base -  PRICE: 200\nFULL LINE: sold* gmk nines base - $200 shipped conus\nPRODUCT: gmk nines, base CURRENT STRING: sold* gmk nines base -  PRICE: 200\nFULL LINE: ~~gmk taro bundle of all kits - $345~~\nPRODUCT: gmk taro, base CURRENT STRING: ~~gmk taro bundle of all kits -  PRICE: 345\nFULL LINE: ~~gmk taro base kit - $300~~ sold for asking, ~~novelties - $60~~ sold for $55, ~~accents - $45~~ sold for asking\nPRODUCT: gmk taro, base CURRENT STRING: ~~gmk taro base kit -  PRICE: 300\nPRODUCT: gmk taro, novelties CURRENT STRING: ~~ sold for asking, ~~novelties -  PRICE: 55\nPRODUCT: gmk taro, accents CURRENT STRING: , ~~accents -  PRICE: 45\nFULL LINE: ~~gmk taro base kit+novelties+accents - $425~~\nPRODUCT: gmk taro, base, novelties, accents CURRENT STRING: ~~gmk taro base kit+novelties+accents -  PRICE: 425\nFULL LINE: ~~gmk taro r2 base kit - $300~~ sold for asking, ~~novelties - $70~~ sold for $55, ~~accents - $45~~ sold for asking\nPRODUCT: gmk taro, base CURRENT STRING: ~~gmk taro r2 base kit -  PRICE: 300\nPRODUCT: gmk taro, novelties CURRENT STRING: ~~ sold for asking, ~~novelties -  PRICE: 55\nPRODUCT: gmk taro, accents CURRENT STRING: , ~~accents -  PRICE: 45\nFULL LINE: ~~gmk oblivion v2 regular base kit+ hagoromo alphas - $360~~ sold for asking\nPRODUCT: gmk oblivion, base, alphas CURRENT STRING: ~~gmk oblivion v2 regular base kit+ hagoromo alphas -  PRICE: 360\nFULL LINE: ~~gmk taro base kit - $300~~ sold for asking, ~~accents - $45~~ sold for asking\nPRODUCT: gmk taro, base CURRENT STRING: ~~gmk taro base kit -  PRICE: 300\nPRODUCT: gmk taro, accents CURRENT STRING: ~~ sold for asking, ~~accents -  PRICE: 45\nFULL LINE: ~~gmk taro base kit+accents - $345~~\nPRODUCT: gmk taro, base, accents CURRENT STRING: ~~gmk taro base kit+accents -  PRICE: 345\nFULL LINE: ~~gmk taro r2 bundle of all kits - $425~~\nPRODUCT: gmk taro, base CURRENT STRING: ~~gmk taro r2 bundle of all kits -  PRICE: 425\nFULL LINE: ~~gmk taro r2 base kit - $300~~ sold for asking, ~~novelties - $70~~ sold for $55, ~~accents - $45~~ sold for asking\nPRODUCT: gmk taro, base CURRENT STRING: ~~gmk taro r2 base kit -  PRICE: 300\nPRODUCT: gmk taro, novelties CURRENT STRING: ~~ sold for asking, ~~novelties -  PRICE: 55\nPRODUCT: gmk taro, accents CURRENT STRING: , ~~accents -  PRICE: 45\nFULL LINE: |~~gmk nautilus nightmares base + novelties~~|like new, mounted once for pictures.|$265 shipped|\nPRODUCT: gmk nautilus, base, novelties CURRENT STRING: |~~gmk nautilus nightmares base + novelties~~|like new, mounted once for pictures.| PRICE: 265\nFULL LINE: ~~gmk classic retro (originative)- used,  no shine $230 shipped in og tray or $210 shipped in bag~~ sold\nPRODUCT: gmk classic, base CURRENT STRING: ~~gmk classic retro (originative)- used,  no shine  PRICE: 210\nFULL LINE: ~~gmk spacekeys- $50 shipped~~ sold\nPRODUCT: gmk spacekeys-, base CURRENT STRING: ~~gmk spacekeys-  PRICE: 50\nFULL LINE: ~~selling sealed gmk taro r2 base only~~ $280 usd. local free shipping.\nPRODUCT: gmk taro, base CURRENT STRING: ~~selling sealed gmk taro r2 base only~~  PRICE: 280\nFULL LINE: gmk olivia++ spacebars | brand new sealed | ~~$90 shipped, conus only~~ sold\nPRODUCT: gmk olivia++, bar CURRENT STRING: gmk olivia++ spacebars | brand new sealed | ~~ PRICE: 90\nFULL LINE: ~~gmk laser gaijin alphas, spacebars, and mitowaves (has shine on some keys) (most spacebars were never used)~~: $300 sold\nPRODUCT: gmk laser, alphas, bar CURRENT STRING: ~~gmk laser gaijin alphas, spacebars, and mitowaves (has shine on some keys) (most spacebars were never used)~~:  PRICE: 300\nFULL LINE: ~~gmk laser translucent keycaps (sealed) (dusk color):~~ $35 sold\nPRODUCT: gmk laser, base CURRENT STRING: ~~gmk laser translucent keycaps (sealed) (dusk color):~~  PRICE: 35\ndefaultdict(<class 'list'>, {})\n"
     ]
    }
   ],
   "source": [
    "from collections import defaultdict\n",
    "all_prices = defaultdict(list)\n",
    "\n",
    "money_regex = r'\\$(\\d+)|(\\d+)\\$'\n",
    "\n",
    "sets = ['base', 'nov', 'alphas', 'accents', 'bar', 'light base', 'dark base', 'deskmat', 'rama']\n",
    "\n",
    "def match_product(df):\n",
    "    for row in df.itertuples():\n",
    "        s = row.post_lower.split(\"\\n\")\n",
    "        product = row.product_name.lower()\n",
    "        for l in s:\n",
    "            low = l.lower()\n",
    "            if \"gmk\" in low and ('~~' in low or 'sold' in low):\n",
    "                #print(low)\n",
    "                a = low.split(\"gmk \")[1]\n",
    "                product_name = \"gmk \" + re.split(r\" |~\", a)[0]\n",
    "                \n",
    "                matches = re.split(money_regex, low)\n",
    "                temp_data = {}\n",
    "                if len(matches) > 1:\n",
    "                    print(f\"FULL LINE: {low}\")\n",
    "                    for i in range(0, len(matches)-1, 3):\n",
    "                        curr_price = int(matches[i+1] if matches[i+1] else matches[i+2])\n",
    "                        curr_str = matches[i]\n",
    "                        kits = []\n",
    "                        removeBase = False\n",
    "                        empty=True\n",
    "                        for x in sets:\n",
    "                            if x in curr_str:\n",
    "                                empty=False\n",
    "                                if x == 'nov':\n",
    "                                    kits.append('novelties')\n",
    "                                elif x == 'light base' or x == 'dark base':\n",
    "                                    kits.insert(0, f'{x}')\n",
    "                                    removeBase = True\n",
    "                                else:\n",
    "                                    kits.append(x)\n",
    "                        products = product_name\n",
    "                        if i == 0 and not kits:\n",
    "                            kits = ['base']\n",
    "                        for x in kits:\n",
    "                            if removeBase and x == 'base':\n",
    "                                continue\n",
    "                            products += f', {x}'\n",
    "                        \n",
    "                        if i == 0:\n",
    "                            temp_data[\"products\"] = products\n",
    "                            temp_data[\"str\"] = curr_str\n",
    "                            temp_data[\"price\"] = curr_price\n",
    "                        \n",
    "                        if kits and i > 0:\n",
    "                            #print(temp_data['products'])\n",
    "                            print(f\"PRODUCT: {temp_data['products']} CURRENT STRING: {temp_data['str']} PRICE: {temp_data['price']}\")\n",
    "                            temp_data[\"products\"] = products\n",
    "                            temp_data[\"str\"] = curr_str\n",
    "                            temp_data[\"price\"] = curr_price\n",
    "                        else:\n",
    "                            temp_data[\"price\"] = min(temp_data[\"price\"], curr_price)\n",
    "                        \n",
    "                    print(f\"PRODUCT: {temp_data['products']} CURRENT STRING: {temp_data['str']} PRICE: {temp_data['price']}\")\n",
    "    \n",
    "for i, new_df in only_gmk.groupby(level=0):\n",
    "    match_product(new_df)\n",
    "\n",
    "print(all_prices)"
   ]
  },
  {
   "cell_type": "code",
   "execution_count": null,
   "metadata": {},
   "outputs": [],
   "source": []
  }
 ],
 "metadata": {
  "kernelspec": {
   "name": "python379jvsc74a57bd0aee8b7b246df8f9039afb4144a1f6fd8d2ca17a180786b69acc140d282b71a49",
   "display_name": "Python 3.7.9 64-bit"
  },
  "metadata": {
   "interpreter": {
    "hash": "aee8b7b246df8f9039afb4144a1f6fd8d2ca17a180786b69acc140d282b71a49"
   }
  }
 },
 "nbformat": 4,
 "nbformat_minor": 2
}