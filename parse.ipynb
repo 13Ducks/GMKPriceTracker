{
 "cells": [
  {
   "cell_type": "code",
   "execution_count": 14,
   "metadata": {},
   "outputs": [],
   "source": [
    "import pandas as pd\n",
    "import re"
   ]
  },
  {
   "cell_type": "code",
   "execution_count": 15,
   "metadata": {},
   "outputs": [
    {
     "output_type": "execute_result",
     "data": {
      "text/plain": [
       "                                                            date  \\\n",
       "link                                                               \n",
       "/r/mechmarket/comments/jlwj7h/sgh_new_and_unbui...  1.604205e+09   \n",
       "/r/mechmarket/comments/jlwi4o/usca_h_mojo60_ewh...  1.604205e+09   \n",
       "/r/mechmarket/comments/jlvr38/usca_h_dsa_granit...  1.604201e+09   \n",
       "/r/mechmarket/comments/jlvjt9/uscah_gmk_fuyu_ku...  1.604200e+09   \n",
       "/r/mechmarket/comments/jlvcg1/uscahbuilt_kbd75v...  1.604199e+09   \n",
       "\n",
       "                                                                                                 post  \\\n",
       "link                                                                                                    \n",
       "/r/mechmarket/comments/jlwj7h/sgh_new_and_unbui...  [TX66 Timestamp](https://imgur.com/a/XvaXEQD)\\...   \n",
       "/r/mechmarket/comments/jlwi4o/usca_h_mojo60_ewh...  [**Timestamp**](https://imgur.com/a/LCN5jst)\\n...   \n",
       "/r/mechmarket/comments/jlvr38/usca_h_dsa_granit...  Timestamps:\\n\\n[https://drive.google.com/file/...   \n",
       "/r/mechmarket/comments/jlvjt9/uscah_gmk_fuyu_ku...  Stamp: https://imgur.com/a/qAbzDg3\\n\\nGMK Fuyu...   \n",
       "/r/mechmarket/comments/jlvcg1/uscahbuilt_kbd75v...  [TIMESTAMP](https://imgur.com/a/zwALQZ3)\\n\\nHa...   \n",
       "\n",
       "                                                                                                title  \n",
       "link                                                                                                   \n",
       "/r/mechmarket/comments/jlwj7h/sgh_new_and_unbui...  [SG][H] New and Unbuilt TX66 White, GMK Coral,...  \n",
       "/r/mechmarket/comments/jlwi4o/usca_h_mojo60_ewh...  [US-CA] [H] Mojo60 ewhite, DZ60RGB-ANSI v2 Hot...  \n",
       "/r/mechmarket/comments/jlvr38/usca_h_dsa_granit...  [US-CA] [H] DSA Granite Text Modifiers, DSA Hi...  \n",
       "/r/mechmarket/comments/jlvjt9/uscah_gmk_fuyu_ku...   [US-CA][H] GMK Fuyu, Kuro Shiro [W] Paypal, Cash  \n",
       "/r/mechmarket/comments/jlvcg1/uscahbuilt_kbd75v...  [US-CA][H]built KBD75V2, NK65ee blumen and smo...  "
      ],
      "text/html": "<div>\n<style scoped>\n    .dataframe tbody tr th:only-of-type {\n        vertical-align: middle;\n    }\n\n    .dataframe tbody tr th {\n        vertical-align: top;\n    }\n\n    .dataframe thead th {\n        text-align: right;\n    }\n</style>\n<table border=\"1\" class=\"dataframe\">\n  <thead>\n    <tr style=\"text-align: right;\">\n      <th></th>\n      <th>date</th>\n      <th>post</th>\n      <th>title</th>\n    </tr>\n    <tr>\n      <th>link</th>\n      <th></th>\n      <th></th>\n      <th></th>\n    </tr>\n  </thead>\n  <tbody>\n    <tr>\n      <th>/r/mechmarket/comments/jlwj7h/sgh_new_and_unbuilt_tx66_white_gmk_coral_gmk/</th>\n      <td>1.604205e+09</td>\n      <td>[TX66 Timestamp](https://imgur.com/a/XvaXEQD)\\...</td>\n      <td>[SG][H] New and Unbuilt TX66 White, GMK Coral,...</td>\n    </tr>\n    <tr>\n      <th>/r/mechmarket/comments/jlwi4o/usca_h_mojo60_ewhite_dz60rgbansi_v2_hotswap_pcb/</th>\n      <td>1.604205e+09</td>\n      <td>[**Timestamp**](https://imgur.com/a/LCN5jst)\\n...</td>\n      <td>[US-CA] [H] Mojo60 ewhite, DZ60RGB-ANSI v2 Hot...</td>\n    </tr>\n    <tr>\n      <th>/r/mechmarket/comments/jlvr38/usca_h_dsa_granite_text_modifiers_dsa_high/</th>\n      <td>1.604201e+09</td>\n      <td>Timestamps:\\n\\n[https://drive.google.com/file/...</td>\n      <td>[US-CA] [H] DSA Granite Text Modifiers, DSA Hi...</td>\n    </tr>\n    <tr>\n      <th>/r/mechmarket/comments/jlvjt9/uscah_gmk_fuyu_kuro_shiro_w_paypal_cash/</th>\n      <td>1.604200e+09</td>\n      <td>Stamp: https://imgur.com/a/qAbzDg3\\n\\nGMK Fuyu...</td>\n      <td>[US-CA][H] GMK Fuyu, Kuro Shiro [W] Paypal, Cash</td>\n    </tr>\n    <tr>\n      <th>/r/mechmarket/comments/jlvcg1/uscahbuilt_kbd75v2_nk65ee_blumen_and_smoke_gmk/</th>\n      <td>1.604199e+09</td>\n      <td>[TIMESTAMP](https://imgur.com/a/zwALQZ3)\\n\\nHa...</td>\n      <td>[US-CA][H]built KBD75V2, NK65ee blumen and smo...</td>\n    </tr>\n  </tbody>\n</table>\n</div>"
     },
     "metadata": {},
     "execution_count": 15
    }
   ],
   "source": [
    "filename = 'october2020.csv'\n",
    "df = pd.read_csv(f\"datasets/{filename}\")\n",
    "df.drop(df.columns[0], axis=1, inplace=True)\n",
    "df.dropna(subset=[\"post\"], inplace=True)\n",
    "df.set_index('link', inplace=True)\n",
    "df.head()"
   ]
  },
  {
   "cell_type": "code",
   "execution_count": 16,
   "metadata": {},
   "outputs": [
    {
     "output_type": "execute_result",
     "data": {
      "text/plain": [
       "((1181, 5), (1188, 5))"
      ]
     },
     "metadata": {},
     "execution_count": 16
    }
   ],
   "source": [
    "df['post_lower'] = df['post'].str.lower()\n",
    "df['title_lower'] = df['title'].str.lower()\n",
    "only_gmk = df[df['post_lower'].str.contains('gmk') | df['title_lower'].str.contains('gmk')].copy()\n",
    "\n",
    "only_gmk.shape, df.shape"
   ]
  },
  {
   "cell_type": "code",
   "execution_count": 35,
   "metadata": {
    "tags": []
   },
   "outputs": [],
   "source": [
    "from collections import defaultdict\n",
    "\n",
    "money_regex = r'([£€\\$]\\d+)|(\\d+[£€\\$])'\n",
    "euro_to_usd = 1.2\n",
    "pound_to_usd = 1.4\n",
    "\n",
    "sets = ['base', 'nov', 'alpha', 'accent', 'bars', 'spacebar', 'light base', 'dark base', 'deskmat', 'rama', '40s', '40\\'s', 'fourties', 'mods', 'extension', 'numpad']\n",
    "\n",
    "sales_data = []\n",
    "\n",
    "def get_category(products):\n",
    "    has_base = any(['base' in p for p in products])\n",
    "    if len(products) == 1 and has_base:\n",
    "        return 'base'\n",
    "    elif len(products) == 1:\n",
    "        return 'single'\n",
    "    elif len(products) > 1 and has_base:\n",
    "        return'bundle'\n",
    "    \n",
    "    return 'other'\n",
    "\n",
    "def match_product(row):\n",
    "    s = row.post_lower.split(\"\\n\")\n",
    "    for l in s:\n",
    "        low = l.lower()\n",
    "        if \"gmk \" in low and ('~~' in low or 'sold' in low):\n",
    "            after_gmk = low.split(\"gmk \")[1]\n",
    "            product_name = \"gmk \" + re.split(r\"[^\\w\\+\\.]\", after_gmk)[0]\n",
    "\n",
    "            if \"gmk stab\" in product_name or \"gmk screw\" in product_name:\n",
    "                continue\n",
    "\n",
    "            matches = re.split(money_regex, low)\n",
    "            temp_data = {}\n",
    "\n",
    "            if len(matches) > 1:\n",
    "                for i in range(0, len(matches)-1, 3):\n",
    "                    curr_price = int(matches[i+1][1:] if matches[i+1] else matches[i+2][:-1])\n",
    "                    currency = matches[i+1][0] if matches[i+1] else matches[i+2][-1]\n",
    "                    if currency == \"€\":\n",
    "                        curr_price = round(curr_price * euro_to_usd)\n",
    "                    if currency == \"£\":\n",
    "                        curr_price = round(curr_price * pound_to_usd)\n",
    "\n",
    "                    curr_str = matches[i]\n",
    "                    kits = []\n",
    "                    removeBase = False\n",
    "\n",
    "                    for x in sets:\n",
    "                        if x in curr_str:\n",
    "                            if x == 'nov':\n",
    "                                kits.append('novelties')\n",
    "                            elif x == 'light base' or x == 'dark base':\n",
    "                                removeBase = True\n",
    "                                kits.insert(0, x)\n",
    "                            elif x == 'bars' or x == 'spacebar':\n",
    "                                if 'spacebars' not in kits:\n",
    "                                    kits.append('spacebars')\n",
    "                            elif x in ['40s', '40\\'s', 'fourties']:\n",
    "                                kits.append('40s')\n",
    "                            else:\n",
    "                                kits.append(x)\n",
    "\n",
    "                    if i == 0 and not kits:\n",
    "                        kits.append('base')\n",
    "\n",
    "                    if removeBase and 'base' in kits:\n",
    "                        kits.remove('base')\n",
    "                    \n",
    "                    if i == 0:\n",
    "                        has_base = any(['base' in k for k in kits])\n",
    "                        if not has_base:\n",
    "                            for x in after_gmk.split(' '):\n",
    "                                if any([se in x for se in sets]):\n",
    "                                    break\n",
    "                                        \n",
    "                                if '+' in x or ',' in x:\n",
    "                                    if x == 'olivia++':\n",
    "                                        continue\n",
    "\n",
    "                                    kits.insert(0, 'base')\n",
    "                                    break\n",
    "\n",
    "                        temp_data[\"products\"] = kits\n",
    "                        temp_data[\"str\"] = curr_str\n",
    "                        temp_data[\"price\"] = curr_price\n",
    "\n",
    "                    if temp_data['products']:\n",
    "                        temp_data['category'] = get_category(temp_data['products'])\n",
    "                    \n",
    "                    if kits and i > 0:\n",
    "                        sales_data.append([row[0], product_name, temp_data['products'], temp_data['price'], temp_data['category'], row.date])\n",
    "                        temp_data[\"products\"] = kits\n",
    "                        temp_data[\"str\"] = curr_str\n",
    "                        temp_data[\"price\"] = curr_price\n",
    "                    else:\n",
    "                        temp_data[\"price\"] = min(temp_data[\"price\"], curr_price)\n",
    "\n",
    "                if temp_data['products']:\n",
    "                        temp_data['category'] = get_category(temp_data['products'])\n",
    "\n",
    "                sales_data.append([row[0], product_name, temp_data['products'], temp_data['price'], temp_data['category'], row.date])\n",
    "                \n",
    "\n",
    "for row in df.itertuples():\n",
    "    match_product(row)"
   ]
  },
  {
   "cell_type": "code",
   "execution_count": 36,
   "metadata": {},
   "outputs": [],
   "source": [
    "sales_df = pd.DataFrame(sales_data, columns=['link', 'product', 'sets', 'price', 'category', 'date'])\n",
    "sales_df['date'] = pd.to_datetime(sales_df['date'], unit = 's')\n",
    "\n",
    "import unicodedata\n",
    "remove_accents = lambda text: unicodedata.normalize('NFD', text).encode('ascii', 'ignore').decode(\"utf-8\")\n",
    "sales_df['product'] = sales_df['product'].apply(remove_accents)\n",
    "sales_df['product'].replace(r'\\W+$', '', regex=True, inplace=True)\n",
    "\n",
    "sales_df.to_csv('sales/sales_' + filename)"
   ]
  },
  {
   "cell_type": "code",
   "execution_count": 28,
   "metadata": {},
   "outputs": [],
   "source": [
    "sales_df.groupby('product')['link'].count().sort_values(ascending=False).to_csv('test.csv')"
   ]
  },
  {
   "cell_type": "code",
   "execution_count": null,
   "metadata": {},
   "outputs": [],
   "source": []
  }
 ],
 "metadata": {
  "kernelspec": {
   "name": "python379jvsc74a57bd0aee8b7b246df8f9039afb4144a1f6fd8d2ca17a180786b69acc140d282b71a49",
   "display_name": "Python 3.7.9 64-bit"
  },
  "metadata": {
   "interpreter": {
    "hash": "aee8b7b246df8f9039afb4144a1f6fd8d2ca17a180786b69acc140d282b71a49"
   }
  }
 },
 "nbformat": 4,
 "nbformat_minor": 2
}