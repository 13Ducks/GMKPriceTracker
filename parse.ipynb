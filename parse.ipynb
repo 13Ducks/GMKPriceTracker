{
 "cells": [
  {
   "cell_type": "code",
   "execution_count": 1,
   "metadata": {},
   "outputs": [],
   "source": [
    "import pandas as pd\n",
    "import re"
   ]
  },
  {
   "cell_type": "code",
   "execution_count": 22,
   "metadata": {},
   "outputs": [
    {
     "output_type": "execute_result",
     "data": {
      "text/plain": [
       "                                                                                                                   post  \\\n",
       "author            link                                                                                                    \n",
       "GreenyOstrichy    /r/mechmarket/comments/l1t1u6/cabc_h_paypal_w_o...                             Open to all offers, PM   \n",
       "rath_k            /r/mechmarket/comments/l8bmmu/usmi_h_gmk_cafe_b...  [Timestamps](https://imgur.com/a/atjuMNc)\\n\\n&...   \n",
       "Krasztest01       /r/mechmarket/comments/l424x4/euplhgmk_botanica...  [Timestamp](https://imgur.com/a/WrVBtSG)\\n\\n&#...   \n",
       "Mr_BillButtlicker /r/mechmarket/comments/l1fckk/usga_h_gmk_merlin...  Hi all,\\n\\n[timestamp ](https://imgur.com/gall...   \n",
       "                  /r/mechmarket/comments/kvg1uw/usga_h_pc_key65_g...  \\nHi all,\\n\\n[timestamp ](https://imgur.com/ga...   \n",
       "\n",
       "                                                                                                   rawtext  \\\n",
       "author            link                                                                                       \n",
       "GreenyOstrichy    /r/mechmarket/comments/l1t1u6/cabc_h_paypal_w_o...  Sold GMK Camping R2 to /u/SplifoMode   \n",
       "rath_k            /r/mechmarket/comments/l8bmmu/usmi_h_gmk_cafe_b...         Bought GMK Cafe from u/rath_k   \n",
       "Krasztest01       /r/mechmarket/comments/l424x4/euplhgmk_botanica...     Sold GMK Botanical to u/westend14   \n",
       "Mr_BillButtlicker /r/mechmarket/comments/l1fckk/usga_h_gmk_merlin...        Sold GMK Merlin to u/inphinity   \n",
       "                  /r/mechmarket/comments/kvg1uw/usga_h_pc_key65_g...        Sold GMK Merlin to u/inphinity   \n",
       "\n",
       "                                                                                                                  title  \n",
       "author            link                                                                                                   \n",
       "GreenyOstrichy    /r/mechmarket/comments/l1t1u6/cabc_h_paypal_w_o...  [CA-BC] [H] PayPal [W] Old Epbt sets (gateron ...  \n",
       "rath_k            /r/mechmarket/comments/l8bmmu/usmi_h_gmk_cafe_b...  [US-MI] [H] GMK Cafe BNIB, GMK Olivia++ BNIB, ...  \n",
       "Krasztest01       /r/mechmarket/comments/l424x4/euplhgmk_botanica...  [EU-PL][H]GMK Botanical, 90xH1 Switches [W]Pay...  \n",
       "Mr_BillButtlicker /r/mechmarket/comments/l1fckk/usga_h_gmk_merlin...   [US-GA] [H] GMK Merlin [W] 200$ PayPal or Trades  \n",
       "                  /r/mechmarket/comments/kvg1uw/usga_h_pc_key65_g...  [US-GA] [H] PC KEY65, GMK Merlin [W] PayPal, T...  "
      ],
      "text/html": "<div>\n<style scoped>\n    .dataframe tbody tr th:only-of-type {\n        vertical-align: middle;\n    }\n\n    .dataframe tbody tr th {\n        vertical-align: top;\n    }\n\n    .dataframe thead th {\n        text-align: right;\n    }\n</style>\n<table border=\"1\" class=\"dataframe\">\n  <thead>\n    <tr style=\"text-align: right;\">\n      <th></th>\n      <th></th>\n      <th>post</th>\n      <th>rawtext</th>\n      <th>title</th>\n    </tr>\n    <tr>\n      <th>author</th>\n      <th>link</th>\n      <th></th>\n      <th></th>\n      <th></th>\n    </tr>\n  </thead>\n  <tbody>\n    <tr>\n      <th>GreenyOstrichy</th>\n      <th>/r/mechmarket/comments/l1t1u6/cabc_h_paypal_w_old_epbt_sets_gateron_molds_2016/</th>\n      <td>Open to all offers, PM</td>\n      <td>Sold GMK Camping R2 to /u/SplifoMode</td>\n      <td>[CA-BC] [H] PayPal [W] Old Epbt sets (gateron ...</td>\n    </tr>\n    <tr>\n      <th>rath_k</th>\n      <th>/r/mechmarket/comments/l8bmmu/usmi_h_gmk_cafe_bnib_gmk_olivia_bnib_tulia/</th>\n      <td>[Timestamps](https://imgur.com/a/atjuMNc)\\n\\n&amp;...</td>\n      <td>Bought GMK Cafe from u/rath_k</td>\n      <td>[US-MI] [H] GMK Cafe BNIB, GMK Olivia++ BNIB, ...</td>\n    </tr>\n    <tr>\n      <th>Krasztest01</th>\n      <th>/r/mechmarket/comments/l424x4/euplhgmk_botanical_90xh1_switches_wpaypal_revolut/</th>\n      <td>[Timestamp](https://imgur.com/a/WrVBtSG)\\n\\n&amp;#...</td>\n      <td>Sold GMK Botanical to u/westend14</td>\n      <td>[EU-PL][H]GMK Botanical, 90xH1 Switches [W]Pay...</td>\n    </tr>\n    <tr>\n      <th rowspan=\"2\" valign=\"top\">Mr_BillButtlicker</th>\n      <th>/r/mechmarket/comments/l1fckk/usga_h_gmk_merlin_w_200_paypal_or_trades/</th>\n      <td>Hi all,\\n\\n[timestamp ](https://imgur.com/gall...</td>\n      <td>Sold GMK Merlin to u/inphinity</td>\n      <td>[US-GA] [H] GMK Merlin [W] 200$ PayPal or Trades</td>\n    </tr>\n    <tr>\n      <th>/r/mechmarket/comments/kvg1uw/usga_h_pc_key65_gmk_merlin_w_paypal_trades/</th>\n      <td>\\nHi all,\\n\\n[timestamp ](https://imgur.com/ga...</td>\n      <td>Sold GMK Merlin to u/inphinity</td>\n      <td>[US-GA] [H] PC KEY65, GMK Merlin [W] PayPal, T...</td>\n    </tr>\n  </tbody>\n</table>\n</div>"
     },
     "metadata": {},
     "execution_count": 22
    }
   ],
   "source": [
    "df = pd.read_csv('smallFebGMK.csv')\n",
    "df.drop(df.columns[0], axis=1, inplace=True)\n",
    "df.drop_duplicates(subset=[\"link\"], inplace=True)\n",
    "df.set_index(['author', 'link'], inplace=True)\n",
    "df.head()"
   ]
  },
  {
   "cell_type": "code",
   "execution_count": 23,
   "metadata": {},
   "outputs": [
    {
     "output_type": "execute_result",
     "data": {
      "text/plain": [
       "((154, 5), (202, 5))"
      ]
     },
     "metadata": {},
     "execution_count": 23
    }
   ],
   "source": [
    "df['post_lower'] = df['post'].str.lower()\n",
    "df['title_lower'] = df['title'].str.lower()\n",
    "only_gmk = df[df['post_lower'].str.contains('gmk') | df['title_lower'].str.contains('gmk')].copy()\n",
    "only_gmk.shape, df.shape"
   ]
  },
  {
   "cell_type": "code",
   "execution_count": 24,
   "metadata": {},
   "outputs": [
    {
     "output_type": "execute_result",
     "data": {
      "text/plain": [
       "                                                                                                                   post  \\\n",
       "author            link                                                                                                    \n",
       "rath_k            /r/mechmarket/comments/l8bmmu/usmi_h_gmk_cafe_b...  [Timestamps](https://imgur.com/a/atjuMNc)\\n\\n&...   \n",
       "Krasztest01       /r/mechmarket/comments/l424x4/euplhgmk_botanica...  [Timestamp](https://imgur.com/a/WrVBtSG)\\n\\n&#...   \n",
       "Mr_BillButtlicker /r/mechmarket/comments/l1fckk/usga_h_gmk_merlin...  Hi all,\\n\\n[timestamp ](https://imgur.com/gall...   \n",
       "                  /r/mechmarket/comments/kvg1uw/usga_h_pc_key65_g...  \\nHi all,\\n\\n[timestamp ](https://imgur.com/ga...   \n",
       "                  /r/mechmarket/comments/kqbs9o/usga_h_pc_key65_g...  Hi all,\\n\\n[timestamp ](https://imgur.com/gall...   \n",
       "...                                                                                                                 ...   \n",
       "Darkemajik        /r/mechmarket/comments/lh6bql/usca_h_rama_u80a_...  Post is outdated! Here's the [link](https://ww...   \n",
       "ra1nnn            /r/mechmarket/comments/lkm7vm/usca_h_gmk_zhuyin...  [stampsstampstamps](https://i.imgur.com/zTUPbE...   \n",
       "Acabi             /r/mechmarket/comments/lnsaoi/usca_h_gmk_taro_b...  Hello everyone! All shipping and fees are incl...   \n",
       "Clleno            /r/mechmarket/comments/lilnp8/usca_h_built_eo87...  [Timestamp](https://imgur.com/a/S705CqX?fbclid...   \n",
       "                  /r/mechmarket/comments/l2cgea/usca_h_polycarbon...  [Timestamp](https://imgur.com/a/ANTp6Vy?fbclid...   \n",
       "\n",
       "                                                                                                                rawtext  \\\n",
       "author            link                                                                                                    \n",
       "rath_k            /r/mechmarket/comments/l8bmmu/usmi_h_gmk_cafe_b...                      Bought GMK Cafe from u/rath_k   \n",
       "Krasztest01       /r/mechmarket/comments/l424x4/euplhgmk_botanica...                  Sold GMK Botanical to u/westend14   \n",
       "Mr_BillButtlicker /r/mechmarket/comments/l1fckk/usga_h_gmk_merlin...                     Sold GMK Merlin to u/inphinity   \n",
       "                  /r/mechmarket/comments/kvg1uw/usga_h_pc_key65_g...                     Sold GMK Merlin to u/inphinity   \n",
       "                  /r/mechmarket/comments/kqbs9o/usga_h_pc_key65_g...                     Sold GMK Merlin to u/inphinity   \n",
       "...                                                                                                                 ...   \n",
       "Darkemajik        /r/mechmarket/comments/lh6bql/usca_h_rama_u80a_...  Bought GMK Olivia Dark ++ Spacebars Kit from  ...   \n",
       "ra1nnn            /r/mechmarket/comments/lkm7vm/usca_h_gmk_zhuyin...             Bought gmk zhuyin alphas from u/ra1nnn   \n",
       "Acabi             /r/mechmarket/comments/lnsaoi/usca_h_gmk_taro_b...           Sold N9 GMK Relegendables to u/F3Company   \n",
       "Clleno            /r/mechmarket/comments/lilnp8/usca_h_built_eo87...  Bought GMK Taro R2 accent & novelties kits fro...   \n",
       "                  /r/mechmarket/comments/l2cgea/usca_h_polycarbon...  Bought GMK Taro R2 accent & novelties kits fro...   \n",
       "\n",
       "                                                                                                                  title  \\\n",
       "author            link                                                                                                    \n",
       "rath_k            /r/mechmarket/comments/l8bmmu/usmi_h_gmk_cafe_b...  [US-MI] [H] GMK Cafe BNIB, GMK Olivia++ BNIB, ...   \n",
       "Krasztest01       /r/mechmarket/comments/l424x4/euplhgmk_botanica...  [EU-PL][H]GMK Botanical, 90xH1 Switches [W]Pay...   \n",
       "Mr_BillButtlicker /r/mechmarket/comments/l1fckk/usga_h_gmk_merlin...   [US-GA] [H] GMK Merlin [W] 200$ PayPal or Trades   \n",
       "                  /r/mechmarket/comments/kvg1uw/usga_h_pc_key65_g...  [US-GA] [H] PC KEY65, GMK Merlin [W] PayPal, T...   \n",
       "                  /r/mechmarket/comments/kqbs9o/usga_h_pc_key65_g...  [US-GA] [H] PC KEY65, GMK Merlin [W] PayPal, T...   \n",
       "...                                                                                                                 ...   \n",
       "Darkemajik        /r/mechmarket/comments/lh6bql/usca_h_rama_u80a_...  [US-CA] [H] RAMA U80-A Kuro/Milk, GMK Finer Th...   \n",
       "ra1nnn            /r/mechmarket/comments/lkm7vm/usca_h_gmk_zhuyin...  [US-CA] [H] GMK Zhuyin WoB, Keyforge Shishi (L...   \n",
       "Acabi             /r/mechmarket/comments/lnsaoi/usca_h_gmk_taro_b...  [US-CA] [H] GMK Taro Boba Alphas, GMK N9 Releg...   \n",
       "Clleno            /r/mechmarket/comments/lilnp8/usca_h_built_eo87...  [US-CA] [H] Built EO-87, GMK Bingsu, EPBT Kon ...   \n",
       "                  /r/mechmarket/comments/l2cgea/usca_h_polycarbon...  [US-CA] [H] Polycarbonate MAJA , GMK Taro Acce...   \n",
       "\n",
       "                                                                                                             post_lower  \\\n",
       "author            link                                                                                                    \n",
       "rath_k            /r/mechmarket/comments/l8bmmu/usmi_h_gmk_cafe_b...  [timestamps](https://imgur.com/a/atjumnc)\\n\\n&...   \n",
       "Krasztest01       /r/mechmarket/comments/l424x4/euplhgmk_botanica...  [timestamp](https://imgur.com/a/wrvbtsg)\\n\\n&#...   \n",
       "Mr_BillButtlicker /r/mechmarket/comments/l1fckk/usga_h_gmk_merlin...  hi all,\\n\\n[timestamp ](https://imgur.com/gall...   \n",
       "                  /r/mechmarket/comments/kvg1uw/usga_h_pc_key65_g...  \\nhi all,\\n\\n[timestamp ](https://imgur.com/ga...   \n",
       "                  /r/mechmarket/comments/kqbs9o/usga_h_pc_key65_g...  hi all,\\n\\n[timestamp ](https://imgur.com/gall...   \n",
       "...                                                                                                                 ...   \n",
       "Darkemajik        /r/mechmarket/comments/lh6bql/usca_h_rama_u80a_...  post is outdated! here's the [link](https://ww...   \n",
       "ra1nnn            /r/mechmarket/comments/lkm7vm/usca_h_gmk_zhuyin...  [stampsstampstamps](https://i.imgur.com/ztupbe...   \n",
       "Acabi             /r/mechmarket/comments/lnsaoi/usca_h_gmk_taro_b...  hello everyone! all shipping and fees are incl...   \n",
       "Clleno            /r/mechmarket/comments/lilnp8/usca_h_built_eo87...  [timestamp](https://imgur.com/a/s705cqx?fbclid...   \n",
       "                  /r/mechmarket/comments/l2cgea/usca_h_polycarbon...  [timestamp](https://imgur.com/a/antp6vy?fbclid...   \n",
       "\n",
       "                                                                                                            title_lower  \\\n",
       "author            link                                                                                                    \n",
       "rath_k            /r/mechmarket/comments/l8bmmu/usmi_h_gmk_cafe_b...  [us-mi] [h] gmk cafe bnib, gmk olivia++ bnib, ...   \n",
       "Krasztest01       /r/mechmarket/comments/l424x4/euplhgmk_botanica...  [eu-pl][h]gmk botanical, 90xh1 switches [w]pay...   \n",
       "Mr_BillButtlicker /r/mechmarket/comments/l1fckk/usga_h_gmk_merlin...   [us-ga] [h] gmk merlin [w] 200$ paypal or trades   \n",
       "                  /r/mechmarket/comments/kvg1uw/usga_h_pc_key65_g...  [us-ga] [h] pc key65, gmk merlin [w] paypal, t...   \n",
       "                  /r/mechmarket/comments/kqbs9o/usga_h_pc_key65_g...  [us-ga] [h] pc key65, gmk merlin [w] paypal, t...   \n",
       "...                                                                                                                 ...   \n",
       "Darkemajik        /r/mechmarket/comments/lh6bql/usca_h_rama_u80a_...  [us-ca] [h] rama u80-a kuro/milk, gmk finer th...   \n",
       "ra1nnn            /r/mechmarket/comments/lkm7vm/usca_h_gmk_zhuyin...  [us-ca] [h] gmk zhuyin wob, keyforge shishi (l...   \n",
       "Acabi             /r/mechmarket/comments/lnsaoi/usca_h_gmk_taro_b...  [us-ca] [h] gmk taro boba alphas, gmk n9 releg...   \n",
       "Clleno            /r/mechmarket/comments/lilnp8/usca_h_built_eo87...  [us-ca] [h] built eo-87, gmk bingsu, epbt kon ...   \n",
       "                  /r/mechmarket/comments/l2cgea/usca_h_polycarbon...  [us-ca] [h] polycarbonate maja , gmk taro acce...   \n",
       "\n",
       "                                                                           product_name  \n",
       "author            link                                                                   \n",
       "rath_k            /r/mechmarket/comments/l8bmmu/usmi_h_gmk_cafe_b...           gmk cafe  \n",
       "Krasztest01       /r/mechmarket/comments/l424x4/euplhgmk_botanica...      gmk botanical  \n",
       "Mr_BillButtlicker /r/mechmarket/comments/l1fckk/usga_h_gmk_merlin...         gmk merlin  \n",
       "                  /r/mechmarket/comments/kvg1uw/usga_h_pc_key65_g...         gmk merlin  \n",
       "                  /r/mechmarket/comments/kqbs9o/usga_h_pc_key65_g...         gmk merlin  \n",
       "...                                                                                 ...  \n",
       "Darkemajik        /r/mechmarket/comments/lh6bql/usca_h_rama_u80a_...         gmk olivia  \n",
       "ra1nnn            /r/mechmarket/comments/lkm7vm/usca_h_gmk_zhuyin...         gmk zhuyin  \n",
       "Acabi             /r/mechmarket/comments/lnsaoi/usca_h_gmk_taro_b...  gmk relegendables  \n",
       "Clleno            /r/mechmarket/comments/lilnp8/usca_h_built_eo87...           gmk taro  \n",
       "                  /r/mechmarket/comments/l2cgea/usca_h_polycarbon...           gmk taro  \n",
       "\n",
       "[154 rows x 6 columns]"
      ],
      "text/html": "<div>\n<style scoped>\n    .dataframe tbody tr th:only-of-type {\n        vertical-align: middle;\n    }\n\n    .dataframe tbody tr th {\n        vertical-align: top;\n    }\n\n    .dataframe thead th {\n        text-align: right;\n    }\n</style>\n<table border=\"1\" class=\"dataframe\">\n  <thead>\n    <tr style=\"text-align: right;\">\n      <th></th>\n      <th></th>\n      <th>post</th>\n      <th>rawtext</th>\n      <th>title</th>\n      <th>post_lower</th>\n      <th>title_lower</th>\n      <th>product_name</th>\n    </tr>\n    <tr>\n      <th>author</th>\n      <th>link</th>\n      <th></th>\n      <th></th>\n      <th></th>\n      <th></th>\n      <th></th>\n      <th></th>\n    </tr>\n  </thead>\n  <tbody>\n    <tr>\n      <th>rath_k</th>\n      <th>/r/mechmarket/comments/l8bmmu/usmi_h_gmk_cafe_bnib_gmk_olivia_bnib_tulia/</th>\n      <td>[Timestamps](https://imgur.com/a/atjuMNc)\\n\\n&amp;...</td>\n      <td>Bought GMK Cafe from u/rath_k</td>\n      <td>[US-MI] [H] GMK Cafe BNIB, GMK Olivia++ BNIB, ...</td>\n      <td>[timestamps](https://imgur.com/a/atjumnc)\\n\\n&amp;...</td>\n      <td>[us-mi] [h] gmk cafe bnib, gmk olivia++ bnib, ...</td>\n      <td>gmk cafe</td>\n    </tr>\n    <tr>\n      <th>Krasztest01</th>\n      <th>/r/mechmarket/comments/l424x4/euplhgmk_botanical_90xh1_switches_wpaypal_revolut/</th>\n      <td>[Timestamp](https://imgur.com/a/WrVBtSG)\\n\\n&amp;#...</td>\n      <td>Sold GMK Botanical to u/westend14</td>\n      <td>[EU-PL][H]GMK Botanical, 90xH1 Switches [W]Pay...</td>\n      <td>[timestamp](https://imgur.com/a/wrvbtsg)\\n\\n&amp;#...</td>\n      <td>[eu-pl][h]gmk botanical, 90xh1 switches [w]pay...</td>\n      <td>gmk botanical</td>\n    </tr>\n    <tr>\n      <th rowspan=\"3\" valign=\"top\">Mr_BillButtlicker</th>\n      <th>/r/mechmarket/comments/l1fckk/usga_h_gmk_merlin_w_200_paypal_or_trades/</th>\n      <td>Hi all,\\n\\n[timestamp ](https://imgur.com/gall...</td>\n      <td>Sold GMK Merlin to u/inphinity</td>\n      <td>[US-GA] [H] GMK Merlin [W] 200$ PayPal or Trades</td>\n      <td>hi all,\\n\\n[timestamp ](https://imgur.com/gall...</td>\n      <td>[us-ga] [h] gmk merlin [w] 200$ paypal or trades</td>\n      <td>gmk merlin</td>\n    </tr>\n    <tr>\n      <th>/r/mechmarket/comments/kvg1uw/usga_h_pc_key65_gmk_merlin_w_paypal_trades/</th>\n      <td>\\nHi all,\\n\\n[timestamp ](https://imgur.com/ga...</td>\n      <td>Sold GMK Merlin to u/inphinity</td>\n      <td>[US-GA] [H] PC KEY65, GMK Merlin [W] PayPal, T...</td>\n      <td>\\nhi all,\\n\\n[timestamp ](https://imgur.com/ga...</td>\n      <td>[us-ga] [h] pc key65, gmk merlin [w] paypal, t...</td>\n      <td>gmk merlin</td>\n    </tr>\n    <tr>\n      <th>/r/mechmarket/comments/kqbs9o/usga_h_pc_key65_gmk_merlin_w_paypal_trades/</th>\n      <td>Hi all,\\n\\n[timestamp ](https://imgur.com/gall...</td>\n      <td>Sold GMK Merlin to u/inphinity</td>\n      <td>[US-GA] [H] PC KEY65, GMK Merlin [W] PayPal, T...</td>\n      <td>hi all,\\n\\n[timestamp ](https://imgur.com/gall...</td>\n      <td>[us-ga] [h] pc key65, gmk merlin [w] paypal, t...</td>\n      <td>gmk merlin</td>\n    </tr>\n    <tr>\n      <th>...</th>\n      <th>...</th>\n      <td>...</td>\n      <td>...</td>\n      <td>...</td>\n      <td>...</td>\n      <td>...</td>\n      <td>...</td>\n    </tr>\n    <tr>\n      <th>Darkemajik</th>\n      <th>/r/mechmarket/comments/lh6bql/usca_h_rama_u80a_kuromilk_gmk_finer_things_base/</th>\n      <td>Post is outdated! Here's the [link](https://ww...</td>\n      <td>Bought GMK Olivia Dark ++ Spacebars Kit from  ...</td>\n      <td>[US-CA] [H] RAMA U80-A Kuro/Milk, GMK Finer Th...</td>\n      <td>post is outdated! here's the [link](https://ww...</td>\n      <td>[us-ca] [h] rama u80-a kuro/milk, gmk finer th...</td>\n      <td>gmk olivia</td>\n    </tr>\n    <tr>\n      <th>ra1nnn</th>\n      <th>/r/mechmarket/comments/lkm7vm/usca_h_gmk_zhuyin_wob_keyforge_shishi_lord_of_ivy/</th>\n      <td>[stampsstampstamps](https://i.imgur.com/zTUPbE...</td>\n      <td>Bought gmk zhuyin alphas from u/ra1nnn</td>\n      <td>[US-CA] [H] GMK Zhuyin WoB, Keyforge Shishi (L...</td>\n      <td>[stampsstampstamps](https://i.imgur.com/ztupbe...</td>\n      <td>[us-ca] [h] gmk zhuyin wob, keyforge shishi (l...</td>\n      <td>gmk zhuyin</td>\n    </tr>\n    <tr>\n      <th>Acabi</th>\n      <th>/r/mechmarket/comments/lnsaoi/usca_h_gmk_taro_boba_alphas_gmk_n9_relegendables/</th>\n      <td>Hello everyone! All shipping and fees are incl...</td>\n      <td>Sold N9 GMK Relegendables to u/F3Company</td>\n      <td>[US-CA] [H] GMK Taro Boba Alphas, GMK N9 Releg...</td>\n      <td>hello everyone! all shipping and fees are incl...</td>\n      <td>[us-ca] [h] gmk taro boba alphas, gmk n9 releg...</td>\n      <td>gmk relegendables</td>\n    </tr>\n    <tr>\n      <th rowspan=\"2\" valign=\"top\">Clleno</th>\n      <th>/r/mechmarket/comments/lilnp8/usca_h_built_eo87_gmk_bingsu_epbt_kon_momo_taro/</th>\n      <td>[Timestamp](https://imgur.com/a/S705CqX?fbclid...</td>\n      <td>Bought GMK Taro R2 accent &amp; novelties kits fro...</td>\n      <td>[US-CA] [H] Built EO-87, GMK Bingsu, EPBT Kon ...</td>\n      <td>[timestamp](https://imgur.com/a/s705cqx?fbclid...</td>\n      <td>[us-ca] [h] built eo-87, gmk bingsu, epbt kon ...</td>\n      <td>gmk taro</td>\n    </tr>\n    <tr>\n      <th>/r/mechmarket/comments/l2cgea/usca_h_polycarbonate_maja_gmk_taro_accent_kit/</th>\n      <td>[Timestamp](https://imgur.com/a/ANTp6Vy?fbclid...</td>\n      <td>Bought GMK Taro R2 accent &amp; novelties kits fro...</td>\n      <td>[US-CA] [H] Polycarbonate MAJA , GMK Taro Acce...</td>\n      <td>[timestamp](https://imgur.com/a/antp6vy?fbclid...</td>\n      <td>[us-ca] [h] polycarbonate maja , gmk taro acce...</td>\n      <td>gmk taro</td>\n    </tr>\n  </tbody>\n</table>\n<p>154 rows × 6 columns</p>\n</div>"
     },
     "metadata": {},
     "execution_count": 24
    }
   ],
   "source": [
    "def split_on_gmk(x):\n",
    "    a = x.lower().split(\"gmk\")[1]\n",
    "    return \"gmk \" + a.split()[0]\n",
    "\n",
    "only_gmk['product_name'] = only_gmk['rawtext'].apply(split_on_gmk)\n",
    "only_gmk"
   ]
  },
  {
   "cell_type": "code",
   "execution_count": 25,
   "metadata": {},
   "outputs": [
    {
     "output_type": "stream",
     "name": "stdout",
     "text": [
      "MultiIndex([(            'rath_k', ...),\n            (       'Krasztest01', ...),\n            ( 'Mr_BillButtlicker', ...),\n            ( 'Mr_BillButtlicker', ...),\n            ( 'Mr_BillButtlicker', ...),\n            ('excited_to_be_here', ...),\n            (             'Sedyn', ...),\n            (    '_ProjectEuler_', ...),\n            (    '_ProjectEuler_', ...),\n            (          'Zeelobby', ...),\n            ...\n            (             'jsnau', ...),\n            (             'fff_x', ...),\n            (             'fff_x', ...),\n            (        'Darkemajik', ...),\n            (        'Darkemajik', ...),\n            (        'Darkemajik', ...),\n            (            'ra1nnn', ...),\n            (             'Acabi', ...),\n            (            'Clleno', ...),\n            (            'Clleno', ...)],\n           names=['author', 'link'], length=154)\n"
     ]
    },
    {
     "output_type": "error",
     "ename": "KeyError",
     "evalue": "Index(['link'], dtype='object')",
     "traceback": [
      "\u001b[0;31m---------------------------------------------------------------------------\u001b[0m",
      "\u001b[0;31mKeyError\u001b[0m                                  Traceback (most recent call last)",
      "\u001b[0;32m<ipython-input-25-4dd039098b8f>\u001b[0m in \u001b[0;36m<module>\u001b[0;34m\u001b[0m\n\u001b[1;32m      1\u001b[0m \u001b[0mprint\u001b[0m\u001b[0;34m(\u001b[0m\u001b[0monly_gmk\u001b[0m\u001b[0;34m.\u001b[0m\u001b[0mindex\u001b[0m\u001b[0;34m)\u001b[0m\u001b[0;34m\u001b[0m\u001b[0;34m\u001b[0m\u001b[0m\n\u001b[0;32m----> 2\u001b[0;31m \u001b[0monly_gmk\u001b[0m\u001b[0;34m.\u001b[0m\u001b[0mdrop_duplicates\u001b[0m\u001b[0;34m(\u001b[0m\u001b[0msubset\u001b[0m\u001b[0;34m=\u001b[0m\u001b[0;34m[\u001b[0m\u001b[0;34m\"link\"\u001b[0m\u001b[0;34m]\u001b[0m\u001b[0;34m)\u001b[0m\u001b[0;34m\u001b[0m\u001b[0;34m\u001b[0m\u001b[0m\n\u001b[0m",
      "\u001b[0;32m/usr/local/lib/python3.7/site-packages/pandas/core/frame.py\u001b[0m in \u001b[0;36mdrop_duplicates\u001b[0;34m(self, subset, keep, inplace, ignore_index)\u001b[0m\n\u001b[1;32m   4809\u001b[0m \u001b[0;34m\u001b[0m\u001b[0m\n\u001b[1;32m   4810\u001b[0m         \u001b[0minplace\u001b[0m \u001b[0;34m=\u001b[0m \u001b[0mvalidate_bool_kwarg\u001b[0m\u001b[0;34m(\u001b[0m\u001b[0minplace\u001b[0m\u001b[0;34m,\u001b[0m \u001b[0;34m\"inplace\"\u001b[0m\u001b[0;34m)\u001b[0m\u001b[0;34m\u001b[0m\u001b[0;34m\u001b[0m\u001b[0m\n\u001b[0;32m-> 4811\u001b[0;31m         \u001b[0mduplicated\u001b[0m \u001b[0;34m=\u001b[0m \u001b[0mself\u001b[0m\u001b[0;34m.\u001b[0m\u001b[0mduplicated\u001b[0m\u001b[0;34m(\u001b[0m\u001b[0msubset\u001b[0m\u001b[0;34m,\u001b[0m \u001b[0mkeep\u001b[0m\u001b[0;34m=\u001b[0m\u001b[0mkeep\u001b[0m\u001b[0;34m)\u001b[0m\u001b[0;34m\u001b[0m\u001b[0;34m\u001b[0m\u001b[0m\n\u001b[0m\u001b[1;32m   4812\u001b[0m \u001b[0;34m\u001b[0m\u001b[0m\n\u001b[1;32m   4813\u001b[0m         \u001b[0;32mif\u001b[0m \u001b[0minplace\u001b[0m\u001b[0;34m:\u001b[0m\u001b[0;34m\u001b[0m\u001b[0;34m\u001b[0m\u001b[0m\n",
      "\u001b[0;32m/usr/local/lib/python3.7/site-packages/pandas/core/frame.py\u001b[0m in \u001b[0;36mduplicated\u001b[0;34m(self, subset, keep)\u001b[0m\n\u001b[1;32m   4883\u001b[0m         \u001b[0mdiff\u001b[0m \u001b[0;34m=\u001b[0m \u001b[0mIndex\u001b[0m\u001b[0;34m(\u001b[0m\u001b[0msubset\u001b[0m\u001b[0;34m)\u001b[0m\u001b[0;34m.\u001b[0m\u001b[0mdifference\u001b[0m\u001b[0;34m(\u001b[0m\u001b[0mself\u001b[0m\u001b[0;34m.\u001b[0m\u001b[0mcolumns\u001b[0m\u001b[0;34m)\u001b[0m\u001b[0;34m\u001b[0m\u001b[0;34m\u001b[0m\u001b[0m\n\u001b[1;32m   4884\u001b[0m         \u001b[0;32mif\u001b[0m \u001b[0;32mnot\u001b[0m \u001b[0mdiff\u001b[0m\u001b[0;34m.\u001b[0m\u001b[0mempty\u001b[0m\u001b[0;34m:\u001b[0m\u001b[0;34m\u001b[0m\u001b[0;34m\u001b[0m\u001b[0m\n\u001b[0;32m-> 4885\u001b[0;31m             \u001b[0;32mraise\u001b[0m \u001b[0mKeyError\u001b[0m\u001b[0;34m(\u001b[0m\u001b[0mdiff\u001b[0m\u001b[0;34m)\u001b[0m\u001b[0;34m\u001b[0m\u001b[0;34m\u001b[0m\u001b[0m\n\u001b[0m\u001b[1;32m   4886\u001b[0m \u001b[0;34m\u001b[0m\u001b[0m\n\u001b[1;32m   4887\u001b[0m         \u001b[0mvals\u001b[0m \u001b[0;34m=\u001b[0m \u001b[0;34m(\u001b[0m\u001b[0mcol\u001b[0m\u001b[0;34m.\u001b[0m\u001b[0mvalues\u001b[0m \u001b[0;32mfor\u001b[0m \u001b[0mname\u001b[0m\u001b[0;34m,\u001b[0m \u001b[0mcol\u001b[0m \u001b[0;32min\u001b[0m \u001b[0mself\u001b[0m\u001b[0;34m.\u001b[0m\u001b[0mitems\u001b[0m\u001b[0;34m(\u001b[0m\u001b[0;34m)\u001b[0m \u001b[0;32mif\u001b[0m \u001b[0mname\u001b[0m \u001b[0;32min\u001b[0m \u001b[0msubset\u001b[0m\u001b[0;34m)\u001b[0m\u001b[0;34m\u001b[0m\u001b[0;34m\u001b[0m\u001b[0m\n",
      "\u001b[0;31mKeyError\u001b[0m: Index(['link'], dtype='object')"
     ]
    }
   ],
   "source": [
    "print(only_gmk.index)\n",
    "only_gmk.drop_duplicates(subset=[\"link\"])"
   ]
  },
  {
   "cell_type": "code",
   "execution_count": 26,
   "metadata": {
    "tags": [
     "outputPrepend"
    ]
   },
   "outputs": [
    {
     "output_type": "stream",
     "name": "stdout",
     "text": [
      "led', '$420', 'shipped', '', '', '**sold**']\nPRODUCT: gmk botanical LINE: ~~gmk botanical base + novelties: brand new, sealed $420 shipped~~ **sold** PRICES: [420]\nmastermind x rama gold pvd brass knife artisan: brand new $150 shipped obo~~ **sold** ['mastermind', 'x', 'rama', 'gold', 'pvd', 'brass', 'knife', 'artisan:', 'brand', 'new', '$150', 'shipped', 'obo', '', '', '**sold**']\nPRODUCT: gmk mastermind LINE: ~~gmk mastermind x rama gold pvd brass knife artisan: brand new $150 shipped obo~~ **sold** PRICES: [150]\nolivia++ light base: brand new, sealed: $350 shipped obo~~ **sold** ['olivia++', 'light', 'base:', 'brand', 'new,', 'sealed:', '$350', 'shipped', 'obo', '', '', '**sold**']\nPRODUCT: gmk olivia++ LINE: ~~gmk olivia++ light base: brand new, sealed: $350 shipped obo~~ **sold** PRICES: [350]\n8008 base + accent**: barely used. ships in a bag - $330 shipped obo~~ ['8008', 'base', '+', 'accent**:', 'barely', 'used.', 'ships', 'in', 'a', 'bag', '-', '$330', 'shipped', 'obo', '', '']\nPRODUCT: gmk 8008 LINE: ~~**gmk 8008 base + accent**: barely used. ships in a bag - $330 shipped obo~~ PRICES: [330]\nmetaverse r2 base, novelties, royal and spacebar**. brand new, sealed. - $470 shipped obo~~ ['metaverse', 'r2', 'base,', 'novelties,', 'royal', 'and', 'spacebar**.', 'brand', 'new,', 'sealed.', '-', '$470', 'shipped', 'obo', '', '']\nPRODUCT: gmk metaverse LINE: ~~**gmk metaverse r2 base, novelties, royal and spacebar**. brand new, sealed. - $470 shipped obo~~ PRICES: [470]\nursa base + spacebars + 40s~~](https://imgur.com/a/8hwshka)|~~base is only opened to check keys, the other 2 kits are sealed~~|~~$350 shipped in tray or $345 in bags sold spacebars for $65 and base+40s for $290~~| ['ursa', 'base', '+', 'spacebars', '+', '40s', '', '](https://imgur.com/a/8hwshka)|', '', 'base', 'is', 'only', 'opened', 'to', 'check', 'keys,', 'the', 'other', '2', 'kits', 'are', 'sealed', '', '|', '', '$350', 'shipped', 'in', 'tray', 'or', '$345', 'in', 'bags', 'sold', 'spacebars', 'for', '$65', 'and', 'base+40s', 'for', '$290', '', '|']\nPRODUCT: gmk ursa LINE: |[~~gmk ursa base + spacebars + 40s~~](https://imgur.com/a/8hwshka)|~~base is only opened to check keys, the other 2 kits are sealed~~|~~$350 shipped in tray or $345 in bags sold spacebars for $65 and base+40s for $290~~| PRICES: [350, 345, 65, 290]\nursa base + spacebars~~](https://imgur.com/a/8hwshka)|~~if you really don't want the 40s, i could seek to sell it separately later, but i will priotize all 3 kits buyers~~|~~$320 shipped in tray or $315 shipped in bags sold~~| ['ursa', 'base', '+', 'spacebars', '', '](https://imgur.com/a/8hwshka)|', '', 'if', 'you', 'really', \"don't\", 'want', 'the', '40s,', 'i', 'could', 'seek', 'to', 'sell', 'it', 'separately', 'later,', 'but', 'i', 'will', 'priotize', 'all', '3', 'kits', 'buyers', '', '|', '', '$320', 'shipped', 'in', 'tray', 'or', '$315', 'shipped', 'in', 'bags', 'sold', '', '|']\nPRODUCT: gmk ursa LINE: |[~~gmk ursa base + spacebars~~](https://imgur.com/a/8hwshka)|~~if you really don't want the 40s, i could seek to sell it separately later, but i will priotize all 3 kits buyers~~|~~$320 shipped in tray or $315 shipped in bags sold~~| PRICES: [320, 315]\nfirefly base + (de)accents~~](https://imgur.com/a/on7o08c)|~~typed on for a few hours a month ago and then put everything back to tray, no shine~~|~~$315 shipped in tray or $310 shipped in bags, sold for $305 local pickup~~| ['firefly', 'base', '+', '(de)accents', '', '](https://imgur.com/a/on7o08c)|', '', 'typed', 'on', 'for', 'a', 'few', 'hours', 'a', 'month', 'ago', 'and', 'then', 'put', 'everything', 'back', 'to', 'tray,', 'no', 'shine', '', '|', '', '$315', 'shipped', 'in', 'tray', 'or', '$310', 'shipped', 'in', 'bags,', 'sold', 'for', '$305', 'local', 'pickup', '', '|']\nPRODUCT: gmk firefly LINE: |[~~gmk firefly base + (de)accents~~](https://imgur.com/a/on7o08c)|~~typed on for a few hours a month ago and then put everything back to tray, no shine~~|~~$315 shipped in tray or $310 shipped in bags, sold for $305 local pickup~~| PRICES: [315, 310, 305]\ncamping r2 - light shine, overall great condition - $215~~ sold for asking ['camping', 'r2', '-', 'light', 'shine,', 'overall', 'great', 'condition', '-', '$215', '', '', 'sold', 'for', 'asking']\nPRODUCT: gmk camping LINE: ~~gmk camping r2 - light shine, overall great condition - $215~~ sold for asking PRICES: [215]\noblivion:**~~ **sold** ['oblivion:**', '', '', '**sold**']\nfirefly accent kit~~|~~£50 + shipping~~ sold| ['firefly', 'accent', 'kit', '', '|', '', '£50', '+', 'shipping', '', '', 'sold|']\n8008 accent kit~~|~~£50 + shipping~~ sold| ['8008', 'accent', 'kit', '', '|', '', '£50', '+', 'shipping', '', '', 'sold|']\n8008 modern kit~~|~~£40 + shipping~~ sold| ['8008', 'modern', 'kit', '', '|', '', '£40', '+', 'shipping', '', '', 'sold|']\nsandstorm extension kit~~|~~£60 + shipping~~ sold| ['sandstorm', 'extension', 'kit', '', '|', '', '£60', '+', 'shipping', '', '', 'sold|']\n8008 accent kit~~|~~£50 + shipping~~ sold| ['8008', 'accent', 'kit', '', '|', '', '£50', '+', 'shipping', '', '', 'sold|']\n8008 modern kit~~|~~£40 + shipping~~ sold| ['8008', 'modern', 'kit', '', '|', '', '£40', '+', 'shipping', '', '', 'sold|']\nsolarized/penumbra~~|~~selling together as they came. used for a month or so, minimal shine.~~|~~$300 shipped~~| ['solarized/penumbra', '', '|', '', 'selling', 'together', 'as', 'they', 'came.', 'used', 'for', 'a', 'month', 'or', 'so,', 'minimal', 'shine.', '', '|', '', '$300', 'shipped', '', '|']\nPRODUCT: gmk solarized/penumbra LINE: |~~gmk solarized/penumbra~~|~~selling together as they came. used for a month or so, minimal shine.~~|~~$300 shipped~~| PRICES: [300]\nolivia++ light base, new, $300.~~  sold for asking ['olivia++', 'light', 'base,', 'new,', '$300.', '', '', '', 'sold', 'for', 'asking']\nPRODUCT: gmk olivia++ LINE: ~~gmk olivia++ light base, new, $300.~~  sold for asking PRICES: [300]\nolivia ++ dark base and novelties~~ **~~$250~~** ['olivia', '++', 'dark', 'base', 'and', 'novelties', '', '', '**', '', '$250', '', '**']\nPRODUCT: gmk olivia LINE: * ~~gmk olivia ++ dark base and novelties~~ **~~$250~~** PRICES: [250]\ntrays are not good~~ [~~image~~](https://imgur.com/a/qo5s4uh) ['trays', 'are', 'not', 'good', '', '', '[', '', 'image', '', '](https://imgur.com/a/qo5s4uh)']\ndelta base - used for a few months, no shine.  complete set including original box and trays.~~ **~~asking $300 shipped~~** sold to u/acceptable_ocelot ['delta', 'base', '-', 'used', 'for', 'a', 'few', 'months,', 'no', 'shine.', '', 'complete', 'set', 'including', 'original', 'box', 'and', 'trays.', '', '', '**', '', 'asking', '$300', 'shipped', '', '**', 'sold', 'to', 'u/acceptable_ocelot']\nPRODUCT: gmk delta LINE: ~~gmk delta base - used for a few months, no shine.  complete set including original box and trays.~~ **~~asking $300 shipped~~** sold to u/acceptable_ocelot PRICES: [300]\nstriker|mounted once other than that its not been used|$340 sold| ['striker|mounted', 'once', 'other', 'than', 'that', 'its', 'not', 'been', 'used|$340', 'sold|']\nPRODUCT: gmk striker|mounted LINE: |gmk striker|mounted once other than that its not been used|$340 sold| PRICES: [340]\nnight runner|new, comes with the fixed key|$270 sold| ['night', 'runner|new,', 'comes', 'with', 'the', 'fixed', 'key|$270', 'sold|']\nPRODUCT: gmk night LINE: |gmk night runner|new, comes with the fixed key|$270 sold| PRICES: [270]\nalter:sold  ['alter:sold', '']\nmetaverse: sold ['metaverse:', 'sold']\ncamping novelties:  $80 sold sold sold ['camping', 'novelties:', '', '$80', 'sold', 'sold', 'sold']\nPRODUCT: gmk camping LINE: gmk camping novelties:  $80 sold sold sold PRICES: [80]\nmizu base kit, spacebars, novelties, and the tulia deskmat.  everything is used for about a month but typed on lightly. i cannot see any shine, even with harsh lighting. more pics can be provided but i tried to get some with harsh lighting in the timestamp. tulia mat has been used for almost a year straight, so there are a few tiny spots that will probably come out with it being cleaned off. i am looking for $450 shipped obo or trades for rama x and o keycaps. sold for 435 ['mizu', 'base', 'kit,', 'spacebars,', 'novelties,', 'and', 'the', 'tulia', 'deskmat.', '', 'everything', 'is', 'used', 'for', 'about', 'a', 'month', 'but', 'typed', 'on', 'lightly.', 'i', 'cannot', 'see', 'any', 'shine,', 'even', 'with', 'harsh', 'lighting.', 'more', 'pics', 'can', 'be', 'provided', 'but', 'i', 'tried', 'to', 'get', 'some', 'with', 'harsh', 'lighting', 'in', 'the', 'timestamp.', 'tulia', 'mat', 'has', 'been', 'used', 'for', 'almost', 'a', 'year', 'straight,', 'so', 'there', 'are', 'a', 'few', 'tiny', 'spots', 'that', 'will', 'probably', 'come', 'out', 'with', 'it', 'being', 'cleaned', 'off.', 'i', 'am', 'looking', 'for', '$450', 'shipped', 'obo', 'or', 'trades', 'for', 'rama', 'x', 'and', 'o', 'keycaps.', 'sold', 'for', '435']\nPRODUCT: gmk mizu LINE: it includes gmk mizu base kit, spacebars, novelties, and the tulia deskmat.  everything is used for about a month but typed on lightly. i cannot see any shine, even with harsh lighting. more pics can be provided but i tried to get some with harsh lighting in the timestamp. tulia mat has been used for almost a year straight, so there are a few tiny spots that will probably come out with it being cleaned off. i am looking for $450 shipped obo or trades for rama x and o keycaps. sold for 435 PRICES: [450]\nzhuyin wob alphas add-on kit~~ |  ~~new, sealed~~ | ~~$170 shipped conus~~ | **sold** ['zhuyin', 'wob', 'alphas', 'add-on', 'kit', '', '', '|', '', '', '', 'new,', 'sealed', '', '', '|', '', '', '$170', 'shipped', 'conus', '', '', '|', '**sold**']\nPRODUCT: gmk zhuyin LINE: ~~gmk zhuyin wob alphas add-on kit~~ |  ~~new, sealed~~ | ~~$170 shipped conus~~ | **sold** PRICES: [170]\ncafe bnib~~|~~bnib cafe~~|~~310$ shipped~~|no, sold asking| ['cafe', 'bnib', '', '|', '', 'bnib', 'cafe', '', '|', '', '310$', 'shipped', '', '|no,', 'sold', 'asking|']\nPRODUCT: gmk cafe LINE: |~~gmk cafe bnib~~|~~bnib cafe~~|~~310$ shipped~~|no, sold asking| PRICES: [310]\n8008 (base kit)~~|~~used for a few hours, in good shape~~|~~230 gbp + shipping~~ sold| ['8008', '(base', 'kit)', '', '|', '', 'used', 'for', 'a', 'few', 'hours,', 'in', 'good', 'shape', '', '|', '', '230', 'gbp', '+', 'shipping', '', '', 'sold|']\nascii (base kit)~~|~~sealed~~|~~210 gbp + shipping~~ sold| ['ascii', '(base', 'kit)', '', '|', '', 'sealed', '', '|', '', '210', 'gbp', '+', 'shipping', '', '', 'sold|']\n8008 bundle (base kit, accent kit, and modern kit)~~|~~used for a few hours, in good shape~~|~~300 gbp + shipping~~ sold| ['8008', 'bundle', '(base', 'kit,', 'accent', 'kit,', 'and', 'modern', 'kit)', '', '|', '', 'used', 'for', 'a', 'few', 'hours,', 'in', 'good', 'shape', '', '|', '', '300', 'gbp', '+', 'shipping', '', '', 'sold|']\nascii (base kit)~~|~~sealed~~|~~210 gbp + shipping~~ sold| ['ascii', '(base', 'kit)', '', '|', '', 'sealed', '', '|', '', '210', 'gbp', '+', 'shipping', '', '', 'sold|']\nrudy (base kit)~~|~~never used, shipping in bag~~|~~250 gbp + shipping~~ sold| ['rudy', '(base', 'kit)', '', '|', '', 'never', 'used,', 'shipping', 'in', 'bag', '', '|', '', '250', 'gbp', '+', 'shipping', '', '', 'sold|']\n8008 bundle (base kit, accent kit, and modern kit)~~|~~lightly used, in good shape~~|~~300 gbp + shipping~~ sold| ['8008', 'bundle', '(base', 'kit,', 'accent', 'kit,', 'and', 'modern', 'kit)', '', '|', '', 'lightly', 'used,', 'in', 'good', 'shape', '', '|', '', '300', 'gbp', '+', 'shipping', '', '', 'sold|']\nascii (base kit)~~|~~sealed~~|~~210 gbp + shipping~~ sold| ['ascii', '(base', 'kit)', '', '|', '', 'sealed', '', '|', '', '210', 'gbp', '+', 'shipping', '', '', 'sold|']\n8008 bundle (base kit, accent kit, and modern kit)~~|~~used for a few hours, in good shape~~|~~300 gbp + shipping~~ sold| ['8008', 'bundle', '(base', 'kit,', 'accent', 'kit,', 'and', 'modern', 'kit)', '', '|', '', 'used', 'for', 'a', 'few', 'hours,', 'in', 'good', 'shape', '', '|', '', '300', 'gbp', '+', 'shipping', '', '', 'sold|']\nnautilus 2 core~~|~~new, sealed~~|~~$265~~|sold to /u/mewogoginspin for asking| ['nautilus', '2', 'core', '', '|', '', 'new,', 'sealed', '', '|', '', '$265', '', '|sold', 'to', '/u/mewogoginspin', 'for', 'asking|']\nPRODUCT: gmk nautilus LINE: |~~gmk nautilus 2 core~~|~~new, sealed~~|~~$265~~|sold to /u/mewogoginspin for asking| PRICES: [265]\nolivia++ light base~~** ['olivia++', 'light', 'base', '', '**']\ntrays aren't too great.~~ ['trays', \"aren't\", 'too', 'great.', '', '']\nbotanical base, novelties, green rama~~|~~$525 sold as bundle~~| ['botanical', 'base,', 'novelties,', 'green', 'rama', '', '|', '', '$525', 'sold', 'as', 'bundle', '', '|']\nPRODUCT: gmk botanical LINE: |~~gmk botanical base, novelties, green rama~~|~~$525 sold as bundle~~| PRICES: [525]\nspirit base kit: $250~~ sold ['spirit', 'base', 'kit:', '$250', '', '', 'sold']\nPRODUCT: gmk spirit LINE: ~~sealed gmk spirit base kit: $250~~ sold PRICES: [250]\nbase sets (taro, moon dust, bingsu, etc),~~ ['base', 'sets', '(taro,', 'moon', 'dust,', 'bingsu,', 'etc),', '', '']\njamon base - $200 shipped conus  ['jamon', 'base', '-', '$200', 'shipped', 'conus', '']\nPRODUCT: gmk jamon LINE: sold* gmk jamon base - $200 shipped conus  PRICES: [200]\nnines base - $200 shipped conus ['nines', 'base', '-', '$200', 'shipped', 'conus']\nPRODUCT: gmk nines LINE: sold* gmk nines base - $200 shipped conus PRICES: [200]\ntaro bundle of all kits - $345~~ ['taro', 'bundle', 'of', 'all', 'kits', '-', '$345', '', '']\nPRODUCT: gmk taro LINE: ~~gmk taro bundle of all kits - $345~~ PRICES: [345]\ntaro base kit - $300~~ sold for asking, ~~novelties - $60~~ sold for $55, ~~accents - $45~~ sold for asking ['taro', 'base', 'kit', '-', '$300', '', '', 'sold', 'for', 'asking,', '', '', 'novelties', '-', '$60', '', '', 'sold', 'for', '$55,', '', '', 'accents', '-', '$45', '', '', 'sold', 'for', 'asking']\nPRODUCT: gmk taro LINE: ~~gmk taro base kit - $300~~ sold for asking, ~~novelties - $60~~ sold for $55, ~~accents - $45~~ sold for asking PRICES: [300, 60, 55, 45]\ntaro base kit+novelties+accents - $425~~ ['taro', 'base', 'kit+novelties+accents', '-', '$425', '', '']\nPRODUCT: gmk taro LINE: ~~gmk taro base kit+novelties+accents - $425~~ PRICES: [425]\ntaro r2 base kit - $300~~ sold for asking, ~~novelties - $70~~ sold for $55, ~~accents - $45~~ sold for asking ['taro', 'r2', 'base', 'kit', '-', '$300', '', '', 'sold', 'for', 'asking,', '', '', 'novelties', '-', '$70', '', '', 'sold', 'for', '$55,', '', '', 'accents', '-', '$45', '', '', 'sold', 'for', 'asking']\nPRODUCT: gmk taro LINE: ~~gmk taro r2 base kit - $300~~ sold for asking, ~~novelties - $70~~ sold for $55, ~~accents - $45~~ sold for asking PRICES: [300, 70, 55, 45]\noblivion v2 regular base kit+ hagoromo alphas - $360~~ sold for asking ['oblivion', 'v2', 'regular', 'base', 'kit+', 'hagoromo', 'alphas', '-', '$360', '', '', 'sold', 'for', 'asking']\nPRODUCT: gmk oblivion LINE: ~~gmk oblivion v2 regular base kit+ hagoromo alphas - $360~~ sold for asking PRICES: [360]\ntaro base kit - $300~~ sold for asking, ~~accents - $45~~ sold for asking ['taro', 'base', 'kit', '-', '$300', '', '', 'sold', 'for', 'asking,', '', '', 'accents', '-', '$45', '', '', 'sold', 'for', 'asking']\nPRODUCT: gmk taro LINE: ~~gmk taro base kit - $300~~ sold for asking, ~~accents - $45~~ sold for asking PRICES: [300, 45]\ntaro base kit+accents - $345~~ ['taro', 'base', 'kit+accents', '-', '$345', '', '']\nPRODUCT: gmk taro LINE: ~~gmk taro base kit+accents - $345~~ PRICES: [345]\ntaro r2 bundle of all kits - $425~~ ['taro', 'r2', 'bundle', 'of', 'all', 'kits', '-', '$425', '', '']\nPRODUCT: gmk taro LINE: ~~gmk taro r2 bundle of all kits - $425~~ PRICES: [425]\ntaro r2 base kit - $300~~ sold for asking, ~~novelties - $70~~ sold for $55, ~~accents - $45~~ sold for asking ['taro', 'r2', 'base', 'kit', '-', '$300', '', '', 'sold', 'for', 'asking,', '', '', 'novelties', '-', '$70', '', '', 'sold', 'for', '$55,', '', '', 'accents', '-', '$45', '', '', 'sold', 'for', 'asking']\nPRODUCT: gmk taro LINE: ~~gmk taro r2 base kit - $300~~ sold for asking, ~~novelties - $70~~ sold for $55, ~~accents - $45~~ sold for asking PRICES: [300, 70, 55, 45]\nnautilus nightmares base + novelties~~|like new, mounted once for pictures.|$265 shipped| ['nautilus', 'nightmares', 'base', '+', 'novelties', '', '|like', 'new,', 'mounted', 'once', 'for', 'pictures.|$265', 'shipped|']\nPRODUCT: gmk nautilus LINE: |~~gmk nautilus nightmares base + novelties~~|like new, mounted once for pictures.|$265 shipped| PRICES: [265]\nclassic retro (originative)- used,  no shine $230 shipped in og tray or $210 shipped in bag~~ sold ['classic', 'retro', '(originative)-', 'used,', '', 'no', 'shine', '$230', 'shipped', 'in', 'og', 'tray', 'or', '$210', 'shipped', 'in', 'bag', '', '', 'sold']\nPRODUCT: gmk classic LINE: ~~gmk classic retro (originative)- used,  no shine $230 shipped in og tray or $210 shipped in bag~~ sold PRICES: [230, 210]\nspacekeys- $50 shipped~~ sold ['spacekeys-', '$50', 'shipped', '', '', 'sold']\nPRODUCT: gmk spacekeys- LINE: ~~gmk spacekeys- $50 shipped~~ sold PRICES: [50]\ntaro r2 base only~~ $280 usd. local free shipping. ['taro', 'r2', 'base', 'only', '', '', '$280', 'usd.', 'local', 'free', 'shipping.']\nPRODUCT: gmk taro LINE: ~~selling sealed gmk taro r2 base only~~ $280 usd. local free shipping. PRICES: [280]\nolivia++ spacebars | brand new sealed | ~~$90 shipped, conus only~~ sold ['olivia++', 'spacebars', '|', 'brand', 'new', 'sealed', '|', '', '', '$90', 'shipped,', 'conus', 'only', '', '', 'sold']\nPRODUCT: gmk olivia++ LINE: gmk olivia++ spacebars | brand new sealed | ~~$90 shipped, conus only~~ sold PRICES: [90]\nlaser gaijin alphas, spacebars, and mitowaves (has shine on some keys) (most spacebars were never used)~~: $300 sold ['laser', 'gaijin', 'alphas,', 'spacebars,', 'and', 'mitowaves', '(has', 'shine', 'on', 'some', 'keys)', '(most', 'spacebars', 'were', 'never', 'used)', '', ':', '$300', 'sold']\nPRODUCT: gmk laser LINE: ~~gmk laser gaijin alphas, spacebars, and mitowaves (has shine on some keys) (most spacebars were never used)~~: $300 sold PRICES: [300]\nlaser translucent keycaps (sealed) (dusk color):~~ $35 sold ['laser', 'translucent', 'keycaps', '(sealed)', '(dusk', 'color):', '', '', '$35', 'sold']\nPRODUCT: gmk laser LINE: ~~gmk laser translucent keycaps (sealed) (dusk color):~~ $35 sold PRICES: [35]\nboba fett (used) + box~~ ['boba', 'fett', '(used)', '+', 'box', '', '']\ndefaultdict(<class 'list'>, {'gmk dmg': [300, 45, 350], 'gmk metaverse': [420, 285, 470, 470], 'gmk taro': [110, 280, 100, 300, 320, 300, 70, 300, 345, 45, 425, 45, 45, 345, 425, 45, 280], 'gmk relegendables': [40], 'gmk camping': [30, 380, 275, 360, 215, 80], 'gmk masterpiece': [175, 175, 175], 'gmk nautilus': [200, 200, 120, 265, 265], 'gmk bingsu': [350], 'gmk olivia++': [300, 265, 90, 100, 250, 100, 250, 100, 360, 300, 365, 50, 80, 270, 350, 300, 90], 'gmk peaches': [120], 'gmk finer': [450], 'gmk umbra': [270], 'gmk sumi': [45], 'gmk rudy': [280], 'gmk mizu': [45, 325, 450], 'gmk dark': [240], 'gmk deep': [180], 'gmk 9009': [275], 'gmk cafe': [450, 310], 'gmk firefly': [330, 305], 'gmk bow': [150], 'gmk merlin': [200], 'gmk dark,': [260], 'gmk alter': [575], 'gmk hiragana': [100], 'gmk red': [85], 'gmk wob': [200], 'gmk dots': [300, 45], 'gmk vaporwave': [300], 'gmk metropolis': [375], 'gmk sandstorm': [290, 25], 'gmk ursa': [320, 65, 315], 'gmk heck': [15, 28], 'gmk carbon:': [185], 'gmk bleached': [110], 'gmk fuyu': [300, 45], 'gmk first': [80, 75], 'gmk eclipse': [210], 'gmk oblivion': [220, 360], 'gmk nautilus,': [220], 'gmk penumbra': [180], 'gmk noel': [80], 'gmk 8008': [270, 330], 'gmk botanical': [420, 525], 'gmk mastermind': [150], 'gmk solarized/penumbra': [300], 'gmk olivia': [250], 'gmk delta': [300], 'gmk striker|mounted': [340], 'gmk night': [270], 'gmk zhuyin': [170], 'gmk spirit': [250], 'gmk jamon': [200], 'gmk nines': [200], 'gmk classic': [210], 'gmk spacekeys-': [50], 'gmk laser': [300, 35]})\n"
     ]
    }
   ],
   "source": [
    "from collections import defaultdict\n",
    "all_prices = defaultdict(list)\n",
    "\n",
    "money_regex = r'\\$\\d+|\\d+\\$'\n",
    "\n",
    "def match_product(df):\n",
    "    for row in df.itertuples():\n",
    "        s = row.post_lower.split(\"\\n\")\n",
    "        product = row.product_name.lower()\n",
    "        for l in s:\n",
    "            low = l.lower()\n",
    "            if \"gmk\" in low and ('~~' in low or 'sold' in low):\n",
    "                a = low.split(\"gmk \")[1]\n",
    "                product_name = \"gmk \" + re.split(r\" |~\", a)[0]\n",
    "                print(a, re.split(r\" |~\", a))\n",
    "                matches = re.findall(money_regex, low)\n",
    "                \n",
    "                prices = [int(re.findall(r'\\d+', m)[0]) for m in matches]\n",
    "                if len(prices) > 0:\n",
    "                    print(f\"PRODUCT: {product_name} LINE: {low} PRICES: {prices}\")\n",
    "                    all_prices[product_name].append(min(prices))\n",
    "    \n",
    "\n",
    "for i, new_df in only_gmk.groupby(level=0):\n",
    "    match_product(new_df)\n",
    "\n",
    "print(all_prices)"
   ]
  },
  {
   "cell_type": "code",
   "execution_count": null,
   "metadata": {},
   "outputs": [],
   "source": []
  }
 ],
 "metadata": {
  "kernelspec": {
   "name": "python379jvsc74a57bd0aee8b7b246df8f9039afb4144a1f6fd8d2ca17a180786b69acc140d282b71a49",
   "display_name": "Python 3.7.9 64-bit"
  },
  "metadata": {
   "interpreter": {
    "hash": "aee8b7b246df8f9039afb4144a1f6fd8d2ca17a180786b69acc140d282b71a49"
   }
  }
 },
 "nbformat": 4,
 "nbformat_minor": 2
}