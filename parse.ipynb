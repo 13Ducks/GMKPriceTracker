{
 "cells": [
  {
   "cell_type": "code",
   "execution_count": 3,
   "metadata": {},
   "outputs": [],
   "source": [
    "import pandas as pd\n",
    "import re"
   ]
  },
  {
   "cell_type": "code",
   "execution_count": 4,
   "metadata": {},
   "outputs": [
    {
     "output_type": "execute_result",
     "data": {
      "text/plain": [
       "                                                                                                                   post  \\\n",
       "author            link                                                                                                    \n",
       "GreenyOstrichy    /r/mechmarket/comments/l1t1u6/cabc_h_paypal_w_o...                             Open to all offers, PM   \n",
       "rath_k            /r/mechmarket/comments/l8bmmu/usmi_h_gmk_cafe_b...  [Timestamps](https://imgur.com/a/atjuMNc)\\n\\n&...   \n",
       "Krasztest01       /r/mechmarket/comments/l424x4/euplhgmk_botanica...  [Timestamp](https://imgur.com/a/WrVBtSG)\\n\\n&#...   \n",
       "Mr_BillButtlicker /r/mechmarket/comments/l1fckk/usga_h_gmk_merlin...  Hi all,\\n\\n[timestamp ](https://imgur.com/gall...   \n",
       "                  /r/mechmarket/comments/kvg1uw/usga_h_pc_key65_g...  \\nHi all,\\n\\n[timestamp ](https://imgur.com/ga...   \n",
       "\n",
       "                                                                                                   rawtext  \\\n",
       "author            link                                                                                       \n",
       "GreenyOstrichy    /r/mechmarket/comments/l1t1u6/cabc_h_paypal_w_o...  Sold GMK Camping R2 to /u/SplifoMode   \n",
       "rath_k            /r/mechmarket/comments/l8bmmu/usmi_h_gmk_cafe_b...         Bought GMK Cafe from u/rath_k   \n",
       "Krasztest01       /r/mechmarket/comments/l424x4/euplhgmk_botanica...     Sold GMK Botanical to u/westend14   \n",
       "Mr_BillButtlicker /r/mechmarket/comments/l1fckk/usga_h_gmk_merlin...        Sold GMK Merlin to u/inphinity   \n",
       "                  /r/mechmarket/comments/kvg1uw/usga_h_pc_key65_g...        Sold GMK Merlin to u/inphinity   \n",
       "\n",
       "                                                                                                                  title  \n",
       "author            link                                                                                                   \n",
       "GreenyOstrichy    /r/mechmarket/comments/l1t1u6/cabc_h_paypal_w_o...  [CA-BC] [H] PayPal [W] Old Epbt sets (gateron ...  \n",
       "rath_k            /r/mechmarket/comments/l8bmmu/usmi_h_gmk_cafe_b...  [US-MI] [H] GMK Cafe BNIB, GMK Olivia++ BNIB, ...  \n",
       "Krasztest01       /r/mechmarket/comments/l424x4/euplhgmk_botanica...  [EU-PL][H]GMK Botanical, 90xH1 Switches [W]Pay...  \n",
       "Mr_BillButtlicker /r/mechmarket/comments/l1fckk/usga_h_gmk_merlin...   [US-GA] [H] GMK Merlin [W] 200$ PayPal or Trades  \n",
       "                  /r/mechmarket/comments/kvg1uw/usga_h_pc_key65_g...  [US-GA] [H] PC KEY65, GMK Merlin [W] PayPal, T...  "
      ],
      "text/html": "<div>\n<style scoped>\n    .dataframe tbody tr th:only-of-type {\n        vertical-align: middle;\n    }\n\n    .dataframe tbody tr th {\n        vertical-align: top;\n    }\n\n    .dataframe thead th {\n        text-align: right;\n    }\n</style>\n<table border=\"1\" class=\"dataframe\">\n  <thead>\n    <tr style=\"text-align: right;\">\n      <th></th>\n      <th></th>\n      <th>post</th>\n      <th>rawtext</th>\n      <th>title</th>\n    </tr>\n    <tr>\n      <th>author</th>\n      <th>link</th>\n      <th></th>\n      <th></th>\n      <th></th>\n    </tr>\n  </thead>\n  <tbody>\n    <tr>\n      <th>GreenyOstrichy</th>\n      <th>/r/mechmarket/comments/l1t1u6/cabc_h_paypal_w_old_epbt_sets_gateron_molds_2016/</th>\n      <td>Open to all offers, PM</td>\n      <td>Sold GMK Camping R2 to /u/SplifoMode</td>\n      <td>[CA-BC] [H] PayPal [W] Old Epbt sets (gateron ...</td>\n    </tr>\n    <tr>\n      <th>rath_k</th>\n      <th>/r/mechmarket/comments/l8bmmu/usmi_h_gmk_cafe_bnib_gmk_olivia_bnib_tulia/</th>\n      <td>[Timestamps](https://imgur.com/a/atjuMNc)\\n\\n&amp;...</td>\n      <td>Bought GMK Cafe from u/rath_k</td>\n      <td>[US-MI] [H] GMK Cafe BNIB, GMK Olivia++ BNIB, ...</td>\n    </tr>\n    <tr>\n      <th>Krasztest01</th>\n      <th>/r/mechmarket/comments/l424x4/euplhgmk_botanical_90xh1_switches_wpaypal_revolut/</th>\n      <td>[Timestamp](https://imgur.com/a/WrVBtSG)\\n\\n&amp;#...</td>\n      <td>Sold GMK Botanical to u/westend14</td>\n      <td>[EU-PL][H]GMK Botanical, 90xH1 Switches [W]Pay...</td>\n    </tr>\n    <tr>\n      <th rowspan=\"2\" valign=\"top\">Mr_BillButtlicker</th>\n      <th>/r/mechmarket/comments/l1fckk/usga_h_gmk_merlin_w_200_paypal_or_trades/</th>\n      <td>Hi all,\\n\\n[timestamp ](https://imgur.com/gall...</td>\n      <td>Sold GMK Merlin to u/inphinity</td>\n      <td>[US-GA] [H] GMK Merlin [W] 200$ PayPal or Trades</td>\n    </tr>\n    <tr>\n      <th>/r/mechmarket/comments/kvg1uw/usga_h_pc_key65_gmk_merlin_w_paypal_trades/</th>\n      <td>\\nHi all,\\n\\n[timestamp ](https://imgur.com/ga...</td>\n      <td>Sold GMK Merlin to u/inphinity</td>\n      <td>[US-GA] [H] PC KEY65, GMK Merlin [W] PayPal, T...</td>\n    </tr>\n  </tbody>\n</table>\n</div>"
     },
     "metadata": {},
     "execution_count": 4
    }
   ],
   "source": [
    "df = pd.read_csv('smallFebGMK.csv')\n",
    "df.drop(df.columns[0], axis=1, inplace=True)\n",
    "df.set_index(['author', 'link'], inplace=True)\n",
    "df.drop_duplicates(inplace=True)\n",
    "df.head()"
   ]
  },
  {
   "cell_type": "code",
   "execution_count": 35,
   "metadata": {},
   "outputs": [
    {
     "output_type": "execute_result",
     "data": {
      "text/plain": [
       "((187, 5), (242, 5))"
      ]
     },
     "metadata": {},
     "execution_count": 35
    }
   ],
   "source": [
    "df['post_lower'] = df['post'].str.lower()\n",
    "df['title_lower'] = df['title'].str.lower()\n",
    "only_gmk = df[df['post_lower'].str.contains('gmk') | df['title_lower'].str.contains('gmk')].copy()\n",
    "only_gmk.shape, df.shape"
   ]
  },
  {
   "cell_type": "code",
   "execution_count": 110,
   "metadata": {},
   "outputs": [
    {
     "output_type": "execute_result",
     "data": {
      "text/plain": [
       "                                                                                                                   post  \\\n",
       "author            link                                                                                                    \n",
       "rath_k            /r/mechmarket/comments/l8bmmu/usmi_h_gmk_cafe_b...  [Timestamps](https://imgur.com/a/atjuMNc)\\n\\n&...   \n",
       "Krasztest01       /r/mechmarket/comments/l424x4/euplhgmk_botanica...  [Timestamp](https://imgur.com/a/WrVBtSG)\\n\\n&#...   \n",
       "Mr_BillButtlicker /r/mechmarket/comments/l1fckk/usga_h_gmk_merlin...  Hi all,\\n\\n[timestamp ](https://imgur.com/gall...   \n",
       "                  /r/mechmarket/comments/kvg1uw/usga_h_pc_key65_g...  \\nHi all,\\n\\n[timestamp ](https://imgur.com/ga...   \n",
       "                  /r/mechmarket/comments/kqbs9o/usga_h_pc_key65_g...  Hi all,\\n\\n[timestamp ](https://imgur.com/gall...   \n",
       "...                                                                                                                 ...   \n",
       "Darkemajik        /r/mechmarket/comments/ldi6kz/usca_h_olivia_dar...  [Timestamp](https://imgur.com/a/2xdn4yk)\\n\\nLo...   \n",
       "ra1nnn            /r/mechmarket/comments/lkm7vm/usca_h_gmk_zhuyin...  [stampsstampstamps](https://i.imgur.com/zTUPbE...   \n",
       "Acabi             /r/mechmarket/comments/lnsaoi/usca_h_gmk_taro_b...  Hello everyone! All shipping and fees are incl...   \n",
       "Clleno            /r/mechmarket/comments/lilnp8/usca_h_built_eo87...  [Timestamp](https://imgur.com/a/S705CqX?fbclid...   \n",
       "                  /r/mechmarket/comments/l2cgea/usca_h_polycarbon...  [Timestamp](https://imgur.com/a/ANTp6Vy?fbclid...   \n",
       "\n",
       "                                                                                                                rawtext  \\\n",
       "author            link                                                                                                    \n",
       "rath_k            /r/mechmarket/comments/l8bmmu/usmi_h_gmk_cafe_b...                      Bought GMK Cafe from u/rath_k   \n",
       "Krasztest01       /r/mechmarket/comments/l424x4/euplhgmk_botanica...                  Sold GMK Botanical to u/westend14   \n",
       "Mr_BillButtlicker /r/mechmarket/comments/l1fckk/usga_h_gmk_merlin...                     Sold GMK Merlin to u/inphinity   \n",
       "                  /r/mechmarket/comments/kvg1uw/usga_h_pc_key65_g...                     Sold GMK Merlin to u/inphinity   \n",
       "                  /r/mechmarket/comments/kqbs9o/usga_h_pc_key65_g...                     Sold GMK Merlin to u/inphinity   \n",
       "...                                                                                                                 ...   \n",
       "Darkemajik        /r/mechmarket/comments/ldi6kz/usca_h_olivia_dar...  Bought GMK Olivia Dark ++ Spacebars Kit from  ...   \n",
       "ra1nnn            /r/mechmarket/comments/lkm7vm/usca_h_gmk_zhuyin...             Bought gmk zhuyin alphas from u/ra1nnn   \n",
       "Acabi             /r/mechmarket/comments/lnsaoi/usca_h_gmk_taro_b...           Sold N9 GMK Relegendables to u/F3Company   \n",
       "Clleno            /r/mechmarket/comments/lilnp8/usca_h_built_eo87...  Bought GMK Taro R2 accent & novelties kits fro...   \n",
       "                  /r/mechmarket/comments/l2cgea/usca_h_polycarbon...  Bought GMK Taro R2 accent & novelties kits fro...   \n",
       "\n",
       "                                                                                                                  title  \\\n",
       "author            link                                                                                                    \n",
       "rath_k            /r/mechmarket/comments/l8bmmu/usmi_h_gmk_cafe_b...  [US-MI] [H] GMK Cafe BNIB, GMK Olivia++ BNIB, ...   \n",
       "Krasztest01       /r/mechmarket/comments/l424x4/euplhgmk_botanica...  [EU-PL][H]GMK Botanical, 90xH1 Switches [W]Pay...   \n",
       "Mr_BillButtlicker /r/mechmarket/comments/l1fckk/usga_h_gmk_merlin...   [US-GA] [H] GMK Merlin [W] 200$ PayPal or Trades   \n",
       "                  /r/mechmarket/comments/kvg1uw/usga_h_pc_key65_g...  [US-GA] [H] PC KEY65, GMK Merlin [W] PayPal, T...   \n",
       "                  /r/mechmarket/comments/kqbs9o/usga_h_pc_key65_g...  [US-GA] [H] PC KEY65, GMK Merlin [W] PayPal, T...   \n",
       "...                                                                                                                 ...   \n",
       "Darkemajik        /r/mechmarket/comments/ldi6kz/usca_h_olivia_dar...  [US-CA] [H] Olivia Dark + Spacebars + Noveltie...   \n",
       "ra1nnn            /r/mechmarket/comments/lkm7vm/usca_h_gmk_zhuyin...  [US-CA] [H] GMK Zhuyin WoB, Keyforge Shishi (L...   \n",
       "Acabi             /r/mechmarket/comments/lnsaoi/usca_h_gmk_taro_b...  [US-CA] [H] GMK Taro Boba Alphas, GMK N9 Releg...   \n",
       "Clleno            /r/mechmarket/comments/lilnp8/usca_h_built_eo87...  [US-CA] [H] Built EO-87, GMK Bingsu, EPBT Kon ...   \n",
       "                  /r/mechmarket/comments/l2cgea/usca_h_polycarbon...  [US-CA] [H] Polycarbonate MAJA , GMK Taro Acce...   \n",
       "\n",
       "                                                                                                             post_lower  \\\n",
       "author            link                                                                                                    \n",
       "rath_k            /r/mechmarket/comments/l8bmmu/usmi_h_gmk_cafe_b...  [timestamps](https://imgur.com/a/atjumnc)\\n\\n&...   \n",
       "Krasztest01       /r/mechmarket/comments/l424x4/euplhgmk_botanica...  [timestamp](https://imgur.com/a/wrvbtsg)\\n\\n&#...   \n",
       "Mr_BillButtlicker /r/mechmarket/comments/l1fckk/usga_h_gmk_merlin...  hi all,\\n\\n[timestamp ](https://imgur.com/gall...   \n",
       "                  /r/mechmarket/comments/kvg1uw/usga_h_pc_key65_g...  \\nhi all,\\n\\n[timestamp ](https://imgur.com/ga...   \n",
       "                  /r/mechmarket/comments/kqbs9o/usga_h_pc_key65_g...  hi all,\\n\\n[timestamp ](https://imgur.com/gall...   \n",
       "...                                                                                                                 ...   \n",
       "Darkemajik        /r/mechmarket/comments/ldi6kz/usca_h_olivia_dar...  [timestamp](https://imgur.com/a/2xdn4yk)\\n\\nlo...   \n",
       "ra1nnn            /r/mechmarket/comments/lkm7vm/usca_h_gmk_zhuyin...  [stampsstampstamps](https://i.imgur.com/ztupbe...   \n",
       "Acabi             /r/mechmarket/comments/lnsaoi/usca_h_gmk_taro_b...  hello everyone! all shipping and fees are incl...   \n",
       "Clleno            /r/mechmarket/comments/lilnp8/usca_h_built_eo87...  [timestamp](https://imgur.com/a/s705cqx?fbclid...   \n",
       "                  /r/mechmarket/comments/l2cgea/usca_h_polycarbon...  [timestamp](https://imgur.com/a/antp6vy?fbclid...   \n",
       "\n",
       "                                                                                                            title_lower  \\\n",
       "author            link                                                                                                    \n",
       "rath_k            /r/mechmarket/comments/l8bmmu/usmi_h_gmk_cafe_b...  [us-mi] [h] gmk cafe bnib, gmk olivia++ bnib, ...   \n",
       "Krasztest01       /r/mechmarket/comments/l424x4/euplhgmk_botanica...  [eu-pl][h]gmk botanical, 90xh1 switches [w]pay...   \n",
       "Mr_BillButtlicker /r/mechmarket/comments/l1fckk/usga_h_gmk_merlin...   [us-ga] [h] gmk merlin [w] 200$ paypal or trades   \n",
       "                  /r/mechmarket/comments/kvg1uw/usga_h_pc_key65_g...  [us-ga] [h] pc key65, gmk merlin [w] paypal, t...   \n",
       "                  /r/mechmarket/comments/kqbs9o/usga_h_pc_key65_g...  [us-ga] [h] pc key65, gmk merlin [w] paypal, t...   \n",
       "...                                                                                                                 ...   \n",
       "Darkemajik        /r/mechmarket/comments/ldi6kz/usca_h_olivia_dar...  [us-ca] [h] olivia dark + spacebars + noveltie...   \n",
       "ra1nnn            /r/mechmarket/comments/lkm7vm/usca_h_gmk_zhuyin...  [us-ca] [h] gmk zhuyin wob, keyforge shishi (l...   \n",
       "Acabi             /r/mechmarket/comments/lnsaoi/usca_h_gmk_taro_b...  [us-ca] [h] gmk taro boba alphas, gmk n9 releg...   \n",
       "Clleno            /r/mechmarket/comments/lilnp8/usca_h_built_eo87...  [us-ca] [h] built eo-87, gmk bingsu, epbt kon ...   \n",
       "                  /r/mechmarket/comments/l2cgea/usca_h_polycarbon...  [us-ca] [h] polycarbonate maja , gmk taro acce...   \n",
       "\n",
       "                                                                           product_name  \n",
       "author            link                                                                   \n",
       "rath_k            /r/mechmarket/comments/l8bmmu/usmi_h_gmk_cafe_b...           gmk cafe  \n",
       "Krasztest01       /r/mechmarket/comments/l424x4/euplhgmk_botanica...      gmk botanical  \n",
       "Mr_BillButtlicker /r/mechmarket/comments/l1fckk/usga_h_gmk_merlin...         gmk merlin  \n",
       "                  /r/mechmarket/comments/kvg1uw/usga_h_pc_key65_g...         gmk merlin  \n",
       "                  /r/mechmarket/comments/kqbs9o/usga_h_pc_key65_g...         gmk merlin  \n",
       "...                                                                                 ...  \n",
       "Darkemajik        /r/mechmarket/comments/ldi6kz/usca_h_olivia_dar...         gmk olivia  \n",
       "ra1nnn            /r/mechmarket/comments/lkm7vm/usca_h_gmk_zhuyin...         gmk zhuyin  \n",
       "Acabi             /r/mechmarket/comments/lnsaoi/usca_h_gmk_taro_b...  gmk relegendables  \n",
       "Clleno            /r/mechmarket/comments/lilnp8/usca_h_built_eo87...           gmk taro  \n",
       "                  /r/mechmarket/comments/l2cgea/usca_h_polycarbon...           gmk taro  \n",
       "\n",
       "[187 rows x 6 columns]"
      ],
      "text/html": "<div>\n<style scoped>\n    .dataframe tbody tr th:only-of-type {\n        vertical-align: middle;\n    }\n\n    .dataframe tbody tr th {\n        vertical-align: top;\n    }\n\n    .dataframe thead th {\n        text-align: right;\n    }\n</style>\n<table border=\"1\" class=\"dataframe\">\n  <thead>\n    <tr style=\"text-align: right;\">\n      <th></th>\n      <th></th>\n      <th>post</th>\n      <th>rawtext</th>\n      <th>title</th>\n      <th>post_lower</th>\n      <th>title_lower</th>\n      <th>product_name</th>\n    </tr>\n    <tr>\n      <th>author</th>\n      <th>link</th>\n      <th></th>\n      <th></th>\n      <th></th>\n      <th></th>\n      <th></th>\n      <th></th>\n    </tr>\n  </thead>\n  <tbody>\n    <tr>\n      <th>rath_k</th>\n      <th>/r/mechmarket/comments/l8bmmu/usmi_h_gmk_cafe_bnib_gmk_olivia_bnib_tulia/</th>\n      <td>[Timestamps](https://imgur.com/a/atjuMNc)\\n\\n&amp;...</td>\n      <td>Bought GMK Cafe from u/rath_k</td>\n      <td>[US-MI] [H] GMK Cafe BNIB, GMK Olivia++ BNIB, ...</td>\n      <td>[timestamps](https://imgur.com/a/atjumnc)\\n\\n&amp;...</td>\n      <td>[us-mi] [h] gmk cafe bnib, gmk olivia++ bnib, ...</td>\n      <td>gmk cafe</td>\n    </tr>\n    <tr>\n      <th>Krasztest01</th>\n      <th>/r/mechmarket/comments/l424x4/euplhgmk_botanical_90xh1_switches_wpaypal_revolut/</th>\n      <td>[Timestamp](https://imgur.com/a/WrVBtSG)\\n\\n&amp;#...</td>\n      <td>Sold GMK Botanical to u/westend14</td>\n      <td>[EU-PL][H]GMK Botanical, 90xH1 Switches [W]Pay...</td>\n      <td>[timestamp](https://imgur.com/a/wrvbtsg)\\n\\n&amp;#...</td>\n      <td>[eu-pl][h]gmk botanical, 90xh1 switches [w]pay...</td>\n      <td>gmk botanical</td>\n    </tr>\n    <tr>\n      <th rowspan=\"3\" valign=\"top\">Mr_BillButtlicker</th>\n      <th>/r/mechmarket/comments/l1fckk/usga_h_gmk_merlin_w_200_paypal_or_trades/</th>\n      <td>Hi all,\\n\\n[timestamp ](https://imgur.com/gall...</td>\n      <td>Sold GMK Merlin to u/inphinity</td>\n      <td>[US-GA] [H] GMK Merlin [W] 200$ PayPal or Trades</td>\n      <td>hi all,\\n\\n[timestamp ](https://imgur.com/gall...</td>\n      <td>[us-ga] [h] gmk merlin [w] 200$ paypal or trades</td>\n      <td>gmk merlin</td>\n    </tr>\n    <tr>\n      <th>/r/mechmarket/comments/kvg1uw/usga_h_pc_key65_gmk_merlin_w_paypal_trades/</th>\n      <td>\\nHi all,\\n\\n[timestamp ](https://imgur.com/ga...</td>\n      <td>Sold GMK Merlin to u/inphinity</td>\n      <td>[US-GA] [H] PC KEY65, GMK Merlin [W] PayPal, T...</td>\n      <td>\\nhi all,\\n\\n[timestamp ](https://imgur.com/ga...</td>\n      <td>[us-ga] [h] pc key65, gmk merlin [w] paypal, t...</td>\n      <td>gmk merlin</td>\n    </tr>\n    <tr>\n      <th>/r/mechmarket/comments/kqbs9o/usga_h_pc_key65_gmk_merlin_w_paypal_trades/</th>\n      <td>Hi all,\\n\\n[timestamp ](https://imgur.com/gall...</td>\n      <td>Sold GMK Merlin to u/inphinity</td>\n      <td>[US-GA] [H] PC KEY65, GMK Merlin [W] PayPal, T...</td>\n      <td>hi all,\\n\\n[timestamp ](https://imgur.com/gall...</td>\n      <td>[us-ga] [h] pc key65, gmk merlin [w] paypal, t...</td>\n      <td>gmk merlin</td>\n    </tr>\n    <tr>\n      <th>...</th>\n      <th>...</th>\n      <td>...</td>\n      <td>...</td>\n      <td>...</td>\n      <td>...</td>\n      <td>...</td>\n      <td>...</td>\n    </tr>\n    <tr>\n      <th>Darkemajik</th>\n      <th>/r/mechmarket/comments/ldi6kz/usca_h_olivia_dark_spacebars_novelties_paypal_w/</th>\n      <td>[Timestamp](https://imgur.com/a/2xdn4yk)\\n\\nLo...</td>\n      <td>Bought GMK Olivia Dark ++ Spacebars Kit from  ...</td>\n      <td>[US-CA] [H] Olivia Dark + Spacebars + Noveltie...</td>\n      <td>[timestamp](https://imgur.com/a/2xdn4yk)\\n\\nlo...</td>\n      <td>[us-ca] [h] olivia dark + spacebars + noveltie...</td>\n      <td>gmk olivia</td>\n    </tr>\n    <tr>\n      <th>ra1nnn</th>\n      <th>/r/mechmarket/comments/lkm7vm/usca_h_gmk_zhuyin_wob_keyforge_shishi_lord_of_ivy/</th>\n      <td>[stampsstampstamps](https://i.imgur.com/zTUPbE...</td>\n      <td>Bought gmk zhuyin alphas from u/ra1nnn</td>\n      <td>[US-CA] [H] GMK Zhuyin WoB, Keyforge Shishi (L...</td>\n      <td>[stampsstampstamps](https://i.imgur.com/ztupbe...</td>\n      <td>[us-ca] [h] gmk zhuyin wob, keyforge shishi (l...</td>\n      <td>gmk zhuyin</td>\n    </tr>\n    <tr>\n      <th>Acabi</th>\n      <th>/r/mechmarket/comments/lnsaoi/usca_h_gmk_taro_boba_alphas_gmk_n9_relegendables/</th>\n      <td>Hello everyone! All shipping and fees are incl...</td>\n      <td>Sold N9 GMK Relegendables to u/F3Company</td>\n      <td>[US-CA] [H] GMK Taro Boba Alphas, GMK N9 Releg...</td>\n      <td>hello everyone! all shipping and fees are incl...</td>\n      <td>[us-ca] [h] gmk taro boba alphas, gmk n9 releg...</td>\n      <td>gmk relegendables</td>\n    </tr>\n    <tr>\n      <th rowspan=\"2\" valign=\"top\">Clleno</th>\n      <th>/r/mechmarket/comments/lilnp8/usca_h_built_eo87_gmk_bingsu_epbt_kon_momo_taro/</th>\n      <td>[Timestamp](https://imgur.com/a/S705CqX?fbclid...</td>\n      <td>Bought GMK Taro R2 accent &amp; novelties kits fro...</td>\n      <td>[US-CA] [H] Built EO-87, GMK Bingsu, EPBT Kon ...</td>\n      <td>[timestamp](https://imgur.com/a/s705cqx?fbclid...</td>\n      <td>[us-ca] [h] built eo-87, gmk bingsu, epbt kon ...</td>\n      <td>gmk taro</td>\n    </tr>\n    <tr>\n      <th>/r/mechmarket/comments/l2cgea/usca_h_polycarbonate_maja_gmk_taro_accent_kit/</th>\n      <td>[Timestamp](https://imgur.com/a/ANTp6Vy?fbclid...</td>\n      <td>Bought GMK Taro R2 accent &amp; novelties kits fro...</td>\n      <td>[US-CA] [H] Polycarbonate MAJA , GMK Taro Acce...</td>\n      <td>[timestamp](https://imgur.com/a/antp6vy?fbclid...</td>\n      <td>[us-ca] [h] polycarbonate maja , gmk taro acce...</td>\n      <td>gmk taro</td>\n    </tr>\n  </tbody>\n</table>\n<p>187 rows × 6 columns</p>\n</div>"
     },
     "metadata": {},
     "execution_count": 110
    }
   ],
   "source": [
    "def split_on_gmk(x):\n",
    "    a = x.lower().split(\"gmk\")[1]\n",
    "    return \"gmk \" + a.split()[0]\n",
    "\n",
    "only_gmk['product_name'] = only_gmk['rawtext'].apply(split_on_gmk)\n",
    "only_gmk"
   ]
  },
  {
   "cell_type": "code",
   "execution_count": 116,
   "metadata": {
    "tags": []
   },
   "outputs": [
    {
     "output_type": "stream",
     "name": "stdout",
     "text": [
      "PRODUCT: gmk metaverse LINE: |~~gmk metaverse r2 (base + royal + spacebars + black rama)~~|[~~click here~~](https://imgur.com/a/6bh5pek)|~~all kits are sealed; bnib~~|**sold** ~~$420 shipped in trays~~| PRICES: [420]\nPRODUCT: gmk relegendables LINE: ~~**gmk relegendables $40 shipped**~~ sold local sale PRICES: [40]\nPRODUCT: gmk camping LINE: |~~gmk camping deskmat~~|~~lightly used, in good condition~~|~~$30 shipped~~ sold for asking| PRICES: [30]\nPRODUCT: gmk masterpiece LINE: ~~gmk masterpiece x rama master gold - $175~~ sold. PRICES: [175]\nPRODUCT: gmk masterpiece LINE: ~~gmk masterpiece x rama knife black - $175~~ sold. PRICES: [175]\nPRODUCT: gmk masterpiece LINE: ~~gmk masterpiece x rama knife gold - $175~~ sold. PRICES: [175]\nPRODUCT: gmk nautilus LINE: - ~~sold: gmk nautilus nightmares - $200~~ PRICES: [200]\nPRODUCT: gmk olivia++ LINE: |~~gmk olivia++ light base~~|~~no shine, practically new. shipped in bags.~~|~~$300~~ sold for asking to u/sortabeta| PRICES: [300]\nPRODUCT: gmk olivia++ LINE: |~~gmk olivia++ dark base~~|~~no shine, never used. shipped in bags.~~|~~$265~~| PRICES: [265]\nPRODUCT: gmk olivia++ LINE: |~~gmk olivia++ extensions~~|~~no shine, never used. shipped in tray.~~|~~$90~~ sold for asking to u/kind_mind_1196| PRICES: [90]\nPRODUCT: gmk olivia++ LINE: |~~gmk olivia++ spacebars + novelties~~|~~no shine, practically new. shipped in tray.~~|~~$100~~| PRICES: [100]\nPRODUCT: gmk olivia++ LINE: |~~gmk olivia++ dark base~~|~~removed from trays but never used. shipped in bags.~~|~~$250~~| PRICES: [250]\nPRODUCT: gmk olivia++ LINE: |~~gmk olivia++ novelties + spacebars~~|~~one spacebar and novelties are lightly used. all in impeccable condition.~~|~~$100~~| PRICES: [100]\nPRODUCT: gmk olivia LINE: |~~gmk olivia++ light base~~|~~no shine, practically new. shipped in bags.~~|~~$300~~ sold for asking to u/sortabeta| PRICES: [300]\nPRODUCT: gmk olivia LINE: |~~gmk olivia++ dark base~~|~~no shine, never used. shipped in bags.~~|~~$265~~| PRICES: [265]\nPRODUCT: gmk olivia LINE: |~~gmk olivia++ extensions~~|~~no shine, never used. shipped in tray.~~|~~$90~~ sold for asking to u/kind_mind_1196| PRICES: [90]\nPRODUCT: gmk olivia LINE: |~~gmk olivia++ spacebars + novelties~~|~~no shine, practically new. shipped in tray.~~|~~$100~~| PRICES: [100]\nPRODUCT: gmk olivia LINE: |~~gmk olivia++ dark base~~|~~removed from trays but never used. shipped in bags.~~|~~$250~~| PRICES: [250]\nPRODUCT: gmk olivia LINE: |~~gmk olivia++ novelties + spacebars~~|~~one spacebar and novelties are lightly used. all in impeccable condition.~~|~~$100~~| PRICES: [100]\nPRODUCT: gmk olivia LINE: |~~gmk olivia++ dark base~~|~~removed from trays but never used. shipped in bags.~~|~~$250~~ sold for asking to u/_imalittlestitious| PRICES: [250]\nPRODUCT: gmk olivia LINE: |~~gmk olivia++ novelties + spacebars~~|~~one spacebar and novelties lightly used with no shine or damage. all in impeccable condition. shipped in bags or trays, depending on if they're bundled with the dark base.~~|~~$100~~ sold for asking to u/_imalittlestitious| PRICES: [100]\nPRODUCT: gmk olivia LINE: |~~gmk olivia++ light base~~|~~no shine, practically new. shipped in bags.~~|~~$300~~ sold for asking to u/sortabeta| PRICES: [300]\nPRODUCT: gmk olivia LINE: |~~gmk olivia++ dark base~~|~~no shine, never used. shipped in bags.~~|~~$265~~| PRICES: [265]\nPRODUCT: gmk olivia LINE: |~~gmk olivia++ extensions~~|~~no shine, never used. shipped in tray.~~|~~$90~~ sold for asking to u/kind_mind_1196| PRICES: [90]\nPRODUCT: gmk olivia LINE: |~~gmk olivia++ spacebars + novelties~~|~~no shine, practically new. shipped in tray.~~|~~$100~~| PRICES: [100]\nPRODUCT: gmk olivia LINE: |~~gmk olivia++ dark base~~|~~removed from trays but never used. shipped in bags.~~|~~$250~~| PRICES: [250]\nPRODUCT: gmk olivia LINE: |~~gmk olivia++ novelties + spacebars~~|~~one spacebar and novelties are lightly used. all in impeccable condition.~~|~~$100~~| PRICES: [100]\nPRODUCT: gmk olivia LINE: |~~gmk olivia++ dark base~~|~~removed from trays but never used. shipped in bags.~~|~~$250~~ sold for asking to u/_imalittlestitious| PRICES: [250]\nPRODUCT: gmk olivia LINE: |~~gmk olivia++ novelties + spacebars~~|~~one spacebar and novelties lightly used with no shine or damage. all in impeccable condition. shipped in bags or trays, depending on if they're bundled with the dark base.~~|~~$100~~ sold for asking to u/_imalittlestitious| PRICES: [100]\nPRODUCT: gmk umbra LINE: ~~gmk umbra for $285 shipped~~  **sold** for $270 shipped PRICES: [285, 270]\nPRODUCT: gmk umbra LINE: ~~gmk umbra for $285 shipped~~  **sold** for $270 shipped PRICES: [285, 270]\nPRODUCT: gmk rudy LINE: ~~gmk rudy base kit~~: $280 shipped  sold PRICES: [280]\nPRODUCT: gmk taro LINE: [~~gmk taro basekit~~](https://imgur.com/ktwf8of): $280 shipped   sold PRICES: [280]\nPRODUCT: gmk taro LINE: [~~gmk taro milk tea mods~~](https://imgur.com/b2h5s28): $100 shipped  sold PRICES: [100]\nPRODUCT: gmk taro LINE: ~~gmk taro r2 | base | mounted for 2 days | **$300 shipped conus**~~ **sold** PRICES: [300]\nPRODUCT: gmk deep LINE: ~~gmk deep space~~-sold for $180 PRICES: [180]\nPRODUCT: gmk 9009 LINE: ~~gmk 9009 r3 + spacebars - $275~~ PRICES: [275]\nPRODUCT: gmk cafe LINE: ~~gmk cafe + rama bean + gmk cafe spacebars - $450~~ PRICES: [450]\nPRODUCT: gmk firefly LINE: **~~gmk firefly $330~~**  PRICES: [330]\nPRODUCT: gmk merlin LINE: ~~gmk merlin base - 200$ plus shipping. lightly used for maybe a week. i’ll include the shipping in the price if it’s shipped in bags.~~ PRICES: [200]\nPRODUCT: gmk dark LINE: gmk dark, base and deviant, factory sealed. -$260 usd sold! PRICES: [260]\nPRODUCT: gmk alter LINE: ~~gmk alter - lightly used for photos, chipped corner on trays, includes falter, sealed spacebars and novelties - $575~~ sold PRICES: [575]\nPRODUCT: gmk red LINE: ~~3. also selling a complete gmk red samurai keycap set - $85 obo~~ PRICES: [85]\nPRODUCT: gmk wob LINE: **~~gmk wob hiragana (used for a day) - $200~~** **sold** PRICES: [200]\nPRODUCT: gmk metaverse LINE: |gmk metaverse r2 base|new, sealed|~~$285 shipped~~ **sold**| PRICES: [285]\nPRODUCT: gmk olivia++ LINE: ~~gmk olivia++ (dark base + spacebars)~~ | ~~$300~~ | ~~[pics](https://imgur.com/a/cl9c2dj)~~ | ~~still sealed~~ | **sold** PRICES: [300]\nPRODUCT: gmk olivia++ LINE: ~~gmk olivia++ (light base + spacebars)~~ | ~~$365~~ | ~~[pics](https://imgur.com/a/nql1ufd)~~ | ~~still sealed~~ | **sold** PRICES: [365]\nPRODUCT: gmk camping LINE: ~~gmk camping r2 (base + novelties + spacebars)~~ | ~~$380~~ | ~~[pics](https://imgur.com/a/yppyt8d)~~ | ~~still sealed~~ | **sold** PRICES: [380]\nPRODUCT: gmk camping LINE: ~~gmk camping r2 latin alphas + gmk camping r1 novelties~~ | ~~$275~~ | ~~[pics](https://imgur.com/a/pdtafx5)~~ | ~~still sealed, lets you convert your existing r2 into r1~~ | **sold** PRICES: [275]\nPRODUCT: gmk carbon LINE: ~~gmk carbon: $185 shipped conus.~~ PRICES: [185]\nPRODUCT: gmk bleached LINE: ~~**gmk bleached rama x and o cap $110 each**~~ **both sold** PRICES: [110]\nPRODUCT: gmk bleached LINE: ~~**gmk bleached rama x and o cap $110 each**~~ **both sold** PRICES: [110]\nPRODUCT: gmk dmg LINE: |[gmk dmg + spacebars](https://imgur.com/4i5ghhi)|$350 shipped, paypal, us only|~~available~~ sold for asking|brand new in box| PRICES: [350]\nPRODUCT: gmk sandstorm LINE: ~~hi mechmarket. selling gmk sandstorm base and space for~~ **~~$315 + shipping~~**~~. the keycaps will be~~ **~~shipped in bags~~** *~~(the jtk trays in the pictures will not be included)~~*~~. shipping from sg to conus is estimated to be around $25-$40, but please pm me for a quote. the tsangan layout keycaps with accents were very lightly used, but there's no visible shine as far as i can tell.~~ PRICES: [315, 25, 40]\nPRODUCT: gmk first LINE: [gmk first love and rama](https://imgur.com/a/fcvbjf0) \\- ~~bought this set used from another user here a couple days ago. unfortunately have to get rid of it. the set still looks great, althought there is some slight shine on the spacebar and subtle visible shine on w,a,s,d and shift keys. the rama you can see in the picture i also bought with a couple of scuffs on the bottom end, but not visible when in a case or mounted. all of the rest of the keycaps other than a basic 65% layout were never touched. .~~ **~~$330 shipped in box $320 shipped in bags.~~** **~~base kit sold for $220. rama still avilable for $80 shipped~~** PRICES: [330, 320, 220, 80]\nPRODUCT: gmk first LINE: [~~gmk first love rama~~](https://imgur.com/a/rwno8ek) ~~- bought this about a week ago from another user but have to let it go. there are some scratched on the bottom side, but can't be seen from display case or when mounted.~~ **~~$75 shipped obo~~** **sold** PRICES: [75]\nPRODUCT: gmk nautilus LINE: gmk nautilus r1 base | heavily used and shined. there are also a few scuffed keycaps with dents due to dropping my keyboard. throwing in a 4 ft usb-c naut-themed cable in for free to sweeten the deal.| ~~$120~~ sold PRICES: [120]\nPRODUCT: gmk camping LINE: **~~gmk camping bundle~~** ~~-  kits included: base, novelties, spacebars, latin alphas. typed on for a few weeks. latin alphas are still sealed. looking to keep all of this bundled.~~ **~~$375 shipped~~** *sold for $360 shipped* PRICES: [375, 360]\nPRODUCT: gmk eclipse LINE: **~~gmk eclipse + pale blue accents $220 shipped in box/tray~~** **sold for $210** PRICES: [220, 210]\nPRODUCT: gmk olivia++ LINE: ~~hello, i have an unopened set of gmk olivia++ dark (the black alphas) core set, never mounted and still in plastic. asking for $270 shipped conus only, thanks!~~ PRICES: [270]\nPRODUCT: gmk noel LINE: ~~gmk noel (novelties) -- $80~~ PRICES: [80]\nPRODUCT: gmk taro LINE: ~~gmk taro r2 base $300~~ sold PRICES: [300]\nPRODUCT: gmk metaverse LINE: **~~gmk metaverse r2 base, novelties, royal and spacebar~~**~~. brand new, sealed.  $470 shipped~~ sold PRICES: [470]\nPRODUCT: gmk firefly LINE: |[~~gmk firefly base + (de)accents~~](https://imgur.com/a/on7o08c)|~~typed on for a few hours a month ago and then put everything back to tray, no shine~~|~~$315 shipped in tray or $310 shipped in bags, sold for $305 local pickup~~| PRICES: [315, 310, 305]\nPRODUCT: gmk camping LINE: ~~gmk camping r2 - light shine, overall great condition - $215~~ sold for asking PRICES: [215]\nPRODUCT: gmk olivia LINE: ~~gmk olivia++ light base, new, $300.~~  sold for asking PRICES: [300]\nPRODUCT: gmk olivia LINE: * ~~gmk olivia ++ dark base and novelties~~ **~~$250~~** PRICES: [250]\nPRODUCT: gmk delta LINE: ~~gmk delta base - used for a few months, no shine.  complete set including original box and trays.~~ **~~asking $300 shipped~~** sold to u/acceptable_ocelot PRICES: [300]\nPRODUCT: gmk striker LINE: |gmk striker|mounted once other than that its not been used|$340 sold| PRICES: [340]\nPRODUCT: gmk mizu LINE: it includes gmk mizu base kit, spacebars, novelties, and the tulia deskmat.  everything is used for about a month but typed on lightly. i cannot see any shine, even with harsh lighting. more pics can be provided but i tried to get some with harsh lighting in the timestamp. tulia mat has been used for almost a year straight, so there are a few tiny spots that will probably come out with it being cleaned off. i am looking for $450 shipped obo or trades for rama x and o keycaps. sold for 435 PRICES: [450]\nPRODUCT: gmk zhuyin LINE: ~~gmk zhuyin wob alphas add-on kit~~ |  ~~new, sealed~~ | ~~$170 shipped conus~~ | **sold** PRICES: [170]\nPRODUCT: gmk cafe LINE: |~~gmk cafe bnib~~|~~bnib cafe~~|~~310$ shipped~~|no, sold asking| PRICES: [310]\nPRODUCT: gmk nautilus LINE: |~~gmk nautilus 2 core~~|~~new, sealed~~|~~$265~~|sold to /u/mewogoginspin for asking| PRICES: [265]\nPRODUCT: gmk botanical LINE: |~~gmk botanical base, novelties, green rama~~|~~$525 sold as bundle~~| PRICES: [525]\nPRODUCT: gmk spirit LINE: ~~sealed gmk spirit base kit: $250~~ sold PRICES: [250]\nPRODUCT: gmk jamon LINE: sold* gmk jamon base - $200 shipped conus  PRICES: [200]\nPRODUCT: gmk nines LINE: sold* gmk nines base - $200 shipped conus PRICES: [200]\nPRODUCT: gmk taro LINE: ~~gmk taro bundle of all kits - $345~~ PRICES: [345]\nPRODUCT: gmk taro LINE: ~~gmk taro base kit - $300~~ sold for asking, ~~novelties - $60~~ sold for $55, ~~accents - $45~~ sold for asking PRICES: [300, 60, 55, 45]\nPRODUCT: gmk taro LINE: ~~gmk taro base kit+novelties+accents - $425~~ PRICES: [425]\nPRODUCT: gmk taro LINE: ~~gmk taro r2 base kit - $300~~ sold for asking, ~~novelties - $70~~ sold for $55, ~~accents - $45~~ sold for asking PRICES: [300, 70, 55, 45]\nPRODUCT: gmk taro LINE: ~~gmk taro base kit - $300~~ sold for asking, ~~accents - $45~~ sold for asking PRICES: [300, 45]\nPRODUCT: gmk taro LINE: ~~gmk taro base kit+accents - $345~~ PRICES: [345]\nPRODUCT: gmk taro LINE: ~~gmk taro r2 bundle of all kits - $425~~ PRICES: [425]\nPRODUCT: gmk taro LINE: ~~gmk taro r2 base kit - $300~~ sold for asking, ~~novelties - $70~~ sold for $55, ~~accents - $45~~ sold for asking PRICES: [300, 70, 55, 45]\nPRODUCT: gmk nautilus LINE: |~~gmk nautilus nightmares base + novelties~~|like new, mounted once for pictures.|$265 shipped| PRICES: [265]\nPRODUCT: gmk classic LINE: ~~gmk classic retro (originative)- used,  no shine $230 shipped in og tray or $210 shipped in bag~~ sold PRICES: [230, 210]\nPRODUCT: gmk olivia++ LINE: gmk olivia++ spacebars | brand new sealed | ~~$90 shipped, conus only~~ sold PRICES: [90]\nPRODUCT: gmk laser LINE: ~~gmk laser gaijin alphas, spacebars, and mitowaves (has shine on some keys) (most spacebars were never used)~~: $300 sold PRICES: [300]\nPRODUCT: gmk laser LINE: ~~gmk laser translucent keycaps (sealed) (dusk color):~~ $35 sold PRICES: [35]\ndefaultdict(<class 'list'>, {'gmk metaverse': [420, 285, 470], 'gmk relegendables': [40], 'gmk camping': [30, 380, 275, 360, 215], 'gmk masterpiece': [175, 175, 175], 'gmk nautilus': [200, 120, 265, 265], 'gmk olivia++': [300, 265, 90, 100, 250, 100, 300, 365, 270, 90], 'gmk olivia': [300, 265, 90, 100, 250, 100, 250, 100, 300, 265, 90, 100, 250, 100, 250, 100, 300, 250], 'gmk umbra': [270, 270], 'gmk rudy': [280], 'gmk taro': [280, 100, 300, 300, 345, 45, 425, 45, 45, 345, 425, 45], 'gmk deep': [180], 'gmk 9009': [275], 'gmk cafe': [450, 310], 'gmk firefly': [330, 305], 'gmk merlin': [200], 'gmk dark': [260], 'gmk alter': [575], 'gmk red': [85], 'gmk wob': [200], 'gmk carbon': [185], 'gmk bleached': [110, 110], 'gmk dmg': [350], 'gmk sandstorm': [25], 'gmk first': [80, 75], 'gmk eclipse': [210], 'gmk noel': [80], 'gmk delta': [300], 'gmk striker': [340], 'gmk mizu': [450], 'gmk zhuyin': [170], 'gmk botanical': [525], 'gmk spirit': [250], 'gmk jamon': [200], 'gmk nines': [200], 'gmk classic': [210], 'gmk laser': [300, 35]})\n"
     ]
    }
   ],
   "source": [
    "from collections import defaultdict\n",
    "all_prices = defaultdict(list)\n",
    "\n",
    "money_regex = r'\\$\\d+|\\d+\\$'\n",
    "\n",
    "def match_product(df):\n",
    "    for row in df.itertuples():\n",
    "        s = row.post_lower.split(\"\\n\")\n",
    "        product = row.product_name.lower()\n",
    "        for l in s:\n",
    "            low = l.lower()\n",
    "            if product in low and ('~~' in low or 'sold' in low):\n",
    "                matches = re.findall(money_regex, low)\n",
    "                \n",
    "                prices = [int(re.findall(r'\\d+', m)[0]) for m in matches]\n",
    "                if len(prices) > 0:\n",
    "                    print(f\"PRODUCT: {product} LINE: {low} PRICES: {prices}\")\n",
    "                    all_prices[product].append(min(prices))\n",
    "    \n",
    "\n",
    "for i, new_df in only_gmk.groupby(level=0):\n",
    "    match_product(new_df)\n",
    "\n",
    "print(all_prices)"
   ]
  },
  {
   "cell_type": "code",
   "execution_count": null,
   "metadata": {},
   "outputs": [],
   "source": []
  }
 ],
 "metadata": {
  "kernelspec": {
   "name": "python379jvsc74a57bd0aee8b7b246df8f9039afb4144a1f6fd8d2ca17a180786b69acc140d282b71a49",
   "display_name": "Python 3.7.9 64-bit"
  },
  "metadata": {
   "interpreter": {
    "hash": "aee8b7b246df8f9039afb4144a1f6fd8d2ca17a180786b69acc140d282b71a49"
   }
  }
 },
 "nbformat": 4,
 "nbformat_minor": 2
}