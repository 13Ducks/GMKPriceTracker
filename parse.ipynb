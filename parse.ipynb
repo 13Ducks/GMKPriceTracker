{
 "cells": [
  {
   "cell_type": "code",
   "execution_count": 1,
   "metadata": {},
   "outputs": [],
   "source": [
    "import pandas as pd\n",
    "import re"
   ]
  },
  {
   "cell_type": "code",
   "execution_count": 2,
   "metadata": {},
   "outputs": [
    {
     "output_type": "execute_result",
     "data": {
      "text/plain": [
       "                                                                                 date  \\\n",
       "author               link                                                               \n",
       "ohwhatitsmeels       /r/mechmarket/comments/m38spq/usca_h_hhkb_class...  1.615520e+09   \n",
       "                     /r/mechmarket/comments/m8p437/usca_h_modern_m01...  1.616182e+09   \n",
       "IOVERCALLHISTIOCYTES /r/mechmarket/comments/mese1t/ustx_h_gmk_metrop...  1.616898e+09   \n",
       "Ayylmao69420xd       /r/mechmarket/comments/mgofvm/eunl_h_gmk_yuri_g...  1.617134e+09   \n",
       "                     /r/mechmarket/comments/mav2om/eunl_h_ultimate_g...  1.616439e+09   \n",
       "\n",
       "                                                                                                                      post  \\\n",
       "author               link                                                                                                    \n",
       "ohwhatitsmeels       /r/mechmarket/comments/m38spq/usca_h_hhkb_class...  **EDIT: Getting a lot of messages and question...   \n",
       "                     /r/mechmarket/comments/m8p437/usca_h_modern_m01...  [Timestamp!](https://imgur.com/a/2f78aSe)\\n\\nH...   \n",
       "IOVERCALLHISTIOCYTES /r/mechmarket/comments/mese1t/ustx_h_gmk_metrop...  [Timestamp](https://imgur.com/a/OtOkI8s)   \\n\\...   \n",
       "Ayylmao69420xd       /r/mechmarket/comments/mgofvm/eunl_h_gmk_yuri_g...  Heya! [Timestamp](https://i.imgur.com/A28F0cL....   \n",
       "                     /r/mechmarket/comments/mav2om/eunl_h_ultimate_g...  ~~Heya!~~ [~~Timestamp~~](https://i.imgur.com/...   \n",
       "\n",
       "                                                                                                                   rawtext  \\\n",
       "author               link                                                                                                    \n",
       "ohwhatitsmeels       /r/mechmarket/comments/m38spq/usca_h_hhkb_class...  sold built switch couture alice and gmk hennes...   \n",
       "                     /r/mechmarket/comments/m8p437/usca_h_modern_m01...  sold built switch couture alice and gmk hennes...   \n",
       "IOVERCALLHISTIOCYTES /r/mechmarket/comments/mese1t/ustx_h_gmk_metrop...  bought gmk handarbeit from /u/iovercallhistioc...   \n",
       "Ayylmao69420xd       /r/mechmarket/comments/mgofvm/eunl_h_gmk_yuri_g...   sold gmk copper bundle to u/affectionate-plum193   \n",
       "                     /r/mechmarket/comments/mav2om/eunl_h_ultimate_g...   sold gmk copper bundle to u/affectionate-plum193   \n",
       "\n",
       "                                                                                                                     title  \n",
       "author               link                                                                                                   \n",
       "ohwhatitsmeels       /r/mechmarket/comments/m38spq/usca_h_hhkb_class...  [US-CA] [H] HHKB Classic, PC Leaf60 HHKB, GMK ...  \n",
       "                     /r/mechmarket/comments/m8p437/usca_h_modern_m01...  [US-CA] [H] Modern M0110, KBDfans D60, GMK Hen...  \n",
       "IOVERCALLHISTIOCYTES /r/mechmarket/comments/mese1t/ustx_h_gmk_metrop...  [US-TX] [H] GMK Metropolis sealed, Handarbeit ...  \n",
       "Ayylmao69420xd       /r/mechmarket/comments/mgofvm/eunl_h_gmk_yuri_g...  [EU-NL] [H] GMK Yuri, GMK honey, ePBT Ivory, E...  \n",
       "                     /r/mechmarket/comments/mav2om/eunl_h_ultimate_g...  [EU-NL] [H] Ultimate GMK Copper bundle [W] PayPal  "
      ],
      "text/html": "<div>\n<style scoped>\n    .dataframe tbody tr th:only-of-type {\n        vertical-align: middle;\n    }\n\n    .dataframe tbody tr th {\n        vertical-align: top;\n    }\n\n    .dataframe thead th {\n        text-align: right;\n    }\n</style>\n<table border=\"1\" class=\"dataframe\">\n  <thead>\n    <tr style=\"text-align: right;\">\n      <th></th>\n      <th></th>\n      <th>date</th>\n      <th>post</th>\n      <th>rawtext</th>\n      <th>title</th>\n    </tr>\n    <tr>\n      <th>author</th>\n      <th>link</th>\n      <th></th>\n      <th></th>\n      <th></th>\n      <th></th>\n    </tr>\n  </thead>\n  <tbody>\n    <tr>\n      <th rowspan=\"2\" valign=\"top\">ohwhatitsmeels</th>\n      <th>/r/mechmarket/comments/m38spq/usca_h_hhkb_classic_pc_leaf60_hhkb_gmk_laser_r1/</th>\n      <td>1.615520e+09</td>\n      <td>**EDIT: Getting a lot of messages and question...</td>\n      <td>sold built switch couture alice and gmk hennes...</td>\n      <td>[US-CA] [H] HHKB Classic, PC Leaf60 HHKB, GMK ...</td>\n    </tr>\n    <tr>\n      <th>/r/mechmarket/comments/m8p437/usca_h_modern_m0110_kbdfans_d60_gmk_hennessey/</th>\n      <td>1.616182e+09</td>\n      <td>[Timestamp!](https://imgur.com/a/2f78aSe)\\n\\nH...</td>\n      <td>sold built switch couture alice and gmk hennes...</td>\n      <td>[US-CA] [H] Modern M0110, KBDfans D60, GMK Hen...</td>\n    </tr>\n    <tr>\n      <th>IOVERCALLHISTIOCYTES</th>\n      <th>/r/mechmarket/comments/mese1t/ustx_h_gmk_metropolis_sealed_handarbeit_untouched/</th>\n      <td>1.616898e+09</td>\n      <td>[Timestamp](https://imgur.com/a/OtOkI8s)   \\n\\...</td>\n      <td>bought gmk handarbeit from /u/iovercallhistioc...</td>\n      <td>[US-TX] [H] GMK Metropolis sealed, Handarbeit ...</td>\n    </tr>\n    <tr>\n      <th rowspan=\"2\" valign=\"top\">Ayylmao69420xd</th>\n      <th>/r/mechmarket/comments/mgofvm/eunl_h_gmk_yuri_gmk_honey_epbt_ivory_e85_wk/</th>\n      <td>1.617134e+09</td>\n      <td>Heya! [Timestamp](https://i.imgur.com/A28F0cL....</td>\n      <td>sold gmk copper bundle to u/affectionate-plum193</td>\n      <td>[EU-NL] [H] GMK Yuri, GMK honey, ePBT Ivory, E...</td>\n    </tr>\n    <tr>\n      <th>/r/mechmarket/comments/mav2om/eunl_h_ultimate_gmk_copper_bundle_w_paypal/</th>\n      <td>1.616439e+09</td>\n      <td>~~Heya!~~ [~~Timestamp~~](https://i.imgur.com/...</td>\n      <td>sold gmk copper bundle to u/affectionate-plum193</td>\n      <td>[EU-NL] [H] Ultimate GMK Copper bundle [W] PayPal</td>\n    </tr>\n  </tbody>\n</table>\n</div>"
     },
     "metadata": {},
     "execution_count": 2
    }
   ],
   "source": [
    "df = pd.read_csv('april2021.csv')\n",
    "df.drop(df.columns[0], axis=1, inplace=True)\n",
    "df.drop_duplicates(subset=[\"link\"], inplace=True)\n",
    "df.set_index(['author', 'link'], inplace=True)\n",
    "df.head()"
   ]
  },
  {
   "cell_type": "code",
   "execution_count": 3,
   "metadata": {},
   "outputs": [
    {
     "output_type": "execute_result",
     "data": {
      "text/plain": [
       "((579, 6), (811, 6))"
      ]
     },
     "metadata": {},
     "execution_count": 3
    }
   ],
   "source": [
    "df['post_lower'] = df['post'].str.lower()\n",
    "df['title_lower'] = df['title'].str.lower()\n",
    "only_gmk = df[df['post_lower'].str.contains('gmk') | df['title_lower'].str.contains('gmk')].copy()\n",
    "only_gmk.shape, df.shape"
   ]
  },
  {
   "cell_type": "code",
   "execution_count": 5,
   "metadata": {},
   "outputs": [
    {
     "output_type": "execute_result",
     "data": {
      "text/plain": [
       "                                                                                 date  \\\n",
       "author               link                                                               \n",
       "ohwhatitsmeels       /r/mechmarket/comments/m38spq/usca_h_hhkb_class...  1.615520e+09   \n",
       "                     /r/mechmarket/comments/m8p437/usca_h_modern_m01...  1.616182e+09   \n",
       "IOVERCALLHISTIOCYTES /r/mechmarket/comments/mese1t/ustx_h_gmk_metrop...  1.616898e+09   \n",
       "Ayylmao69420xd       /r/mechmarket/comments/mgofvm/eunl_h_gmk_yuri_g...  1.617134e+09   \n",
       "                     /r/mechmarket/comments/mav2om/eunl_h_ultimate_g...  1.616439e+09   \n",
       "...                                                                               ...   \n",
       "juicetinmk           /r/mechmarket/comments/mm9sqs/usca_h_gmk_night_...  1.617823e+09   \n",
       "kiwi_kal             /r/mechmarket/comments/mvtcvb/ustx_h_gmk_pulse_...  1.619051e+09   \n",
       "BraveKeyboards       /r/mechmarket/comments/mtnvun/usma_h_mizu_artis...  1.618788e+09   \n",
       "rapierpoint          /r/mechmarket/comments/miy8do/usnyh_custom_hhkb...  1.617412e+09   \n",
       "MeteoricJello        /r/mechmarket/comments/my851u/hkh_gmk_honey_alp...  1.619357e+09   \n",
       "\n",
       "                                                                                                                      post  \\\n",
       "author               link                                                                                                    \n",
       "ohwhatitsmeels       /r/mechmarket/comments/m38spq/usca_h_hhkb_class...  **EDIT: Getting a lot of messages and question...   \n",
       "                     /r/mechmarket/comments/m8p437/usca_h_modern_m01...  [Timestamp!](https://imgur.com/a/2f78aSe)\\n\\nH...   \n",
       "IOVERCALLHISTIOCYTES /r/mechmarket/comments/mese1t/ustx_h_gmk_metrop...  [Timestamp](https://imgur.com/a/OtOkI8s)   \\n\\...   \n",
       "Ayylmao69420xd       /r/mechmarket/comments/mgofvm/eunl_h_gmk_yuri_g...  Heya! [Timestamp](https://i.imgur.com/A28F0cL....   \n",
       "                     /r/mechmarket/comments/mav2om/eunl_h_ultimate_g...  ~~Heya!~~ [~~Timestamp~~](https://i.imgur.com/...   \n",
       "...                                                                                                                    ...   \n",
       "juicetinmk           /r/mechmarket/comments/mm9sqs/usca_h_gmk_night_...  Hi all, I have a few things for sale in the Co...   \n",
       "kiwi_kal             /r/mechmarket/comments/mvtcvb/ustx_h_gmk_pulse_...  Timestamp: [https://i.imgur.com/9WpduzC.jpg](h...   \n",
       "BraveKeyboards       /r/mechmarket/comments/mtnvun/usma_h_mizu_artis...  [Timestamp](https://imgur.com/gallery/tsgXrAz)...   \n",
       "rapierpoint          /r/mechmarket/comments/miy8do/usnyh_custom_hhkb...  [Timestamp](https://imgur.com/a/jzReoEM)\\n\\nHe...   \n",
       "MeteoricJello        /r/mechmarket/comments/my851u/hkh_gmk_honey_alp...  [Timestamp](https://imgur.com/a/JlIZUfy)\\n\\n&#...   \n",
       "\n",
       "                                                                                                                   rawtext  \\\n",
       "author               link                                                                                                    \n",
       "ohwhatitsmeels       /r/mechmarket/comments/m38spq/usca_h_hhkb_class...  sold built switch couture alice and gmk hennes...   \n",
       "                     /r/mechmarket/comments/m8p437/usca_h_modern_m01...  sold built switch couture alice and gmk hennes...   \n",
       "IOVERCALLHISTIOCYTES /r/mechmarket/comments/mese1t/ustx_h_gmk_metrop...  bought gmk handarbeit from /u/iovercallhistioc...   \n",
       "Ayylmao69420xd       /r/mechmarket/comments/mgofvm/eunl_h_gmk_yuri_g...   sold gmk copper bundle to u/affectionate-plum193   \n",
       "                     /r/mechmarket/comments/mav2om/eunl_h_ultimate_g...   sold gmk copper bundle to u/affectionate-plum193   \n",
       "...                                                                                                                    ...   \n",
       "juicetinmk           /r/mechmarket/comments/mm9sqs/usca_h_gmk_night_...             sold gmk finer things to /u/hiromitsu6   \n",
       "kiwi_kal             /r/mechmarket/comments/mvtcvb/ustx_h_gmk_pulse_...           bought gmk pulse mitolet from u/kiwi_kal   \n",
       "BraveKeyboards       /r/mechmarket/comments/mtnvun/usma_h_mizu_artis...  purchased gmk classic blue, blue base from u/b...   \n",
       "rapierpoint          /r/mechmarket/comments/miy8do/usnyh_custom_hhkb...  sold gmk samurai + np bundle + cherry carbon +...   \n",
       "MeteoricJello        /r/mechmarket/comments/my851u/hkh_gmk_honey_alp...               sold gmk metaverse to /u/aninogaming   \n",
       "\n",
       "                                                                                                                     title  \\\n",
       "author               link                                                                                                    \n",
       "ohwhatitsmeels       /r/mechmarket/comments/m38spq/usca_h_hhkb_class...  [US-CA] [H] HHKB Classic, PC Leaf60 HHKB, GMK ...   \n",
       "                     /r/mechmarket/comments/m8p437/usca_h_modern_m01...  [US-CA] [H] Modern M0110, KBDfans D60, GMK Hen...   \n",
       "IOVERCALLHISTIOCYTES /r/mechmarket/comments/mese1t/ustx_h_gmk_metrop...  [US-TX] [H] GMK Metropolis sealed, Handarbeit ...   \n",
       "Ayylmao69420xd       /r/mechmarket/comments/mgofvm/eunl_h_gmk_yuri_g...  [EU-NL] [H] GMK Yuri, GMK honey, ePBT Ivory, E...   \n",
       "                     /r/mechmarket/comments/mav2om/eunl_h_ultimate_g...  [EU-NL] [H] Ultimate GMK Copper bundle [W] PayPal   \n",
       "...                                                                                                                    ...   \n",
       "juicetinmk           /r/mechmarket/comments/mm9sqs/usca_h_gmk_night_...  [US-CA] [H] GMK Night Runner Base, GMK Finer T...   \n",
       "kiwi_kal             /r/mechmarket/comments/mvtcvb/ustx_h_gmk_pulse_...  [US-TX] [H] GMK Pulse Mitolet and KAT Alphas 4...   \n",
       "BraveKeyboards       /r/mechmarket/comments/mtnvun/usma_h_mizu_artis...  [US-MA] [H] Mizu Artisan Wrist Rest, GMK Laser...   \n",
       "rapierpoint          /r/mechmarket/comments/miy8do/usnyh_custom_hhkb...  [US-NY][H] Custom HHKB Pro2, Space65 CV Schrod...   \n",
       "MeteoricJello        /r/mechmarket/comments/my851u/hkh_gmk_honey_alp...    [HK][H] gmk honey, alpine65, polaris [W] Paypal   \n",
       "\n",
       "                                                                                                                post_lower  \\\n",
       "author               link                                                                                                    \n",
       "ohwhatitsmeels       /r/mechmarket/comments/m38spq/usca_h_hhkb_class...  **edit: getting a lot of messages and question...   \n",
       "                     /r/mechmarket/comments/m8p437/usca_h_modern_m01...  [timestamp!](https://imgur.com/a/2f78ase)\\n\\nh...   \n",
       "IOVERCALLHISTIOCYTES /r/mechmarket/comments/mese1t/ustx_h_gmk_metrop...  [timestamp](https://imgur.com/a/otoki8s)   \\n\\...   \n",
       "Ayylmao69420xd       /r/mechmarket/comments/mgofvm/eunl_h_gmk_yuri_g...  heya! [timestamp](https://i.imgur.com/a28f0cl....   \n",
       "                     /r/mechmarket/comments/mav2om/eunl_h_ultimate_g...  ~~heya!~~ [~~timestamp~~](https://i.imgur.com/...   \n",
       "...                                                                                                                    ...   \n",
       "juicetinmk           /r/mechmarket/comments/mm9sqs/usca_h_gmk_night_...  hi all, i have a few things for sale in the co...   \n",
       "kiwi_kal             /r/mechmarket/comments/mvtcvb/ustx_h_gmk_pulse_...  timestamp: [https://i.imgur.com/9wpduzc.jpg](h...   \n",
       "BraveKeyboards       /r/mechmarket/comments/mtnvun/usma_h_mizu_artis...  [timestamp](https://imgur.com/gallery/tsgxraz)...   \n",
       "rapierpoint          /r/mechmarket/comments/miy8do/usnyh_custom_hhkb...  [timestamp](https://imgur.com/a/jzreoem)\\n\\nhe...   \n",
       "MeteoricJello        /r/mechmarket/comments/my851u/hkh_gmk_honey_alp...  [timestamp](https://imgur.com/a/jlizufy)\\n\\n&#...   \n",
       "\n",
       "                                                                                                               title_lower  \\\n",
       "author               link                                                                                                    \n",
       "ohwhatitsmeels       /r/mechmarket/comments/m38spq/usca_h_hhkb_class...  [us-ca] [h] hhkb classic, pc leaf60 hhkb, gmk ...   \n",
       "                     /r/mechmarket/comments/m8p437/usca_h_modern_m01...  [us-ca] [h] modern m0110, kbdfans d60, gmk hen...   \n",
       "IOVERCALLHISTIOCYTES /r/mechmarket/comments/mese1t/ustx_h_gmk_metrop...  [us-tx] [h] gmk metropolis sealed, handarbeit ...   \n",
       "Ayylmao69420xd       /r/mechmarket/comments/mgofvm/eunl_h_gmk_yuri_g...  [eu-nl] [h] gmk yuri, gmk honey, epbt ivory, e...   \n",
       "                     /r/mechmarket/comments/mav2om/eunl_h_ultimate_g...  [eu-nl] [h] ultimate gmk copper bundle [w] paypal   \n",
       "...                                                                                                                    ...   \n",
       "juicetinmk           /r/mechmarket/comments/mm9sqs/usca_h_gmk_night_...  [us-ca] [h] gmk night runner base, gmk finer t...   \n",
       "kiwi_kal             /r/mechmarket/comments/mvtcvb/ustx_h_gmk_pulse_...  [us-tx] [h] gmk pulse mitolet and kat alphas 4...   \n",
       "BraveKeyboards       /r/mechmarket/comments/mtnvun/usma_h_mizu_artis...  [us-ma] [h] mizu artisan wrist rest, gmk laser...   \n",
       "rapierpoint          /r/mechmarket/comments/miy8do/usnyh_custom_hhkb...  [us-ny][h] custom hhkb pro2, space65 cv schrod...   \n",
       "MeteoricJello        /r/mechmarket/comments/my851u/hkh_gmk_honey_alp...    [hk][h] gmk honey, alpine65, polaris [w] paypal   \n",
       "\n",
       "                                                                           product_name  \n",
       "author               link                                                                \n",
       "ohwhatitsmeels       /r/mechmarket/comments/m38spq/usca_h_hhkb_class...   gmk hennessey  \n",
       "                     /r/mechmarket/comments/m8p437/usca_h_modern_m01...   gmk hennessey  \n",
       "IOVERCALLHISTIOCYTES /r/mechmarket/comments/mese1t/ustx_h_gmk_metrop...  gmk handarbeit  \n",
       "Ayylmao69420xd       /r/mechmarket/comments/mgofvm/eunl_h_gmk_yuri_g...      gmk copper  \n",
       "                     /r/mechmarket/comments/mav2om/eunl_h_ultimate_g...      gmk copper  \n",
       "...                                                                                 ...  \n",
       "juicetinmk           /r/mechmarket/comments/mm9sqs/usca_h_gmk_night_...       gmk finer  \n",
       "kiwi_kal             /r/mechmarket/comments/mvtcvb/ustx_h_gmk_pulse_...       gmk pulse  \n",
       "BraveKeyboards       /r/mechmarket/comments/mtnvun/usma_h_mizu_artis...     gmk classic  \n",
       "rapierpoint          /r/mechmarket/comments/miy8do/usnyh_custom_hhkb...     gmk samurai  \n",
       "MeteoricJello        /r/mechmarket/comments/my851u/hkh_gmk_honey_alp...   gmk metaverse  \n",
       "\n",
       "[579 rows x 7 columns]"
      ],
      "text/html": "<div>\n<style scoped>\n    .dataframe tbody tr th:only-of-type {\n        vertical-align: middle;\n    }\n\n    .dataframe tbody tr th {\n        vertical-align: top;\n    }\n\n    .dataframe thead th {\n        text-align: right;\n    }\n</style>\n<table border=\"1\" class=\"dataframe\">\n  <thead>\n    <tr style=\"text-align: right;\">\n      <th></th>\n      <th></th>\n      <th>date</th>\n      <th>post</th>\n      <th>rawtext</th>\n      <th>title</th>\n      <th>post_lower</th>\n      <th>title_lower</th>\n      <th>product_name</th>\n    </tr>\n    <tr>\n      <th>author</th>\n      <th>link</th>\n      <th></th>\n      <th></th>\n      <th></th>\n      <th></th>\n      <th></th>\n      <th></th>\n      <th></th>\n    </tr>\n  </thead>\n  <tbody>\n    <tr>\n      <th rowspan=\"2\" valign=\"top\">ohwhatitsmeels</th>\n      <th>/r/mechmarket/comments/m38spq/usca_h_hhkb_classic_pc_leaf60_hhkb_gmk_laser_r1/</th>\n      <td>1.615520e+09</td>\n      <td>**EDIT: Getting a lot of messages and question...</td>\n      <td>sold built switch couture alice and gmk hennes...</td>\n      <td>[US-CA] [H] HHKB Classic, PC Leaf60 HHKB, GMK ...</td>\n      <td>**edit: getting a lot of messages and question...</td>\n      <td>[us-ca] [h] hhkb classic, pc leaf60 hhkb, gmk ...</td>\n      <td>gmk hennessey</td>\n    </tr>\n    <tr>\n      <th>/r/mechmarket/comments/m8p437/usca_h_modern_m0110_kbdfans_d60_gmk_hennessey/</th>\n      <td>1.616182e+09</td>\n      <td>[Timestamp!](https://imgur.com/a/2f78aSe)\\n\\nH...</td>\n      <td>sold built switch couture alice and gmk hennes...</td>\n      <td>[US-CA] [H] Modern M0110, KBDfans D60, GMK Hen...</td>\n      <td>[timestamp!](https://imgur.com/a/2f78ase)\\n\\nh...</td>\n      <td>[us-ca] [h] modern m0110, kbdfans d60, gmk hen...</td>\n      <td>gmk hennessey</td>\n    </tr>\n    <tr>\n      <th>IOVERCALLHISTIOCYTES</th>\n      <th>/r/mechmarket/comments/mese1t/ustx_h_gmk_metropolis_sealed_handarbeit_untouched/</th>\n      <td>1.616898e+09</td>\n      <td>[Timestamp](https://imgur.com/a/OtOkI8s)   \\n\\...</td>\n      <td>bought gmk handarbeit from /u/iovercallhistioc...</td>\n      <td>[US-TX] [H] GMK Metropolis sealed, Handarbeit ...</td>\n      <td>[timestamp](https://imgur.com/a/otoki8s)   \\n\\...</td>\n      <td>[us-tx] [h] gmk metropolis sealed, handarbeit ...</td>\n      <td>gmk handarbeit</td>\n    </tr>\n    <tr>\n      <th rowspan=\"2\" valign=\"top\">Ayylmao69420xd</th>\n      <th>/r/mechmarket/comments/mgofvm/eunl_h_gmk_yuri_gmk_honey_epbt_ivory_e85_wk/</th>\n      <td>1.617134e+09</td>\n      <td>Heya! [Timestamp](https://i.imgur.com/A28F0cL....</td>\n      <td>sold gmk copper bundle to u/affectionate-plum193</td>\n      <td>[EU-NL] [H] GMK Yuri, GMK honey, ePBT Ivory, E...</td>\n      <td>heya! [timestamp](https://i.imgur.com/a28f0cl....</td>\n      <td>[eu-nl] [h] gmk yuri, gmk honey, epbt ivory, e...</td>\n      <td>gmk copper</td>\n    </tr>\n    <tr>\n      <th>/r/mechmarket/comments/mav2om/eunl_h_ultimate_gmk_copper_bundle_w_paypal/</th>\n      <td>1.616439e+09</td>\n      <td>~~Heya!~~ [~~Timestamp~~](https://i.imgur.com/...</td>\n      <td>sold gmk copper bundle to u/affectionate-plum193</td>\n      <td>[EU-NL] [H] Ultimate GMK Copper bundle [W] PayPal</td>\n      <td>~~heya!~~ [~~timestamp~~](https://i.imgur.com/...</td>\n      <td>[eu-nl] [h] ultimate gmk copper bundle [w] paypal</td>\n      <td>gmk copper</td>\n    </tr>\n    <tr>\n      <th>...</th>\n      <th>...</th>\n      <td>...</td>\n      <td>...</td>\n      <td>...</td>\n      <td>...</td>\n      <td>...</td>\n      <td>...</td>\n      <td>...</td>\n    </tr>\n    <tr>\n      <th>juicetinmk</th>\n      <th>/r/mechmarket/comments/mm9sqs/usca_h_gmk_night_runner_base_gmk_finer_things_gmk/</th>\n      <td>1.617823e+09</td>\n      <td>Hi all, I have a few things for sale in the Co...</td>\n      <td>sold gmk finer things to /u/hiromitsu6</td>\n      <td>[US-CA] [H] GMK Night Runner Base, GMK Finer T...</td>\n      <td>hi all, i have a few things for sale in the co...</td>\n      <td>[us-ca] [h] gmk night runner base, gmk finer t...</td>\n      <td>gmk finer</td>\n    </tr>\n    <tr>\n      <th>kiwi_kal</th>\n      <th>/r/mechmarket/comments/mvtcvb/ustx_h_gmk_pulse_mitolet_and_kat_alphas_40s_w/</th>\n      <td>1.619051e+09</td>\n      <td>Timestamp: [https://i.imgur.com/9WpduzC.jpg](h...</td>\n      <td>bought gmk pulse mitolet from u/kiwi_kal</td>\n      <td>[US-TX] [H] GMK Pulse Mitolet and KAT Alphas 4...</td>\n      <td>timestamp: [https://i.imgur.com/9wpduzc.jpg](h...</td>\n      <td>[us-tx] [h] gmk pulse mitolet and kat alphas 4...</td>\n      <td>gmk pulse</td>\n    </tr>\n    <tr>\n      <th>BraveKeyboards</th>\n      <th>/r/mechmarket/comments/mtnvun/usma_h_mizu_artisan_wrist_rest_gmk_laser_r2/</th>\n      <td>1.618788e+09</td>\n      <td>[Timestamp](https://imgur.com/gallery/tsgXrAz)...</td>\n      <td>purchased gmk classic blue, blue base from u/b...</td>\n      <td>[US-MA] [H] Mizu Artisan Wrist Rest, GMK Laser...</td>\n      <td>[timestamp](https://imgur.com/gallery/tsgxraz)...</td>\n      <td>[us-ma] [h] mizu artisan wrist rest, gmk laser...</td>\n      <td>gmk classic</td>\n    </tr>\n    <tr>\n      <th>rapierpoint</th>\n      <th>/r/mechmarket/comments/miy8do/usnyh_custom_hhkb_pro2_space65_cv_schrodinger/</th>\n      <td>1.617412e+09</td>\n      <td>[Timestamp](https://imgur.com/a/jzReoEM)\\n\\nHe...</td>\n      <td>sold gmk samurai + np bundle + cherry carbon +...</td>\n      <td>[US-NY][H] Custom HHKB Pro2, Space65 CV Schrod...</td>\n      <td>[timestamp](https://imgur.com/a/jzreoem)\\n\\nhe...</td>\n      <td>[us-ny][h] custom hhkb pro2, space65 cv schrod...</td>\n      <td>gmk samurai</td>\n    </tr>\n    <tr>\n      <th>MeteoricJello</th>\n      <th>/r/mechmarket/comments/my851u/hkh_gmk_honey_alpine65_polaris_w_paypal/</th>\n      <td>1.619357e+09</td>\n      <td>[Timestamp](https://imgur.com/a/JlIZUfy)\\n\\n&amp;#...</td>\n      <td>sold gmk metaverse to /u/aninogaming</td>\n      <td>[HK][H] gmk honey, alpine65, polaris [W] Paypal</td>\n      <td>[timestamp](https://imgur.com/a/jlizufy)\\n\\n&amp;#...</td>\n      <td>[hk][h] gmk honey, alpine65, polaris [w] paypal</td>\n      <td>gmk metaverse</td>\n    </tr>\n  </tbody>\n</table>\n<p>579 rows × 7 columns</p>\n</div>"
     },
     "metadata": {},
     "execution_count": 5
    }
   ],
   "source": [
    "def split_on_gmk(x):\n",
    "    a = x.lower().split(\"gmk\")[1]\n",
    "    return \"gmk \" + a.split()[0]\n",
    "\n",
    "only_gmk['product_name'] = only_gmk['rawtext'].apply(split_on_gmk)\n",
    "only_gmk"
   ]
  },
  {
   "cell_type": "code",
   "execution_count": 21,
   "metadata": {
    "tags": []
   },
   "outputs": [
    {
     "output_type": "stream",
     "name": "stdout",
     "text": [
      "|drop + redsuns gmk red samurai 65%|bought on mm, used one time and i don't really like abs|~~$70 shipped~~ **sold**| \n\ngmk red, base\n{'products': 'gmk red, base', 'str': \"|drop + redsuns gmk red samurai 65%|bought on mm, used one time and i don't really like abs|~~\", 'price': 70}\n\n* ~~gmk mitolet - lightly used in bags $115 shipped~~ **sold for asking price** \n\ngmk mitolet, base\n{'products': 'gmk mitolet, base', 'str': '* ~~gmk mitolet - lightly used in bags ', 'price': 115}\n\n* ~~gmk red samurai tkl kit used in bags - $75 shipped~~ **sold for asking price** \n\ngmk red, base\n{'products': 'gmk red, base', 'str': '* ~~gmk red samurai tkl kit used in bags - ', 'price': 75}\n\n|~~gmk metaverse r1 base kit + r2 novelties~~|~~base kit has a lot of shine and missing a black f2 key and a right 1.25u alt gr key. keys were missing from previous seller. novelties are practically brand new never typed on.~~|~~$250 + shipping. (add $15 for shipping in jtk polycarb trays)~~ sold| \n\ngmk metaverse, base, novelties\n{'products': 'gmk metaverse, base, novelties', 'str': '|~~gmk metaverse r1 base kit + r2 novelties~~|~~base kit has a lot of shine and missing a black f2 key and a right 1.25u alt gr key. keys were missing from previous seller. novelties are practically brand new never typed on.~~|~~', 'price': 250}\n\n|~~gmk red samurai r1 base kit~~|~~base kit has little to no shine. comes with full r4 compatibility.~~|~~$200 + shipping. (add $15 for shipping in jtk polycarb trays)~~ sold| \n\ngmk red, base\n{'products': 'gmk red, base', 'str': '|~~gmk red samurai r1 base kit~~|~~base kit has little to no shine. comes with full r4 compatibility.~~|~~', 'price': 200}\n\n* [~~gmk red samurai $80~~](https://imgur.com/gallery/y4wzoii) ~~- bought these on drop and used them for about a month. this is the tkl kit and is currently sold out on drop! no shine.~~ **~~sold for asking.~~** \n\ngmk red, base\n{'products': 'gmk red, base', 'str': '* [~~gmk red samurai ', 'price': 80}\n\n|~~gmk vaporwave base (bnib sealed)~~|~~$275 + shipping~~|~~i can break this out into bags or if you'd like me to ship it as is, i can do that in a bigger box but shipping is likely to cost more compared to bags~~. **sold**| \n\ngmk vaporwave, base\n{'products': 'gmk vaporwave, base', 'str': '|~~gmk vaporwave base (bnib sealed)~~|~~', 'price': 275}\n\n|~~gmk hyperfuse redux base~~|~~$150 + shipping~~|~~minimal shine on wasd (used for maybe 2-3 weeks). i got this with a board off of wasdkeyboards. i assume it's just the base but what you get is what's in the picture here.~~ **sold**| \n\ngmk hyperfuse, base\n{'products': 'gmk hyperfuse, base', 'str': '|~~gmk hyperfuse redux base~~|~~', 'price': 150}\n\n|~~gmk red samurai 65% kit~~|~~used, no shine~~|~~$70 in bags~~|~~sold~~| \n\ngmk red, base\n{'products': 'gmk red, base', 'str': '|~~gmk red samurai 65% kit~~|~~used, no shine~~|~~', 'price': 70}\n\ndefaultdict(<class 'list'>, {'gmk oblivion, base': 50, 'gmk phosphorous, base, bar': 375, 'gmk pulse, base, bar': 200, 'gmk metaverse, base': 150, 'gmk taro, base': 260, 'gmk terminal, base': 220, 'gmk keyboard, base': 250, 'gmk botanical, base': 350, 'gmk rudy, base, bar': 460, 'gmk noel, base, novelties': 420, 'gmk 9009, base, bar': 260, 'gmk 9009, base': 295, 'gmk bleached, base': 220, 'gmk classic, bar': 70, 'gmk finer, bar': 75, 'gmk fro.yo, base': 250, 'gmk godspeed, base': 260, 'gmk godspeed, novelties': 240, 'gmk handarbeit+, base': 420, 'gmk merlin, base': 200, 'gmk noel, base': 320, 'gmk olivia, bar': 60, 'gmk red, base': 80, 'gmk olivia, base': 300, 'gmk mizu, base': 50, 'gmk frost, deskmat': 50, 'gmk calm, base': 225, 'gmk space, base, alphas': 380, 'gmk noel, novelties': 50, 'gmk camping, base, novelties': 350, 'gmk analog, alphas': 275, 'gmk carbon, base': 270, 'gmk modern, bar': 80, 'gmk olivia++, light base, bar': 400, 'gmk laser, base': 140, 'gmk bleached, rama': 100, 'gmk hero, base': 320, 'gmk yuri, base': 230, 'gmk laser, deskmat': 55, 'gmk ishtar, rama': 150, 'gmk terra, base': 300, 'gmk bingsu, base': 350, 'gmk nautilus, base': 150, 'gmk laser, novelties, alphas': 80, 'gmk dark, dark base': 260, 'gmk phosphorous, base': 300, 'gmk fuyu, base, bar, deskmat': 400, 'gmk night, novelties': 360, 'gmk eclipse, accents, bar': 250, 'gmk denim, base': 200, 'gmk firefly, base': 275, 'gmk pulse, base': 170, 'gmk fuyu, base': 280, 'gmk fuyu, rama': 100, 'gmk rudy, base': 400, 'gmk finer, base': 350, 'gmk mitolet, base': 115, 'gmk analog, base': 280, 'gmk bleached, base, bar': 260, 'gmk rudy, alphas': 160, 'gmk camping, base, novelties, bar': 320, 'gmk classic, base': 250, 'gmk olivia++, base': 70, 'gmk penumbra, base': 115, 'gmk botanical/, base': 420, 'gmk olivia++, novelties, bar': 385, 'gmk 8008, base': 325, 'gmk dmg, base, bar': 400, 'gmk dualshot, base, novelties': 415, 'gmk café, base': 275, 'gmk ursa, base': 280, 'gmk ursa, bar': 50, 'gmk metropolis, base': 320, 'gmk laser, alphas': 260, 'gmk alter, base, alphas': 550, 'gmk alter, novelties': 350, 'gmk alter, base': 200, 'gmk alter, deskmat': 175, 'gmk metaverse, base, novelties, bar': 285, 'gmk bleached, base, rama': 220, 'gmk ursa, base, bar': 285, 'gmk godspeed:, base': 185, 'gmk taro, base, novelties': 330, 'gmk taro, novelties': 95, 'gmk botanical, base, novelties, bar': 625, 'gmk taro, alphas': 140, 'gmk laser, novelties': 80, 'gmk metaverse, base, novelties': 250, 'gmk godspeed,, base': 200, 'gmk triumph, base': 155, 'gmk analog, base, novelties, alphas, bar': 650, 'gmk space, base': 180, 'gmk serika, bar': 340, 'gmk muted, base, accents': 220, 'gmk dots, base': 280, 'gmk skidolcha, base': 160, 'gmk olivia, light base': 370, 'gmk moon, base': 300, 'gmk kaiju, base': 225, 'gmk bento, base': 300, 'gmk hyperfuse, base': 150, 'gmk finer, base, bar': 350, 'gmk nautilus, base, novelties, bar': 350, 'gmk copper, base': 310, 'gmk cafe, base, alphas, bar': 475, 'gmk wavez](https://imgur.com/h6okuqh), base': 250, 'gmk honey, base, novelties, alphas, rama': 425, 'gmk kaiju, base, novelties': 320, 'gmk botanical, base, novelties': 420, 'gmk cafe., base': 45, 'gmk vaporwave, base': 275, 'gmk dark, base': 280, 'gmk modern, base': 280, 'gmk umbra, base, bar': 450, 'gmk umbra, base': 490, 'gmk darling, alphas': 170, 'gmk bleached**, base': 210, 'gmk sumi, rama': 80, 'gmk wasabi, base': 150, 'gmk camping, base': 260, 'gmk paperwork, alphas': 80, 'gmk red, alphas': 65, 'gmk greek, base': 55, 'gmk ceresia, base': 75, 'gmk olivia, dark base, novelties': 425, 'gmk taro, base, novelties, accents': 385, 'gmk ursa, base, novelties': 385, 'gmk metaverse, novelties': 90, 'gmk metaverse, bar': 150, 'gmk olivia++, novelties': 150, 'gmk olivia++, dark base': 270, 'gmk metaverse, rama': 200, 'gmk darling:, base': 450, 'gmk cafe, base': 640, 'gmk noel:, base, novelties': 540, 'gmk laser, base, novelties, alphas': 340, 'gmk stabs,, base': 120, 'gmk moondust, base': 315, 'gmk 8008:, base': 375, 'gmk 9009:, base, deskmat': 300, 'gmk korean, base': 100, 'gmk camping, base, novelties, alphas, bar, rama': 625, 'gmk yuri, base, novelties': 300, 'gmk honeywell, base': 50, 'gmk nines, base': 200, 'gmk boba, base': 500, 'gmk falter, bar': 45, 'gmk bento, deskmat': 35, 'gmk noel, deskmat': 55, 'gmk olivia++, light base': 310, 'gmk finer, novelties': 95, 'gmk pono, rama': 110, 'gmk sandstorm, base': 230, 'gmk wob, base': 275, 'gmk striker, bar': 300, 'gmk darling, base, alphas': 500, 'gmk peach, base': 220, 'gmk hennessey, base': 180, 'gmk white, base': 90, 'gmk cafe:, base': 290, 'gmk honey, base': 270, 'gmk olivia++, bar': 375, 'gmk cafe, base, bar': 280, 'gmk ursa, base, novelties, bar': 320, 'gmk oblivion, alphas': 70, 'gmk taro, base, novelties, bar': 290, 'gmk shoko, base, bar': 275, 'gmk solarized, dark base': 250, 'gmk serika, base': 70, 'gmk nautilus, base, novelties': 325, 'gmk originative, base': 150, 'gmk white-on-black, base': 90, 'gmk violet, base': 190, 'gmk darling, base, novelties': 800, 'gmk oliva++, light base': 350, 'gmk olive, base': 350, 'gmk merlin, alphas': 190, 'gmk merlin, base, novelties': 300, 'gmk laser, bar': 50, 'gmk oblivion, base, alphas': 350, 'gmk aesthetic, base': 80, 'gmk oni, rama': 150, 'gmk mizu, rama': 5, 'gmk 8008, rama': 50, 'gmk botanical, novelties': 100, 'gmk camping, rama': 100, 'gmk olivia, dark base': 260, 'gmk copper,, base': 300, 'gmk botanical, rama': 435, 'gmk clueboard, base': 50, 'gmk camping, deskmat': 40})\n"
     ]
    }
   ],
   "source": [
    "from collections import defaultdict\n",
    "all_prices = defaultdict(list)\n",
    "\n",
    "money_regex = r'\\$(\\d+)|(\\d+)\\$'\n",
    "\n",
    "sets = ['base', 'nov', 'alphas', 'accents', 'bar', 'light base', 'dark base', 'deskmat', 'rama']\n",
    "\n",
    "def match_product(df):\n",
    "    for row in df.itertuples():\n",
    "        s = row.post_lower.split(\"\\n\")\n",
    "        product = row.product_name.lower()\n",
    "        #print(row[0][1])\n",
    "        for l in s:\n",
    "            low = l.lower()\n",
    "            if \"gmk \" in low and ('~~' in low or 'sold' in low):\n",
    "                a = low.split(\"gmk \")[1]\n",
    "                product_name = \"gmk \" + re.split(r\" |~\", a)[0]\n",
    "                \n",
    "                matches = re.split(money_regex, low)\n",
    "                temp_data = {}\n",
    "                if len(matches) > 1:\n",
    "                    if \"red\" in product:\n",
    "                        print(low,\"\\n\")\n",
    "                    #print(f\"FULL LINE: {low}\")\n",
    "                    for i in range(0, len(matches)-1, 3):\n",
    "                        curr_price = int(matches[i+1] if matches[i+1] else matches[i+2])\n",
    "                        curr_str = matches[i]\n",
    "                        kits = []\n",
    "                        removeBase = False\n",
    "                        empty=True\n",
    "                        for x in sets:\n",
    "                            if x in curr_str:\n",
    "                                empty=False\n",
    "                                if x == 'nov':\n",
    "                                    kits.append('novelties')\n",
    "                                elif x == 'light base' or x == 'dark base':\n",
    "                                    kits.insert(0, f'{x}')\n",
    "                                    removeBase = True\n",
    "                                else:\n",
    "                                    kits.append(x)\n",
    "                        products = product_name\n",
    "                        if i == 0 and not kits:\n",
    "                            kits = ['base']\n",
    "                        for x in kits:\n",
    "                            if removeBase and x == 'base':\n",
    "                                continue\n",
    "                            products += f', {x}'\n",
    "                        \n",
    "                        if i == 0:\n",
    "                            temp_data[\"products\"] = products\n",
    "                            temp_data[\"str\"] = curr_str\n",
    "                            temp_data[\"price\"] = curr_price\n",
    "\n",
    "                            if \"red\" in product:\n",
    "                                print(products)\n",
    "                                print(temp_data)\n",
    "                                print()\n",
    "                        \n",
    "                        if kits and i > 0:\n",
    "                            #print(f\"PRODUCT: {temp_data['products']} CURRENT STRING: {temp_data['str']} PRICE: {temp_data['price']}\")\n",
    "                            all_prices[temp_data['products']].append(temp_data['price'])\n",
    "                            temp_data[\"products\"] = products\n",
    "                            temp_data[\"str\"] = curr_str\n",
    "                            temp_data[\"price\"] = curr_price\n",
    "                        else:\n",
    "                            temp_data[\"price\"] = min(temp_data[\"price\"], curr_price)\n",
    "                        \n",
    "                    #print(f\"PRODUCT: {temp_data['products']} CURRENT STRING: {temp_data['str']} PRICE: {temp_data['price']}\")\n",
    "                    all_prices[temp_data['products']].append(temp_data['price'])\n",
    "\n",
    "count = 1  \n",
    "for i, new_df in only_gmk.groupby(level=0):\n",
    "    match_product(new_df)\n",
    "    count -= 1\n",
    "    \n",
    "\n",
    "print(all_prices)"
   ]
  },
  {
   "cell_type": "code",
   "execution_count": null,
   "metadata": {},
   "outputs": [],
   "source": []
  }
 ],
 "metadata": {
  "kernelspec": {
   "name": "python379jvsc74a57bd0aee8b7b246df8f9039afb4144a1f6fd8d2ca17a180786b69acc140d282b71a49",
   "display_name": "Python 3.7.9 64-bit"
  },
  "metadata": {
   "interpreter": {
    "hash": "aee8b7b246df8f9039afb4144a1f6fd8d2ca17a180786b69acc140d282b71a49"
   }
  }
 },
 "nbformat": 4,
 "nbformat_minor": 2
}