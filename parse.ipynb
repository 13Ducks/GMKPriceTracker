{
 "cells": [
  {
   "cell_type": "code",
   "execution_count": 37,
   "metadata": {},
   "outputs": [],
   "source": [
    "import pandas as pd\n",
    "import re"
   ]
  },
  {
   "cell_type": "code",
   "execution_count": 25,
   "metadata": {},
   "outputs": [
    {
     "output_type": "execute_result",
     "data": {
      "text/plain": [
       "                                                                                                                   post  \\\n",
       "author            link                                                                                                    \n",
       "GreenyOstrichy    /r/mechmarket/comments/l1t1u6/cabc_h_paypal_w_o...                             Open to all offers, PM   \n",
       "rath_k            /r/mechmarket/comments/l8bmmu/usmi_h_gmk_cafe_b...  [Timestamps](https://imgur.com/a/atjuMNc)\\n\\n&...   \n",
       "Krasztest01       /r/mechmarket/comments/l424x4/euplhgmk_botanica...  [Timestamp](https://imgur.com/a/WrVBtSG)\\n\\n&#...   \n",
       "Mr_BillButtlicker /r/mechmarket/comments/l1fckk/usga_h_gmk_merlin...  Hi all,\\n\\n[timestamp ](https://imgur.com/gall...   \n",
       "                  /r/mechmarket/comments/kvg1uw/usga_h_pc_key65_g...  \\nHi all,\\n\\n[timestamp ](https://imgur.com/ga...   \n",
       "\n",
       "                                                                                                   rawtext  \\\n",
       "author            link                                                                                       \n",
       "GreenyOstrichy    /r/mechmarket/comments/l1t1u6/cabc_h_paypal_w_o...  Sold GMK Camping R2 to /u/SplifoMode   \n",
       "rath_k            /r/mechmarket/comments/l8bmmu/usmi_h_gmk_cafe_b...         Bought GMK Cafe from u/rath_k   \n",
       "Krasztest01       /r/mechmarket/comments/l424x4/euplhgmk_botanica...     Sold GMK Botanical to u/westend14   \n",
       "Mr_BillButtlicker /r/mechmarket/comments/l1fckk/usga_h_gmk_merlin...        Sold GMK Merlin to u/inphinity   \n",
       "                  /r/mechmarket/comments/kvg1uw/usga_h_pc_key65_g...        Sold GMK Merlin to u/inphinity   \n",
       "\n",
       "                                                                                                                  title  \n",
       "author            link                                                                                                   \n",
       "GreenyOstrichy    /r/mechmarket/comments/l1t1u6/cabc_h_paypal_w_o...  [CA-BC] [H] PayPal [W] Old Epbt sets (gateron ...  \n",
       "rath_k            /r/mechmarket/comments/l8bmmu/usmi_h_gmk_cafe_b...  [US-MI] [H] GMK Cafe BNIB, GMK Olivia++ BNIB, ...  \n",
       "Krasztest01       /r/mechmarket/comments/l424x4/euplhgmk_botanica...  [EU-PL][H]GMK Botanical, 90xH1 Switches [W]Pay...  \n",
       "Mr_BillButtlicker /r/mechmarket/comments/l1fckk/usga_h_gmk_merlin...   [US-GA] [H] GMK Merlin [W] 200$ PayPal or Trades  \n",
       "                  /r/mechmarket/comments/kvg1uw/usga_h_pc_key65_g...  [US-GA] [H] PC KEY65, GMK Merlin [W] PayPal, T...  "
      ],
      "text/html": "<div>\n<style scoped>\n    .dataframe tbody tr th:only-of-type {\n        vertical-align: middle;\n    }\n\n    .dataframe tbody tr th {\n        vertical-align: top;\n    }\n\n    .dataframe thead th {\n        text-align: right;\n    }\n</style>\n<table border=\"1\" class=\"dataframe\">\n  <thead>\n    <tr style=\"text-align: right;\">\n      <th></th>\n      <th></th>\n      <th>post</th>\n      <th>rawtext</th>\n      <th>title</th>\n    </tr>\n    <tr>\n      <th>author</th>\n      <th>link</th>\n      <th></th>\n      <th></th>\n      <th></th>\n    </tr>\n  </thead>\n  <tbody>\n    <tr>\n      <th>GreenyOstrichy</th>\n      <th>/r/mechmarket/comments/l1t1u6/cabc_h_paypal_w_old_epbt_sets_gateron_molds_2016/</th>\n      <td>Open to all offers, PM</td>\n      <td>Sold GMK Camping R2 to /u/SplifoMode</td>\n      <td>[CA-BC] [H] PayPal [W] Old Epbt sets (gateron ...</td>\n    </tr>\n    <tr>\n      <th>rath_k</th>\n      <th>/r/mechmarket/comments/l8bmmu/usmi_h_gmk_cafe_bnib_gmk_olivia_bnib_tulia/</th>\n      <td>[Timestamps](https://imgur.com/a/atjuMNc)\\n\\n&amp;...</td>\n      <td>Bought GMK Cafe from u/rath_k</td>\n      <td>[US-MI] [H] GMK Cafe BNIB, GMK Olivia++ BNIB, ...</td>\n    </tr>\n    <tr>\n      <th>Krasztest01</th>\n      <th>/r/mechmarket/comments/l424x4/euplhgmk_botanical_90xh1_switches_wpaypal_revolut/</th>\n      <td>[Timestamp](https://imgur.com/a/WrVBtSG)\\n\\n&amp;#...</td>\n      <td>Sold GMK Botanical to u/westend14</td>\n      <td>[EU-PL][H]GMK Botanical, 90xH1 Switches [W]Pay...</td>\n    </tr>\n    <tr>\n      <th rowspan=\"2\" valign=\"top\">Mr_BillButtlicker</th>\n      <th>/r/mechmarket/comments/l1fckk/usga_h_gmk_merlin_w_200_paypal_or_trades/</th>\n      <td>Hi all,\\n\\n[timestamp ](https://imgur.com/gall...</td>\n      <td>Sold GMK Merlin to u/inphinity</td>\n      <td>[US-GA] [H] GMK Merlin [W] 200$ PayPal or Trades</td>\n    </tr>\n    <tr>\n      <th>/r/mechmarket/comments/kvg1uw/usga_h_pc_key65_gmk_merlin_w_paypal_trades/</th>\n      <td>\\nHi all,\\n\\n[timestamp ](https://imgur.com/ga...</td>\n      <td>Sold GMK Merlin to u/inphinity</td>\n      <td>[US-GA] [H] PC KEY65, GMK Merlin [W] PayPal, T...</td>\n    </tr>\n  </tbody>\n</table>\n</div>"
     },
     "metadata": {},
     "execution_count": 25
    }
   ],
   "source": [
    "df = pd.read_csv('smallFebGMK.csv')\n",
    "df.drop(df.columns[0], axis=1, inplace=True)\n",
    "df.set_index(['author', 'link'], inplace=True)\n",
    "df.drop_duplicates(inplace=True)\n",
    "df.head()"
   ]
  },
  {
   "cell_type": "code",
   "execution_count": 84,
   "metadata": {},
   "outputs": [
    {
     "output_type": "execute_result",
     "data": {
      "text/plain": [
       "                                                                                                                   post  \\\n",
       "author            link                                                                                                    \n",
       "rath_k            /r/mechmarket/comments/l8bmmu/usmi_h_gmk_cafe_b...  [Timestamps](https://imgur.com/a/atjuMNc)\\n\\n&...   \n",
       "Krasztest01       /r/mechmarket/comments/l424x4/euplhgmk_botanica...  [Timestamp](https://imgur.com/a/WrVBtSG)\\n\\n&#...   \n",
       "Mr_BillButtlicker /r/mechmarket/comments/l1fckk/usga_h_gmk_merlin...  Hi all,\\n\\n[timestamp ](https://imgur.com/gall...   \n",
       "                  /r/mechmarket/comments/kvg1uw/usga_h_pc_key65_g...  \\nHi all,\\n\\n[timestamp ](https://imgur.com/ga...   \n",
       "                  /r/mechmarket/comments/kqbs9o/usga_h_pc_key65_g...  Hi all,\\n\\n[timestamp ](https://imgur.com/gall...   \n",
       "\n",
       "                                                                                                rawtext  \\\n",
       "author            link                                                                                    \n",
       "rath_k            /r/mechmarket/comments/l8bmmu/usmi_h_gmk_cafe_b...      Bought GMK Cafe from u/rath_k   \n",
       "Krasztest01       /r/mechmarket/comments/l424x4/euplhgmk_botanica...  Sold GMK Botanical to u/westend14   \n",
       "Mr_BillButtlicker /r/mechmarket/comments/l1fckk/usga_h_gmk_merlin...     Sold GMK Merlin to u/inphinity   \n",
       "                  /r/mechmarket/comments/kvg1uw/usga_h_pc_key65_g...     Sold GMK Merlin to u/inphinity   \n",
       "                  /r/mechmarket/comments/kqbs9o/usga_h_pc_key65_g...     Sold GMK Merlin to u/inphinity   \n",
       "\n",
       "                                                                                                                  title  \\\n",
       "author            link                                                                                                    \n",
       "rath_k            /r/mechmarket/comments/l8bmmu/usmi_h_gmk_cafe_b...  [US-MI] [H] GMK Cafe BNIB, GMK Olivia++ BNIB, ...   \n",
       "Krasztest01       /r/mechmarket/comments/l424x4/euplhgmk_botanica...  [EU-PL][H]GMK Botanical, 90xH1 Switches [W]Pay...   \n",
       "Mr_BillButtlicker /r/mechmarket/comments/l1fckk/usga_h_gmk_merlin...   [US-GA] [H] GMK Merlin [W] 200$ PayPal or Trades   \n",
       "                  /r/mechmarket/comments/kvg1uw/usga_h_pc_key65_g...  [US-GA] [H] PC KEY65, GMK Merlin [W] PayPal, T...   \n",
       "                  /r/mechmarket/comments/kqbs9o/usga_h_pc_key65_g...  [US-GA] [H] PC KEY65, GMK Merlin [W] PayPal, T...   \n",
       "\n",
       "                                                                                                             post_lower  \\\n",
       "author            link                                                                                                    \n",
       "rath_k            /r/mechmarket/comments/l8bmmu/usmi_h_gmk_cafe_b...  [timestamps](https://imgur.com/a/atjumnc)\\n\\n&...   \n",
       "Krasztest01       /r/mechmarket/comments/l424x4/euplhgmk_botanica...  [timestamp](https://imgur.com/a/wrvbtsg)\\n\\n&#...   \n",
       "Mr_BillButtlicker /r/mechmarket/comments/l1fckk/usga_h_gmk_merlin...  hi all,\\n\\n[timestamp ](https://imgur.com/gall...   \n",
       "                  /r/mechmarket/comments/kvg1uw/usga_h_pc_key65_g...  \\nhi all,\\n\\n[timestamp ](https://imgur.com/ga...   \n",
       "                  /r/mechmarket/comments/kqbs9o/usga_h_pc_key65_g...  hi all,\\n\\n[timestamp ](https://imgur.com/gall...   \n",
       "\n",
       "                                                                                                            title_lower  \n",
       "author            link                                                                                                   \n",
       "rath_k            /r/mechmarket/comments/l8bmmu/usmi_h_gmk_cafe_b...  [us-mi] [h] gmk cafe bnib, gmk olivia++ bnib, ...  \n",
       "Krasztest01       /r/mechmarket/comments/l424x4/euplhgmk_botanica...  [eu-pl][h]gmk botanical, 90xh1 switches [w]pay...  \n",
       "Mr_BillButtlicker /r/mechmarket/comments/l1fckk/usga_h_gmk_merlin...   [us-ga] [h] gmk merlin [w] 200$ paypal or trades  \n",
       "                  /r/mechmarket/comments/kvg1uw/usga_h_pc_key65_g...  [us-ga] [h] pc key65, gmk merlin [w] paypal, t...  \n",
       "                  /r/mechmarket/comments/kqbs9o/usga_h_pc_key65_g...  [us-ga] [h] pc key65, gmk merlin [w] paypal, t...  "
      ],
      "text/html": "<div>\n<style scoped>\n    .dataframe tbody tr th:only-of-type {\n        vertical-align: middle;\n    }\n\n    .dataframe tbody tr th {\n        vertical-align: top;\n    }\n\n    .dataframe thead th {\n        text-align: right;\n    }\n</style>\n<table border=\"1\" class=\"dataframe\">\n  <thead>\n    <tr style=\"text-align: right;\">\n      <th></th>\n      <th></th>\n      <th>post</th>\n      <th>rawtext</th>\n      <th>title</th>\n      <th>post_lower</th>\n      <th>title_lower</th>\n    </tr>\n    <tr>\n      <th>author</th>\n      <th>link</th>\n      <th></th>\n      <th></th>\n      <th></th>\n      <th></th>\n      <th></th>\n    </tr>\n  </thead>\n  <tbody>\n    <tr>\n      <th>rath_k</th>\n      <th>/r/mechmarket/comments/l8bmmu/usmi_h_gmk_cafe_bnib_gmk_olivia_bnib_tulia/</th>\n      <td>[Timestamps](https://imgur.com/a/atjuMNc)\\n\\n&amp;...</td>\n      <td>Bought GMK Cafe from u/rath_k</td>\n      <td>[US-MI] [H] GMK Cafe BNIB, GMK Olivia++ BNIB, ...</td>\n      <td>[timestamps](https://imgur.com/a/atjumnc)\\n\\n&amp;...</td>\n      <td>[us-mi] [h] gmk cafe bnib, gmk olivia++ bnib, ...</td>\n    </tr>\n    <tr>\n      <th>Krasztest01</th>\n      <th>/r/mechmarket/comments/l424x4/euplhgmk_botanical_90xh1_switches_wpaypal_revolut/</th>\n      <td>[Timestamp](https://imgur.com/a/WrVBtSG)\\n\\n&amp;#...</td>\n      <td>Sold GMK Botanical to u/westend14</td>\n      <td>[EU-PL][H]GMK Botanical, 90xH1 Switches [W]Pay...</td>\n      <td>[timestamp](https://imgur.com/a/wrvbtsg)\\n\\n&amp;#...</td>\n      <td>[eu-pl][h]gmk botanical, 90xh1 switches [w]pay...</td>\n    </tr>\n    <tr>\n      <th rowspan=\"3\" valign=\"top\">Mr_BillButtlicker</th>\n      <th>/r/mechmarket/comments/l1fckk/usga_h_gmk_merlin_w_200_paypal_or_trades/</th>\n      <td>Hi all,\\n\\n[timestamp ](https://imgur.com/gall...</td>\n      <td>Sold GMK Merlin to u/inphinity</td>\n      <td>[US-GA] [H] GMK Merlin [W] 200$ PayPal or Trades</td>\n      <td>hi all,\\n\\n[timestamp ](https://imgur.com/gall...</td>\n      <td>[us-ga] [h] gmk merlin [w] 200$ paypal or trades</td>\n    </tr>\n    <tr>\n      <th>/r/mechmarket/comments/kvg1uw/usga_h_pc_key65_gmk_merlin_w_paypal_trades/</th>\n      <td>\\nHi all,\\n\\n[timestamp ](https://imgur.com/ga...</td>\n      <td>Sold GMK Merlin to u/inphinity</td>\n      <td>[US-GA] [H] PC KEY65, GMK Merlin [W] PayPal, T...</td>\n      <td>\\nhi all,\\n\\n[timestamp ](https://imgur.com/ga...</td>\n      <td>[us-ga] [h] pc key65, gmk merlin [w] paypal, t...</td>\n    </tr>\n    <tr>\n      <th>/r/mechmarket/comments/kqbs9o/usga_h_pc_key65_gmk_merlin_w_paypal_trades/</th>\n      <td>Hi all,\\n\\n[timestamp ](https://imgur.com/gall...</td>\n      <td>Sold GMK Merlin to u/inphinity</td>\n      <td>[US-GA] [H] PC KEY65, GMK Merlin [W] PayPal, T...</td>\n      <td>hi all,\\n\\n[timestamp ](https://imgur.com/gall...</td>\n      <td>[us-ga] [h] pc key65, gmk merlin [w] paypal, t...</td>\n    </tr>\n  </tbody>\n</table>\n</div>"
     },
     "metadata": {},
     "execution_count": 84
    }
   ],
   "source": [
    "df['post_lower'] = df['post'].str.lower()\n",
    "only_gmk = df[df['post_lower'].str.contains('gmk')]\n",
    "only_gmk.head()"
   ]
  },
  {
   "cell_type": "code",
   "execution_count": 94,
   "metadata": {
    "tags": [
     "outputPrepend"
    ]
   },
   "outputs": [
    {
     "output_type": "stream",
     "name": "stdout",
     "text": [
      "sold**|\n240\n~~gmk taro bundle of all kits - $345~~\n345\n~~gmk taro base kit - $300~~ sold for asking, ~~novelties - $60~~ sold for $55, ~~accents - $45~~ sold for asking\n45\n~~gmk taro base kit+novelties+accents - $425~~\n425\n~~gmk taro r2 base kit - $300~~ sold for asking, ~~novelties - $70~~ sold for $55, ~~accents - $45~~ sold for asking\n45\n~~gmk oblivion v2 regular base kit+ hagoromo alphas - $360~~ sold for asking\n360\n~~gmk taro base kit - $300~~ sold for asking, ~~accents - $45~~ sold for asking\n45\n~~gmk taro base kit+accents - $345~~\n345\n~~gmk taro r2 bundle of all kits - $425~~\n425\n~~gmk taro r2 base kit - $300~~ sold for asking, ~~novelties - $70~~ sold for $55, ~~accents - $45~~ sold for asking\n45\n|~~gmk olivia++ light base~~|~~no shine, practically new. shipped in bags.~~|~~$300~~ sold for asking to u/sortabeta|\n300\n|~~gmk olivia++ dark base~~|~~no shine, never used. shipped in bags.~~|~~$265~~|\n265\n|~~gmk olivia++ extensions~~|~~no shine, never used. shipped in tray.~~|~~$90~~ sold for asking to u/kind_mind_1196|\n90\n|~~gmk olivia++ spacebars + novelties~~|~~no shine, practically new. shipped in tray.~~|~~$100~~|\n100\n|~~gmk olivia++ dark base~~|~~removed from trays but never used. shipped in bags.~~|~~$250~~|\n250\n|~~gmk olivia++ novelties + spacebars~~|~~one spacebar and novelties are lightly used. all in impeccable condition.~~|~~$100~~|\n100\n|~~rama x gmk peaches n' cream green leaf~~|~~brand new.~~|~~$120~~ sold to  u/itsmematej for asking through venmo.|\n120\n|~~gmk wob hiragana micons~~|~~also willing to buy barely used with absolutely no shine.~~|\n~~gmk olivia++ (dark base + spacebars)~~ | ~~$300~~ | ~~[pics](https://imgur.com/a/cl9c2dj)~~ | ~~still sealed~~ | **sold**\n300\n~~gmk olivia++ (light base + spacebars)~~ | ~~$365~~ | ~~[pics](https://imgur.com/a/nql1ufd)~~ | ~~still sealed~~ | **sold**\n365\n**sold** \\* gmk metropolis base, midnight, signs, blocks. \n|~~gmk nautilus, includes a dvorak/colemak kit 7u spacebar has some shine on left thumb.~~|~~220$~~|\n220\n|~~gmk penumbra~~|~~180$~~|\n180\n~~gmk noel (novelties) -- $80~~\n80\n~~gmk taro (novelties) -- $70~~\n70\n~~gmk heck (1 set left): ~~$41~~ ~~$28~~ ~~**$15**~~ ~~shipped conus.~~\n15\n**all gmk heck sets are sold.**\n**sold 1 x gmk heck set to /u/wirecize**\n**sold 1 x gmk heck set to /u/reechaard**\n**sold 1 x gmk heck set to /u/cnidarian1**\ngmk heck (all sets): ~~$41~~ **$28** shipped conus.\n28\n**sold 1 x gmk heck set to /u/wirecize**\n**all gmk heck sets are sold.**\n~~gmk carbon: $185 shipped conus.~~\n185\n**all gmk heck sets are sold.**\n~~gmk 9009 r3 + spacebars - $275~~\n275\n~~gmk cafe + rama bean + gmk cafe spacebars - $450~~\n450\n[~~gmk taro basekit~~](https://imgur.com/ktwf8of): $280 shipped   sold\n280\n[~~gmk taro milk tea mods~~](https://imgur.com/b2h5s28): $100 shipped  sold\n100\n[~~gmk sumi sakura deskmat~~](https://imgur.com/bmd7by2): $45 shipped\tsold\n45\n~~gmk rudy base kit~~: $280 shipped  sold\n280\n[~~gmk mizu tulia (koi) deskmat~~](https://imgur.com/a/rgkpehc): $45 shipped  sold\n45\n~~gmk camping r2 - light shine, overall great condition - $215~~ sold for asking\n215\n~~gmk taro r2 base $300~~ sold\n300\n~~gmk deep space~~-sold for $180\n180\n~~**gmk mizu base kit** (shown on blue maja which is not for sale) - lovingly cared for, never gamed on. tried to capture if there is any shine. it's minimal on the home row if anything at all. will ship in bag. **$340** sold $325~~\n325\n|gmk cafe base + dark alphas + spacebars|brand new, all sealed|~~460 + shipping~~ *delisted*|\n|gmk oblivion v2 base + hagoromo alphas|used for 2 days, then unmounted. only hagoromo alphas and base mods were mounted; the rest is new/unmounted.|~~360 + shipping~~ *sold*|\n|gmk nines r1|new, opened, never mounted. (beige accents are still sealed) r1 variant that's only seen the inside of my storage drawer for 13 months|~~180 + shipping~~ *sold*|\n- [sold] gmk ascii base set €200\n|~~gmk botanical base, novelties, green rama~~|~~$525 sold as bundle~~|\n525\n~~3. also selling a complete gmk red samurai keycap set - $85 obo~~\n85\n|[~~gmk ursa base + spacebars + 40s~~](https://imgur.com/a/8hwshka)|~~base is only opened to check keys, the other 2 kits are sealed~~|~~$350 shipped in tray or $345 in bags sold spacebars for $65 and base+40s for $290~~|\n65\n|[~~gmk ursa base + spacebars~~](https://imgur.com/a/8hwshka)|~~if you really don't want the 40s, i could seek to sell it separately later, but i will priotize all 3 kits buyers~~|~~$320 shipped in tray or $315 shipped in bags sold~~|\n315\n|[~~gmk firefly base + (de)accents~~](https://imgur.com/a/on7o08c)|~~typed on for a few hours a month ago and then put everything back to tray, no shine~~|~~$315 shipped in tray or $310 shipped in bags, sold for $305 local pickup~~|\n305\nsold* gmk jamon base - $200 shipped conus \n200\nsold* gmk nines base - $200 shipped conus\n200\nsold* gmk jamon base - $200 shipped conus \n200\nsold* gmk nines base - $200 shipped conus\n200\n|~~gmk olivia++ light base~~|~~no shine, practically new. shipped in bags.~~|~~$300~~ sold for asking to u/sortabeta|\n300\n|~~gmk olivia++ dark base~~|~~no shine, never used. shipped in bags.~~|~~$265~~|\n265\n|~~gmk olivia++ extensions~~|~~no shine, never used. shipped in tray.~~|~~$90~~ sold for asking to u/kind_mind_1196|\n90\n|~~gmk olivia++ spacebars + novelties~~|~~no shine, practically new. shipped in tray.~~|~~$100~~|\n100\n|~~gmk olivia++ dark base~~|~~removed from trays but never used. shipped in bags.~~|~~$250~~|\n250\n|~~gmk olivia++ novelties + spacebars~~|~~one spacebar and novelties are lightly used. all in impeccable condition.~~|~~$100~~|\n100\n|~~rama x gmk peaches n' cream green leaf~~|~~brand new.~~|~~$120~~ sold to  u/itsmematej for asking through venmo.|\n120\n|~~gmk olivia++ dark base~~|~~removed from trays but never used. shipped in bags.~~|~~$250~~ sold for asking to u/_imalittlestitious|\n250\n|~~gmk olivia++ novelties + spacebars~~|~~one spacebar and novelties lightly used with no shine or damage. all in impeccable condition. shipped in bags or trays, depending on if they're bundled with the dark base.~~|~~$100~~ sold for asking to u/_imalittlestitious|\n100\n|~~gmk wob hiragana micons~~|~~also willing to buy barely used with absolutely no shine.~~|\n~~gmk olivia++ light | base, novelties | little to no shine | **$360 shipped conus**~~ **sold**\n360\n~~gmk taro r2 | base | mounted for 2 days | **$300 shipped conus**~~ **sold**\n300\n~~hi mechmarket. selling gmk sandstorm base and space for~~ **~~$315 + shipping~~**~~. the keycaps will be~~ **~~shipped in bags~~** *~~(the jtk trays in the pictures will not be included)~~*~~. shipping from sg to conus is estimated to be around $25-$40, but please pm me for a quote. the tsangan layout keycaps with accents were very lightly used, but there's no visible shine as far as i can tell.~~\n25\n~~quite reluctant to let this set go, but i'm hoping to raise some funds to get gmk dots r2 and gmk civilisations...~~\n~~have gmk firefly base, accents and 40s up for sale. i paid aftermarket price for all the kits. the~~ *~~base kit is sealed~~*~~. the~~ *~~accents and 40s kit are opened and in bags~~* ~~- both child kits were already opened when i purchased them. i am told that only the pink escape and enter keys were mounted. both child kits are shine free and have no signs of use as far as i can tell. the 40s kit is pretty rare and you'll need it for alice layout support.~~\n~~gmk laser gaijin alphas, spacebars, and mitowaves (has shine on some keys) (most spacebars were never used)~~: $300 sold\n300\n~~gmk laser translucent keycaps (sealed) (dusk color):~~ $35 sold\n35\n**~~gmk 8008 base + accent~~**~~: barely used. ships in a bag, - $270 shipped obo~~ sold\n270\n**~~gmk metaverse r2 base, novelties, royal and spacebar~~**~~. brand new, sealed.  $470 shipped~~ sold\n470\n~~gmk botanical base + novelties: brand new, sealed $420 shipped~~ **sold**\n420\n~~gmk mastermind x rama gold pvd brass knife artisan: brand new $150 shipped obo~~ **sold**\n150\n~~gmk olivia++ light base: brand new, sealed: $350 shipped obo~~ **sold**\n350\n~~**gmk 8008 base + accent**: barely used. ships in a bag - $330 shipped obo~~\n330\n~~**gmk metaverse r2 base, novelties, royal and spacebar**. brand new, sealed. - $470 shipped obo~~\n470\n|~~gmk dmg r2 (base + spacebars)~~|[~~click here~~](https://imgur.com/a/xduwmoe)|~~mounted on my rukia for about an hour. keycaps are still in like-new condition; no shine.~~|**sold** ~~$300 shipped in trays~~|\n300\n|~~gmk metaverse r2 (base + royal + spacebars + black rama)~~|[~~click here~~](https://imgur.com/a/6bh5pek)|~~all kits are sealed; bnib~~|**sold** ~~$420 shipped in trays~~|\n420\n1. ~~gmk hiragana and spacebar kit! $100 shipped~~ sold to u/itakakashi\n100\ngmk alter:sold \ngmk metaverse: sold\ngmk camping novelties:  $80 sold sold sold\n80\n- ~~sold: gmk nautilus nightmares - $200~~\n200\n~~gmk classic retro (originative)- used,  no shine $230 shipped in og tray or $210 shipped in bag~~ sold\n210\n~~gmk spacekeys- $50 shipped~~ sold\n50\n[gmk first love and rama](https://imgur.com/a/fcvbjf0) \\- ~~bought this set used from another user here a couple days ago. unfortunately have to get rid of it. the set still looks great, althought there is some slight shine on the spacebar and subtle visible shine on w,a,s,d and shift keys. the rama you can see in the picture i also bought with a couple of scuffs on the bottom end, but not visible when in a case or mounted. all of the rest of the keycaps other than a basic 65% layout were never touched. .~~ **~~$330 shipped in box $320 shipped in bags.~~** **~~base kit sold for $220. rama still avilable for $80 shipped~~**\n80\n[~~gmk first love rama~~](https://imgur.com/a/rwno8ek) ~~- bought this about a week ago from another user but have to let it go. there are some scratched on the bottom side, but can't be seen from display case or when mounted.~~ **~~$75 shipped obo~~** **sold**\n75\n~~listing is for a complete set of gmk boba fett (used) + box~~\n|~~gmk nautilus nightmares base + novelties~~|like new, mounted once for pictures.|$265 shipped|\n265\nit includes gmk mizu base kit, spacebars, novelties, and the tulia deskmat.  everything is used for about a month but typed on lightly. i cannot see any shine, even with harsh lighting. more pics can be provided but i tried to get some with harsh lighting in the timestamp. tulia mat has been used for almost a year straight, so there are a few tiny spots that will probably come out with it being cleaned off. i am looking for $450 shipped obo or trades for rama x and o keycaps. sold for 435\n450\n**~~- gmk olivia++ light base~~**\n* ~~will ship it in a bag as the gmk trays aren't too great.~~\n|~~gmk 8008 (base kit)~~|~~used for a few hours, in good shape~~|~~230 gbp + shipping~~ sold|\n|~~gmk ascii (base kit)~~|~~sealed~~|~~210 gbp + shipping~~ sold|\n|~~gmk 8008 bundle (base kit, accent kit, and modern kit)~~|~~used for a few hours, in good shape~~|~~300 gbp + shipping~~ sold|\n|~~gmk ascii (base kit)~~|~~sealed~~|~~210 gbp + shipping~~ sold|\n|~~gmk rudy (base kit)~~|~~never used, shipping in bag~~|~~250 gbp + shipping~~ sold|\n|~~gmk 8008 bundle (base kit, accent kit, and modern kit)~~|~~lightly used, in good shape~~|~~300 gbp + shipping~~ sold|\n|~~gmk ascii (base kit)~~|~~sealed~~|~~210 gbp + shipping~~ sold|\n|~~gmk 8008 bundle (base kit, accent kit, and modern kit)~~|~~used for a few hours, in good shape~~|~~300 gbp + shipping~~ sold|\ngmk olivia++ spacebars | brand new sealed | ~~$90 shipped, conus only~~ sold\n90\n[~~gmk taro basekit~~](https://imgur.com/ktwf8of): $280 shipped   sold\n280\n[~~gmk taro milk tea mods~~](https://imgur.com/b2h5s28): $100 shipped  sold\n100\n[~~gmk sumi sakura deskmat~~](https://imgur.com/bmd7by2): $45 shipped\tsold\n45\n~~gmk rudy base kit~~: $280 shipped  sold\n280\n~~hello, i have an unopened set of gmk olivia++ dark (the black alphas) core set, never mounted and still in plastic. asking for $270 shipped conus only, thanks!~~\n270\n|gmk cafe base + dark alphas + spacebars|brand new, all sealed|~~460 + shipping~~ *delisted*|\n|gmk oblivion v2 base + hagoromo alphas|used for 2 days, then unmounted. only hagoromo alphas and base mods were mounted; the rest is new/unmounted.|~~360 + shipping~~ *sold*|\n|gmk nines r1|new, opened, never mounted. (beige accents are still sealed) r1 variant that's only seen the inside of my storage drawer for 13 months|~~180 + shipping~~ *sold*|\n|gmk cafe - base|bnib, sealed|~~300 + shipping~~ *sold*|\n|gmk cafe - spacebars|bnib, sealed|~~50 + shipping~~ *sold*|\n|gmk cafe - dark alphas|bnib, sealed|~~130 + shipping~~ *delisted*|\ngmk nautilus r1 base | heavily used and shined. there are also a few scuffed keycaps with dents due to dropping my keyboard. throwing in a 4 ft usb-c naut-themed cable in for free to sweeten the deal.| ~~$120~~ sold\n120\n|~~gmk firefly accent kit~~|~~£50 + shipping~~ sold|\n|~~gmk 8008 accent kit~~|~~£50 + shipping~~ sold|\n|~~gmk 8008 modern kit~~|~~£40 + shipping~~ sold|\n|~~gmk sandstorm extension kit~~|~~£60 + shipping~~ sold|\n|~~gmk 8008 accent kit~~|~~£50 + shipping~~ sold|\n|~~gmk 8008 modern kit~~|~~£40 + shipping~~ sold|\n* ~~gmk olivia ++ dark base and novelties~~ **~~$250~~**\n250\n~~will be shipped in bag because gmk trays are not good~~ [~~image~~](https://imgur.com/a/qo5s4uh)\n**~~gmk 8008 base + accent~~**~~: barely used. ships in a bag, - $270 shipped obo~~ sold\n270\n**~~gmk metaverse r2 base, novelties, royal and spacebar~~**~~. brand new, sealed.  $470 shipped~~ sold\n470\n|~~gmk fuyu base kit~~ **sold**|~~sealed~~|~~$300 shipped~~|\n300\n|~~gmk fuyu deskmat~~ **sold**|~~brand new, never used; (still in shipping packaging)~~|~~$45 shipped~~|\n45\n|~~gmk olivia++ light deskmat~~ **sold**|~~brand new, never used~~|~~$50 shipped~~|\n50\n|~~gmk dots horizontal deskmat~~  **sold**|~~brand new, never used~~|~~$45 shipped~~|\n45\n|~~gmk striker \\[base + numpad\\]~~|~~new and sealed~~|~~450~~ sold as asked|\n|~~gmk crimson cadet \\[base\\]~~|~~new and sealed~~|~~270~~ sold as asked|\n|~~gmk nines \\[base\\]~~|~~new and sealed~~|~~270~~ sold as asked|\n|~~gmk nautilus 2 core~~|~~new, sealed~~|~~$265~~|sold to /u/mewogoginspin for asking|\n265\n~~gmk camping r2 (base + novelties + spacebars)~~ | ~~$380~~ | ~~[pics](https://imgur.com/a/yppyt8d)~~ | ~~still sealed~~ | **sold**\n380\n~~gmk camping r2 latin alphas + gmk camping r1 novelties~~ | ~~$275~~ | ~~[pics](https://imgur.com/a/pdtafx5)~~ | ~~still sealed, lets you convert your existing r2 into r1~~ | **sold**\n275\n~~gmk ursa (base + novelties + spacebars)~~ | ~~$320~~ | ~~[pics](https://imgur.com/a/etnpslo)~~ | ~~still sealed~~ | **sold**\n320\n~~gmk olivia++ (dark base + spacebars)~~ | ~~$300~~ | ~~[pics](https://imgur.com/a/cl9c2dj)~~ | ~~still sealed~~ | **sold**\n300\n~~gmk olivia++ (light base + spacebars)~~ | ~~$365~~ | ~~[pics](https://imgur.com/a/nql1ufd)~~ | ~~still sealed~~ | **sold**\n365\n~~gmk olivia++ light | base, novelties | little to no shine | **$360 shipped conus**~~ **sold**\n360\n~~gmk taro r2 | base | mounted for 2 days | **$300 shipped conus**~~ **sold**\n300\n|**gmk alter with novelites**| sealed. comes with the bother the \"falter\" alphas and the alter alphas.only selling as a bundle | sold for 420 shipped|\n| ***r2 gmk olivia++ with novelites***| sealed. gmk olivia was an impulse buy for me, the colors of the sets looks amazing. however, when it finally arrived, i realized i didn't have any boards i could pair the set with. only selling as a bundle |  sold for 395 shipped  |\n~~sealed gmk spirit base kit: $250~~ sold\n250\n~~gmk base sets (taro, moon dust, bingsu, etc),~~\n~~**gmk bleached rama x and o cap $110 each**~~ **both sold**\n110\n|~~gmk camping deskmat~~|~~lightly used, in good condition~~|~~$30 shipped~~ sold for asking|\n30\n~~**gmk bleached rama x and o cap $110 each**~~ **both sold**\n110\n|~~gmk striker \\[base + numpad\\]~~|~~new and sealed~~|~~450~~ sold as asked|\n|~~gmk crimson cadet \\[base\\]~~|~~new and sealed~~|~~270~~ sold as asked|\n|~~gmk nines \\[base\\]~~|~~new and sealed~~|~~270~~ sold as asked|\n|~~gmk striker \\[base + numpad\\]~~|~~new and sealed~~|~~450~~ sold as asked|\n|~~gmk crimson cadet \\[base\\]~~|~~new and sealed~~|~~270~~ sold as asked|\n|~~gmk nines \\[base\\]~~|~~new and sealed~~|~~270~~ sold as asked|\n~~gmk umbra for $285 shipped~~  **sold** for $270 shipped\n270\n|[~~gmk ursa base + spacebars + 40s~~](https://imgur.com/a/8hwshka)|~~base is only opened to check keys, the other 2 kits are sealed~~|~~$350 shipped in tray or $345 in bags sold spacebars for $65 and base+40s for $290~~|\n65\n|[~~gmk ursa base + spacebars~~](https://imgur.com/a/8hwshka)|~~if you really don't want the 40s, i could seek to sell it separately later, but i will priotize all 3 kits buyers~~|~~$320 shipped in tray or $315 shipped in bags sold~~|\n315\n|[~~gmk firefly base + (de)accents~~](https://imgur.com/a/on7o08c)|~~typed on for a few hours a month ago and then put everything back to tray, no shine~~|~~$315 shipped in tray or $310 shipped in bags, sold for $305 local pickup~~|\n305\n~~gmk umbra for $285 shipped~~  **sold** for $270 shipped\n270\n* ~~lubed gmk stabs~~\n|[gmk dmg + spacebars](https://imgur.com/4i5ghhi)|$350 shipped, paypal, us only|~~available~~ sold for asking|brand new in box|\n350\n~~gmk masterpiece x rama master gold - $175~~ sold.\n175\n~~gmk masterpiece x rama knife black - $175~~ sold.\n175\n~~gmk masterpiece x rama knife gold - $175~~ sold.\n175\n~~gmk nautilus 2 x rama nautilus enter - $200~~ \n200\n~~gmk masterpiece x rama master gold - $175~~ sold.\n175\n~~gmk masterpiece x rama knife black - $175~~ sold.\n175\n~~gmk masterpiece x rama knife gold - $175~~ sold.\n175\n~~gmk nautilus 2 x rama nautilus enter - $200~~ \n200\n~~gmk delta base - used for a few months, no shine.  complete set including original box and trays.~~ **~~asking $300 shipped~~** sold to u/acceptable_ocelot\n300\n|~~gmk solarized/penumbra~~|~~selling together as they came. used for a month or so, minimal shine.~~|~~$300 shipped~~|\n300\n~~**gmk oblivion:**~~ **sold**\n~~gmk alter - lightly used for photos, chipped corner on trays, includes falter, sealed spacebars and novelties - $575~~ sold\n575\n~~gmk taro r2 boba alphas, milk tea mods, novelties - $320~~ no longer available\n320\n**~~gmk eclipse + pale blue accents $220 shipped in box/tray~~** **sold for $210**\n210\n**~~gmk oblivion monochrome  $220 shipped in box/tray~~** **sold for asking**\n220\n|~~gmk olivia++ light base~~|~~no shine, practically new. shipped in bags.~~|~~$300~~ sold for asking to u/sortabeta|\n300\n|~~gmk olivia++ dark base~~|~~no shine, never used. shipped in bags.~~|~~$265~~|\n265\n|~~gmk olivia++ extensions~~|~~no shine, never used. shipped in tray.~~|~~$90~~ sold for asking to u/kind_mind_1196|\n90\n|~~gmk olivia++ spacebars + novelties~~|~~no shine, practically new. shipped in tray.~~|~~$100~~|\n100\n|~~gmk finer things base + novelties + spacebars~~|~~all bnib sealed. not looking to separate.~~|~~$450~~|\n450\n|~~gmk olivia++ dark base~~|~~removed from trays but never used. shipped in bags.~~|~~$250~~|\n250\n|~~gmk olivia++ novelties + spacebars~~|~~one spacebar and novelties are lightly used. all in impeccable condition.~~|~~$100~~|\n100\n|~~rama x gmk peaches n' cream green leaf~~|~~brand new.~~|~~$120~~ sold to  u/itsmematej for asking through venmo.|\n120\n|~~gmk olivia++ dark base~~|~~removed from trays but never used. shipped in bags.~~|~~$250~~ sold for asking to u/_imalittlestitious|\n250\n|~~gmk olivia++ novelties + spacebars~~|~~one spacebar and novelties lightly used with no shine or damage. all in impeccable condition. shipped in bags or trays, depending on if they're bundled with the dark base.~~|~~$100~~ sold for asking to u/_imalittlestitious|\n100\n~~gmk zhuyin wob alphas add-on kit~~ |  ~~new, sealed~~ | ~~$170 shipped conus~~ | **sold**\n170\n~~**gmk taro r2 boba alphas kit $110 shipped**~~\n110\n~~**gmk relegendables $40 shipped**~~ sold local sale\n40\n~~[timestamp:](https://imgur.com/a/8pbd6cq) 18 relegendables that match gmk’s n9 color or gmk skidata/nines/terminal. used for a few hours.~~\n# gmk bingsu - $350 shipped (sold)\n350\n# gmk dmg spacebars - $45 shipped (sold)\n45\n"
     ]
    }
   ],
   "source": [
    "# ignores european ppl, fix later\n",
    "money_regex = r'\\$\\d+|\\d+\\$'\n",
    "\n",
    "def extract_price(text):\n",
    "    s = text.split(\"\\n\")\n",
    "    for l in s:\n",
    "        low = l.lower()\n",
    "        if 'gmk' in low and ('~~' in low or 'sold' in low):\n",
    "            print(low)\n",
    "            matches = re.findall(money_regex, low)\n",
    "            \n",
    "            prices = [int(re.findall(r'\\d+', m)[0]) for m in matches]\n",
    "            if len(prices) > 0:\n",
    "                print(min(prices))\n",
    "\n",
    "for x in only_gmk['post']:\n",
    "    extract_price(x)\n"
   ]
  },
  {
   "cell_type": "code",
   "execution_count": null,
   "metadata": {},
   "outputs": [],
   "source": []
  }
 ],
 "metadata": {
  "kernelspec": {
   "name": "python379jvsc74a57bd0aee8b7b246df8f9039afb4144a1f6fd8d2ca17a180786b69acc140d282b71a49",
   "display_name": "Python 3.7.9 64-bit"
  },
  "metadata": {
   "interpreter": {
    "hash": "aee8b7b246df8f9039afb4144a1f6fd8d2ca17a180786b69acc140d282b71a49"
   }
  }
 },
 "nbformat": 4,
 "nbformat_minor": 2
}