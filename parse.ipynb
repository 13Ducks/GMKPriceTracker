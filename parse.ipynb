{
 "cells": [
  {
   "cell_type": "code",
   "execution_count": 2,
   "metadata": {},
   "outputs": [],
   "source": [
    "import pandas as pd\n",
    "import re"
   ]
  },
  {
   "cell_type": "code",
   "execution_count": 3,
   "metadata": {},
   "outputs": [
    {
     "output_type": "execute_result",
     "data": {
      "text/plain": [
       "                                                            date  \\\n",
       "link                                                               \n",
       "/r/mechmarket/comments/jlwj7h/sgh_new_and_unbui...  1.604205e+09   \n",
       "/r/mechmarket/comments/jlwi4o/usca_h_mojo60_ewh...  1.604205e+09   \n",
       "/r/mechmarket/comments/jlvr38/usca_h_dsa_granit...  1.604201e+09   \n",
       "/r/mechmarket/comments/jlvjt9/uscah_gmk_fuyu_ku...  1.604200e+09   \n",
       "/r/mechmarket/comments/jlvcg1/uscahbuilt_kbd75v...  1.604199e+09   \n",
       "\n",
       "                                                                                                 post  \\\n",
       "link                                                                                                    \n",
       "/r/mechmarket/comments/jlwj7h/sgh_new_and_unbui...  [TX66 Timestamp](https://imgur.com/a/XvaXEQD)\\...   \n",
       "/r/mechmarket/comments/jlwi4o/usca_h_mojo60_ewh...  [**Timestamp**](https://imgur.com/a/LCN5jst)\\n...   \n",
       "/r/mechmarket/comments/jlvr38/usca_h_dsa_granit...  Timestamps:\\n\\n[https://drive.google.com/file/...   \n",
       "/r/mechmarket/comments/jlvjt9/uscah_gmk_fuyu_ku...  Stamp: https://imgur.com/a/qAbzDg3\\n\\nGMK Fuyu...   \n",
       "/r/mechmarket/comments/jlvcg1/uscahbuilt_kbd75v...  [TIMESTAMP](https://imgur.com/a/zwALQZ3)\\n\\nHa...   \n",
       "\n",
       "                                                                                                title  \n",
       "link                                                                                                   \n",
       "/r/mechmarket/comments/jlwj7h/sgh_new_and_unbui...  [SG][H] New and Unbuilt TX66 White, GMK Coral,...  \n",
       "/r/mechmarket/comments/jlwi4o/usca_h_mojo60_ewh...  [US-CA] [H] Mojo60 ewhite, DZ60RGB-ANSI v2 Hot...  \n",
       "/r/mechmarket/comments/jlvr38/usca_h_dsa_granit...  [US-CA] [H] DSA Granite Text Modifiers, DSA Hi...  \n",
       "/r/mechmarket/comments/jlvjt9/uscah_gmk_fuyu_ku...   [US-CA][H] GMK Fuyu, Kuro Shiro [W] Paypal, Cash  \n",
       "/r/mechmarket/comments/jlvcg1/uscahbuilt_kbd75v...  [US-CA][H]built KBD75V2, NK65ee blumen and smo...  "
      ],
      "text/html": "<div>\n<style scoped>\n    .dataframe tbody tr th:only-of-type {\n        vertical-align: middle;\n    }\n\n    .dataframe tbody tr th {\n        vertical-align: top;\n    }\n\n    .dataframe thead th {\n        text-align: right;\n    }\n</style>\n<table border=\"1\" class=\"dataframe\">\n  <thead>\n    <tr style=\"text-align: right;\">\n      <th></th>\n      <th>date</th>\n      <th>post</th>\n      <th>title</th>\n    </tr>\n    <tr>\n      <th>link</th>\n      <th></th>\n      <th></th>\n      <th></th>\n    </tr>\n  </thead>\n  <tbody>\n    <tr>\n      <th>/r/mechmarket/comments/jlwj7h/sgh_new_and_unbuilt_tx66_white_gmk_coral_gmk/</th>\n      <td>1.604205e+09</td>\n      <td>[TX66 Timestamp](https://imgur.com/a/XvaXEQD)\\...</td>\n      <td>[SG][H] New and Unbuilt TX66 White, GMK Coral,...</td>\n    </tr>\n    <tr>\n      <th>/r/mechmarket/comments/jlwi4o/usca_h_mojo60_ewhite_dz60rgbansi_v2_hotswap_pcb/</th>\n      <td>1.604205e+09</td>\n      <td>[**Timestamp**](https://imgur.com/a/LCN5jst)\\n...</td>\n      <td>[US-CA] [H] Mojo60 ewhite, DZ60RGB-ANSI v2 Hot...</td>\n    </tr>\n    <tr>\n      <th>/r/mechmarket/comments/jlvr38/usca_h_dsa_granite_text_modifiers_dsa_high/</th>\n      <td>1.604201e+09</td>\n      <td>Timestamps:\\n\\n[https://drive.google.com/file/...</td>\n      <td>[US-CA] [H] DSA Granite Text Modifiers, DSA Hi...</td>\n    </tr>\n    <tr>\n      <th>/r/mechmarket/comments/jlvjt9/uscah_gmk_fuyu_kuro_shiro_w_paypal_cash/</th>\n      <td>1.604200e+09</td>\n      <td>Stamp: https://imgur.com/a/qAbzDg3\\n\\nGMK Fuyu...</td>\n      <td>[US-CA][H] GMK Fuyu, Kuro Shiro [W] Paypal, Cash</td>\n    </tr>\n    <tr>\n      <th>/r/mechmarket/comments/jlvcg1/uscahbuilt_kbd75v2_nk65ee_blumen_and_smoke_gmk/</th>\n      <td>1.604199e+09</td>\n      <td>[TIMESTAMP](https://imgur.com/a/zwALQZ3)\\n\\nHa...</td>\n      <td>[US-CA][H]built KBD75V2, NK65ee blumen and smo...</td>\n    </tr>\n  </tbody>\n</table>\n</div>"
     },
     "metadata": {},
     "execution_count": 3
    }
   ],
   "source": [
    "filename = 'october2020.csv'\n",
    "df = pd.read_csv(filename)\n",
    "df.drop(df.columns[0], axis=1, inplace=True)\n",
    "df.drop_duplicates('link', inplace=True)\n",
    "df.set_index('link', inplace=True)\n",
    "df.head()"
   ]
  },
  {
   "cell_type": "code",
   "execution_count": 4,
   "metadata": {},
   "outputs": [
    {
     "output_type": "execute_result",
     "data": {
      "text/plain": [
       "((1181, 5), (1188, 5))"
      ]
     },
     "metadata": {},
     "execution_count": 4
    }
   ],
   "source": [
    "df['post_lower'] = df['post'].str.lower()\n",
    "df['title_lower'] = df['title'].str.lower()\n",
    "only_gmk = df[df['post_lower'].str.contains('gmk') | df['title_lower'].str.contains('gmk')].copy()\n",
    "not_gmk = df[(~(df['post_lower'].str.contains('gmk') | df['title_lower'].str.contains('gmk')))].copy()\n",
    "\n",
    "only_gmk.shape, df.shape"
   ]
  },
  {
   "cell_type": "code",
   "execution_count": 5,
   "metadata": {},
   "outputs": [
    {
     "output_type": "execute_result",
     "data": {
      "text/plain": [
       "                                                            date  \\\n",
       "link                                                               \n",
       "/r/mechmarket/comments/jjr74m/usca_h_fc660c_peb...  1.603903e+09   \n",
       "/r/mechmarket/comments/jby7ir/usca_h_rekt1800_b...  1.602802e+09   \n",
       "/r/mechmarket/comments/jbjrcb/eult_h_drop_alt_z...  1.602751e+09   \n",
       "/r/mechmarket/comments/j8yf6u/uspah_acrylic_tof...  1.602388e+09   \n",
       "/r/mechmarket/comments/j6h8d0/usca_h_silver_m65...  1.602031e+09   \n",
       "\n",
       "                                                                                                 post  \\\n",
       "link                                                                                                    \n",
       "/r/mechmarket/comments/jjr74m/usca_h_fc660c_peb...  [Timestamp](https://imgur.com/a/UsZRmq8)\\n\\n&#...   \n",
       "/r/mechmarket/comments/jby7ir/usca_h_rekt1800_b...  [Timestamp & Album](https://imgur.com/a/0aktko...   \n",
       "/r/mechmarket/comments/jbjrcb/eult_h_drop_alt_z...  [TIMESTAMP](https://imgur.com/a/p7fejyk)\\n\\nTo...   \n",
       "/r/mechmarket/comments/j8yf6u/uspah_acrylic_tof...  [stamp](https://imgur.com/a/OfHba9z)\\n\\nBIG UP...   \n",
       "/r/mechmarket/comments/j6h8d0/usca_h_silver_m65...                                            removed   \n",
       "\n",
       "                                                                                                title  \\\n",
       "link                                                                                                    \n",
       "/r/mechmarket/comments/jjr74m/usca_h_fc660c_peb...    [US-CA] [H] FC660C, Pebble, Switches [W] PayPal   \n",
       "/r/mechmarket/comments/jby7ir/usca_h_rekt1800_b...  [US-CA] [H] Rekt1800 Black Kit, Iris Rev3 Buil...   \n",
       "/r/mechmarket/comments/jbjrcb/eult_h_drop_alt_z...  [EU-LT] [H] Drop Alt, Zilents V2 (62g), Cherry...   \n",
       "/r/mechmarket/comments/j8yf6u/uspah_acrylic_tof...  [US-PA][H] Acrylic Tofu, Gateron Inks, switch ...   \n",
       "/r/mechmarket/comments/j6h8d0/usca_h_silver_m65...  [US-CA] [H] Silver M65-A (nylon base), Artisan...   \n",
       "\n",
       "                                                                                           post_lower  \\\n",
       "link                                                                                                    \n",
       "/r/mechmarket/comments/jjr74m/usca_h_fc660c_peb...  [timestamp](https://imgur.com/a/uszrmq8)\\n\\n&#...   \n",
       "/r/mechmarket/comments/jby7ir/usca_h_rekt1800_b...  [timestamp & album](https://imgur.com/a/0aktko...   \n",
       "/r/mechmarket/comments/jbjrcb/eult_h_drop_alt_z...  [timestamp](https://imgur.com/a/p7fejyk)\\n\\nto...   \n",
       "/r/mechmarket/comments/j8yf6u/uspah_acrylic_tof...  [stamp](https://imgur.com/a/ofhba9z)\\n\\nbig up...   \n",
       "/r/mechmarket/comments/j6h8d0/usca_h_silver_m65...                                            removed   \n",
       "\n",
       "                                                                                          title_lower  \n",
       "link                                                                                                   \n",
       "/r/mechmarket/comments/jjr74m/usca_h_fc660c_peb...    [us-ca] [h] fc660c, pebble, switches [w] paypal  \n",
       "/r/mechmarket/comments/jby7ir/usca_h_rekt1800_b...  [us-ca] [h] rekt1800 black kit, iris rev3 buil...  \n",
       "/r/mechmarket/comments/jbjrcb/eult_h_drop_alt_z...  [eu-lt] [h] drop alt, zilents v2 (62g), cherry...  \n",
       "/r/mechmarket/comments/j8yf6u/uspah_acrylic_tof...  [us-pa][h] acrylic tofu, gateron inks, switch ...  \n",
       "/r/mechmarket/comments/j6h8d0/usca_h_silver_m65...  [us-ca] [h] silver m65-a (nylon base), artisan...  "
      ],
      "text/html": "<div>\n<style scoped>\n    .dataframe tbody tr th:only-of-type {\n        vertical-align: middle;\n    }\n\n    .dataframe tbody tr th {\n        vertical-align: top;\n    }\n\n    .dataframe thead th {\n        text-align: right;\n    }\n</style>\n<table border=\"1\" class=\"dataframe\">\n  <thead>\n    <tr style=\"text-align: right;\">\n      <th></th>\n      <th>date</th>\n      <th>post</th>\n      <th>title</th>\n      <th>post_lower</th>\n      <th>title_lower</th>\n    </tr>\n    <tr>\n      <th>link</th>\n      <th></th>\n      <th></th>\n      <th></th>\n      <th></th>\n      <th></th>\n    </tr>\n  </thead>\n  <tbody>\n    <tr>\n      <th>/r/mechmarket/comments/jjr74m/usca_h_fc660c_pebble_switches_w_paypal/</th>\n      <td>1.603903e+09</td>\n      <td>[Timestamp](https://imgur.com/a/UsZRmq8)\\n\\n&amp;#...</td>\n      <td>[US-CA] [H] FC660C, Pebble, Switches [W] PayPal</td>\n      <td>[timestamp](https://imgur.com/a/uszrmq8)\\n\\n&amp;#...</td>\n      <td>[us-ca] [h] fc660c, pebble, switches [w] paypal</td>\n    </tr>\n    <tr>\n      <th>/r/mechmarket/comments/jby7ir/usca_h_rekt1800_black_kit_iris_rev3_built/</th>\n      <td>1.602802e+09</td>\n      <td>[Timestamp &amp; Album](https://imgur.com/a/0aktko...</td>\n      <td>[US-CA] [H] Rekt1800 Black Kit, Iris Rev3 Buil...</td>\n      <td>[timestamp &amp; album](https://imgur.com/a/0aktko...</td>\n      <td>[us-ca] [h] rekt1800 black kit, iris rev3 buil...</td>\n    </tr>\n    <tr>\n      <th>/r/mechmarket/comments/jbjrcb/eult_h_drop_alt_zilents_v2_62g_cherry_mx_red/</th>\n      <td>1.602751e+09</td>\n      <td>[TIMESTAMP](https://imgur.com/a/p7fejyk)\\n\\nTo...</td>\n      <td>[EU-LT] [H] Drop Alt, Zilents V2 (62g), Cherry...</td>\n      <td>[timestamp](https://imgur.com/a/p7fejyk)\\n\\nto...</td>\n      <td>[eu-lt] [h] drop alt, zilents v2 (62g), cherry...</td>\n    </tr>\n    <tr>\n      <th>/r/mechmarket/comments/j8yf6u/uspah_acrylic_tofu_gateron_inks_switch_parts/</th>\n      <td>1.602388e+09</td>\n      <td>[stamp](https://imgur.com/a/OfHba9z)\\n\\nBIG UP...</td>\n      <td>[US-PA][H] Acrylic Tofu, Gateron Inks, switch ...</td>\n      <td>[stamp](https://imgur.com/a/ofhba9z)\\n\\nbig up...</td>\n      <td>[us-pa][h] acrylic tofu, gateron inks, switch ...</td>\n    </tr>\n    <tr>\n      <th>/r/mechmarket/comments/j6h8d0/usca_h_silver_m65a_nylon_base_artisans_bumens_etc/</th>\n      <td>1.602031e+09</td>\n      <td>removed</td>\n      <td>[US-CA] [H] Silver M65-A (nylon base), Artisan...</td>\n      <td>removed</td>\n      <td>[us-ca] [h] silver m65-a (nylon base), artisan...</td>\n    </tr>\n  </tbody>\n</table>\n</div>"
     },
     "metadata": {},
     "execution_count": 5
    }
   ],
   "source": [
    "not_gmk.head()"
   ]
  },
  {
   "cell_type": "code",
   "execution_count": 45,
   "metadata": {
    "tags": []
   },
   "outputs": [
    {
     "output_type": "stream",
     "name": "stdout",
     "text": [
      "~~gmk metropolis base - [this](https://i.imgur.com/afpkwe0.jpg) set hasn't seen a great deal of use and, though is a interesting set, happens to get swapped out eventually. it hasn't shined as of yet and is just the base kit. asking price is **£185/$240**~~**sold**\n",
      "~~gmk calm depths assembly and space bar kit - bought [this](https://i.imgur.com/afpkwe0.jpg) on the off change i use some otho/splergo board... never did. no shine and i haven't used it at all. will not ship in it's tray. asking price for both kits is **£140/$180**~~**sold**\n",
      "|~~gmk fro.yo (base kit)~~|~~sealed~~|~~£200 + shipping~~ sold|\n",
      "|gmk cafe base sold!!! + black (dark alphas) kit|used sparingly on my m60 for about 10 days before realising i need a 65% board. black kit is opened but unused (apart from the 7u spacebar). shipped in original gmk packaging (or bags if you want to save on shipping)|£210 and £110 respectively, or buy both for £310|\n",
      "|gmk cafe base sold!!! + black (dark alphas) kit|used sparingly on my m60 for about 10 days before realising i need a 65% board. black kit is opened but unused (apart from the 7u spacebar). shipped in original gmk packaging (or bags if you want to save on shipping)|£210 and £110 respectively, or buy both for £310|\n",
      "|gmk cafe base sold!!! + black (dark alphas) kit|used sparingly on my m60 for about 10 days before realising i need a 65% board. black kit is opened but unused (apart from the 7u spacebar). shipped in original gmk packaging (or bags if you want to save on shipping)|£210 and £110 respectively, or buy both for £310|\n",
      "|tofu 65 black hotswap kit sold!!!|comes with dz65 rgb hotswap pcb, aluminium plate, gmk screw in stabs (clipped, lubed, and band aid modded), and case foam. only flaw(s) are the minor blemishes on the brass weight on the bottom (pm for pics), apart from that the case is in pristine condition. if you really don't want them to be visible, you can always just flip the weight over :) this is a perfect beginner board, all you need are switches and keycaps and you're ready to go!|£160 (you'd be spending at least £40 more buying directly from kbdfans)|\n",
      "|tofu 65 black hotswap kit sold!!!|comes with dz65 rgb hotswap pcb, aluminium plate, gmk screw in stabs (clipped, lubed, and band aid modded), and case foam. only flaw(s) are the minor blemishes on the brass weight on the bottom (pm for pics), apart from that the case is in pristine condition. if you really don't want them to be visible, you can always just flip the weight over :) this is a perfect beginner board, all you need are switches and keycaps and you're ready to go!|£160 (you'd be spending at least £40 more buying directly from kbdfans)|\n",
      "|~~gmk wob hiragana (base)~~|~~lightly used but in good shape~~|~~£200 + shipping~~ **sold**|\n",
      "~~[gmk red honey](https://imgur.com/a/jxnoatf) - owned this for a few months but has seen little use from myself and the previous owner it seems. there is no shine and has no missing keys. it *will not* come in the gmk tray, rather bags. price is **$135/£105**~~ **sold**\n"
     ]
    }
   ],
   "source": [
    "from collections import defaultdict\n",
    "\n",
    "money_regex = r'([£€\\$]\\d+)|(\\d+[£€\\$])'\n",
    "euro_to_usd = 1.2\n",
    "pound_to_usd = 1.4\n",
    "\n",
    "sets = ['base', 'nov', 'alpha', 'accent', 'bars', 'spacebar', 'light base', 'dark base', 'deskmat', 'rama', '40s', '40\\'s', 'fourties', 'mods', 'extension']\n",
    "\n",
    "sales_data = []\n",
    "\n",
    "def match_product(df):\n",
    "    for row in df.itertuples():\n",
    "        s = row.post_lower.split(\"\\n\")\n",
    "        #product = row.product_name.lower()\n",
    "        #print(row[0][1])\n",
    "        for l in s:\n",
    "            low = l.lower()\n",
    "            if \"gmk \" in low and ('~~' in low or 'sold' in low):\n",
    "                a = low.split(\"gmk \")[1]\n",
    "                product_name = \"gmk \" + re.split(r\"[^\\w\\+\\.]\", a)[0]\n",
    "                if \"gmk stab\" in product_name:\n",
    "                    continue\n",
    "                matches = re.split(money_regex, low)\n",
    "                \n",
    "                temp_data = {}\n",
    "                if len(matches) > 1:\n",
    "                    #print(f\"FULL LINE: {low}\")\n",
    "                    hadBase = False\n",
    "                    allKits = []\n",
    "                    for i in range(0, len(matches)-1, 3):\n",
    "                        curr_price = int(matches[i+1][1:] if matches[i+1] else matches[i+2][:-1])\n",
    "                        currency = matches[i+1][0] if matches[i+1] else matches[i+2][-1]\n",
    "                        if currency == \"€\":\n",
    "                            curr_price = round(curr_price * euro_to_usd)\n",
    "                        if currency == \"£\":\n",
    "                            curr_price = round(curr_price * pound_to_usd)\n",
    "                        curr_str = matches[i]\n",
    "                        kits = []\n",
    "                        removeBase = False\n",
    "                        empty=True\n",
    "                        for x in sets:\n",
    "                            if x in curr_str:\n",
    "                                empty=False\n",
    "                                if x == 'nov':\n",
    "                                    kits.append('novelties')\n",
    "                                elif x == 'light base' or x == 'dark base':\n",
    "                                    kits.insert(0, f'{x}')\n",
    "                                    removeBase = True\n",
    "                                elif x == 'bars' or x == 'spacebar':\n",
    "                                    if 'spacebars' not in kits:\n",
    "                                        kits.append('spacebars')\n",
    "                                elif x in ['40s', '40\\'s', 'fourties']:\n",
    "                                    kits.append('40s')\n",
    "                                else:\n",
    "                                    kits.append(x)\n",
    "                        products = product_name\n",
    "                        if i == 0 and not kits:\n",
    "                            kits = ['base']\n",
    "                        for x in kits:\n",
    "                            if removeBase and x == 'base':\n",
    "                                continue\n",
    "                            products += f', {x}'\n",
    "                        if i == 0:\n",
    "                            temp_data[\"products\"] = products\n",
    "                            temp_data[\"str\"] = curr_str\n",
    "                            temp_data[\"price\"] = curr_price\n",
    "                        \n",
    "                        if kits and i > 0:\n",
    "                            #print(f\"PRODUCT: {temp_data['products']} CURRENT STRING: {temp_data['str']} PRICE: {temp_data['price']}\")\n",
    "                            #all_prices[temp_data['products']].append(temp_data['price'])\n",
    "                            sales_data.append([row[0], temp_data['products'], temp_data['price'], row.date])\n",
    "                            \n",
    "                            temp_data[\"products\"] = products\n",
    "                            temp_data[\"str\"] = curr_str\n",
    "                            temp_data[\"price\"] = curr_price\n",
    "                        else:\n",
    "                            temp_data[\"price\"] = min(temp_data[\"price\"], curr_price)\n",
    "                    #print(type(temp_data['products']))\n",
    "                    quit = False\n",
    "                    if 'base' not in temp_data['products']:\n",
    "                        temp = low.split('gmk')[1]\n",
    "                        for x in temp.split(' '):\n",
    "                            for y in sets[1:]:\n",
    "                                if y in x:\n",
    "                                    quit = True\n",
    "                            if quit: break\n",
    "                                    \n",
    "                            if '+' in x or ',' in x:\n",
    "\n",
    "                                if x == 'olivia++':\n",
    "                                    break\n",
    "                                # print(low)\n",
    "                                # print(row[0])\n",
    "                                # print(x)\n",
    "                                a = temp_data['products']\n",
    "                                temp_data['products'] = a[:a.index(',')] + ', base' + a[a.index(','):]\n",
    "\n",
    "                                break\n",
    "                            \n",
    "\n",
    "\n",
    "\n",
    "                    #print(f\"PRODUCT: {temp_data['products']} CURRENT STRING: {temp_data['str']} PRICE: {temp_data['price']}\")\n",
    "                    #all_prices[temp_data['products']].append(temp_data['price'])\n",
    "                    sales_data.append([row[0], temp_data['products'], temp_data['price'], row.date])\n",
    "                \n",
    "\n",
    "for i, new_df in only_gmk.groupby(level=0):\n",
    "    match_product(new_df)\n",
    "    \n",
    "#print(sales_data)"
   ]
  },
  {
   "cell_type": "code",
   "execution_count": 44,
   "metadata": {},
   "outputs": [],
   "source": [
    "sales_df = pd.DataFrame(sales_data, columns=['link', 'product', 'price', 'date'])\n",
    "sales_df['date'] = pd.to_datetime(sales_df['date'], unit = 's')\n",
    "sales_df.to_csv('results_2' + filename)"
   ]
  },
  {
   "cell_type": "code",
   "execution_count": null,
   "metadata": {},
   "outputs": [],
   "source": []
  }
 ],
 "metadata": {
  "kernelspec": {
   "name": "python379jvsc74a57bd0aee8b7b246df8f9039afb4144a1f6fd8d2ca17a180786b69acc140d282b71a49",
   "display_name": "Python 3.7.9 64-bit"
  },
  "metadata": {
   "interpreter": {
    "hash": "aee8b7b246df8f9039afb4144a1f6fd8d2ca17a180786b69acc140d282b71a49"
   }
  }
 },
 "nbformat": 4,
 "nbformat_minor": 2
}