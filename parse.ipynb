{
 "cells": [
  {
   "cell_type": "code",
   "execution_count": 7,
   "metadata": {},
   "outputs": [],
   "source": [
    "import pandas as pd\n",
    "import re"
   ]
  },
  {
   "cell_type": "code",
   "execution_count": 9,
   "metadata": {},
   "outputs": [
    {
     "output_type": "execute_result",
     "data": {
      "text/plain": [
       "                                                          author  \\\n",
       "link                                                               \n",
       "/r/mechmarket/comments/jaml20/usnyhgmk_olivia_d...     Phailure_   \n",
       "/r/mechmarket/comments/jhdf5l/usnyhnorbaforce_x...     Phailure_   \n",
       "/r/mechmarket/comments/jff2e3/usnyhlubrigante_n...     Phailure_   \n",
       "/r/mechmarket/comments/j0vrt9/usny_h_sealed_gmk...  SleepyMarket   \n",
       "/r/mechmarket/comments/j1bv66/usca_h_gmk_olivia...        shunfu   \n",
       "\n",
       "                                                            date  \\\n",
       "link                                                               \n",
       "/r/mechmarket/comments/jaml20/usnyhgmk_olivia_d...  1.602624e+09   \n",
       "/r/mechmarket/comments/jhdf5l/usnyhnorbaforce_x...  1.603562e+09   \n",
       "/r/mechmarket/comments/jff2e3/usnyhlubrigante_n...  1.603294e+09   \n",
       "/r/mechmarket/comments/j0vrt9/usny_h_sealed_gmk...  1.601230e+09   \n",
       "/r/mechmarket/comments/j1bv66/usca_h_gmk_olivia...  1.601299e+09   \n",
       "\n",
       "                                                                                                 post  \\\n",
       "link                                                                                                    \n",
       "/r/mechmarket/comments/jaml20/usnyhgmk_olivia_d...  [timestamp](https://imgur.com/gallery/RuUqL8t)...   \n",
       "/r/mechmarket/comments/jhdf5l/usnyhnorbaforce_x...  [timestamp](https://imgur.com/gallery/mXImAjs)...   \n",
       "/r/mechmarket/comments/jff2e3/usnyhlubrigante_n...  [timestamp](https://imgur.com/gallery/6iG806B)...   \n",
       "/r/mechmarket/comments/j0vrt9/usny_h_sealed_gmk...  [Time Stamp](https://imgur.com/a/By1Mvui)\\r\\n\\...   \n",
       "/r/mechmarket/comments/j1bv66/usca_h_gmk_olivia...  ~~BNIB GMK Olivia++ Light Base. $320 shipped C...   \n",
       "\n",
       "                                                                                              rawtext  \\\n",
       "link                                                                                                    \n",
       "/r/mechmarket/comments/jaml20/usnyhgmk_olivia_d...      sold gmk olivia++ dark base to u/wavyhundreds   \n",
       "/r/mechmarket/comments/jhdf5l/usnyhnorbaforce_x...      sold gmk olivia++ dark base to u/wavyhundreds   \n",
       "/r/mechmarket/comments/jff2e3/usnyhlubrigante_n...      sold gmk olivia++ dark base to u/wavyhundreds   \n",
       "/r/mechmarket/comments/j0vrt9/usny_h_sealed_gmk...  sold gmk olivia++ light base and enter rama to...   \n",
       "/r/mechmarket/comments/j1bv66/usca_h_gmk_olivia...           sold gmk olivia++ light to /u/so-amusing   \n",
       "\n",
       "                                                                                                title  \n",
       "link                                                                                                   \n",
       "/r/mechmarket/comments/jaml20/usnyhgmk_olivia_d...  [US-NY][H]GMK Olivia++ Dark, GMK DualShot [W] ...  \n",
       "/r/mechmarket/comments/jhdf5l/usnyhnorbaforce_x...  [US-NY][H]Norbaforce x2, Lubrigante, Olivia++ ...  \n",
       "/r/mechmarket/comments/jff2e3/usnyhlubrigante_n...  [US-NY][H]Lubrigante, Norbaforce MK1, kbd8x pc...  \n",
       "/r/mechmarket/comments/j0vrt9/usny_h_sealed_gmk...  [US-NY] [H] Sealed Gmk Olivia++ light base & H...  \n",
       "/r/mechmarket/comments/j1bv66/usca_h_gmk_olivia...     [US-CA] [H] GMK Olivia++ Light Base [W] PayPal  "
      ],
      "text/html": "<div>\n<style scoped>\n    .dataframe tbody tr th:only-of-type {\n        vertical-align: middle;\n    }\n\n    .dataframe tbody tr th {\n        vertical-align: top;\n    }\n\n    .dataframe thead th {\n        text-align: right;\n    }\n</style>\n<table border=\"1\" class=\"dataframe\">\n  <thead>\n    <tr style=\"text-align: right;\">\n      <th></th>\n      <th>author</th>\n      <th>date</th>\n      <th>post</th>\n      <th>rawtext</th>\n      <th>title</th>\n    </tr>\n    <tr>\n      <th>link</th>\n      <th></th>\n      <th></th>\n      <th></th>\n      <th></th>\n      <th></th>\n    </tr>\n  </thead>\n  <tbody>\n    <tr>\n      <th>/r/mechmarket/comments/jaml20/usnyhgmk_olivia_dark_gmk_dualshot_w_gmk_handarbeit/</th>\n      <td>Phailure_</td>\n      <td>1.602624e+09</td>\n      <td>[timestamp](https://imgur.com/gallery/RuUqL8t)...</td>\n      <td>sold gmk olivia++ dark base to u/wavyhundreds</td>\n      <td>[US-NY][H]GMK Olivia++ Dark, GMK DualShot [W] ...</td>\n    </tr>\n    <tr>\n      <th>/r/mechmarket/comments/jhdf5l/usnyhnorbaforce_x2_lubrigante_olivia_dark/</th>\n      <td>Phailure_</td>\n      <td>1.603562e+09</td>\n      <td>[timestamp](https://imgur.com/gallery/mXImAjs)...</td>\n      <td>sold gmk olivia++ dark base to u/wavyhundreds</td>\n      <td>[US-NY][H]Norbaforce x2, Lubrigante, Olivia++ ...</td>\n    </tr>\n    <tr>\n      <th>/r/mechmarket/comments/jff2e3/usnyhlubrigante_norbaforce_mk1_kbd8x_pcb_olivia/</th>\n      <td>Phailure_</td>\n      <td>1.603294e+09</td>\n      <td>[timestamp](https://imgur.com/gallery/6iG806B)...</td>\n      <td>sold gmk olivia++ dark base to u/wavyhundreds</td>\n      <td>[US-NY][H]Lubrigante, Norbaforce MK1, kbd8x pc...</td>\n    </tr>\n    <tr>\n      <th>/r/mechmarket/comments/j0vrt9/usny_h_sealed_gmk_olivia_light_base_hihihi_rama/</th>\n      <td>SleepyMarket</td>\n      <td>1.601230e+09</td>\n      <td>[Time Stamp](https://imgur.com/a/By1Mvui)\\r\\n\\...</td>\n      <td>sold gmk olivia++ light base and enter rama to...</td>\n      <td>[US-NY] [H] Sealed Gmk Olivia++ light base &amp; H...</td>\n    </tr>\n    <tr>\n      <th>/r/mechmarket/comments/j1bv66/usca_h_gmk_olivia_light_base_w_paypal/</th>\n      <td>shunfu</td>\n      <td>1.601299e+09</td>\n      <td>~~BNIB GMK Olivia++ Light Base. $320 shipped C...</td>\n      <td>sold gmk olivia++ light to /u/so-amusing</td>\n      <td>[US-CA] [H] GMK Olivia++ Light Base [W] PayPal</td>\n    </tr>\n  </tbody>\n</table>\n</div>"
     },
     "metadata": {},
     "execution_count": 9
    }
   ],
   "source": [
    "filename = 'october2020.csv'\n",
    "df = pd.read_csv(filename)\n",
    "df.drop(df.columns[0], axis=1, inplace=True)\n",
    "df.drop_duplicates('link', inplace=True)\n",
    "df.set_index('link', inplace=True)\n",
    "df.head()"
   ]
  },
  {
   "cell_type": "code",
   "execution_count": 10,
   "metadata": {},
   "outputs": [
    {
     "output_type": "execute_result",
     "data": {
      "text/plain": [
       "((445, 7), (648, 7))"
      ]
     },
     "metadata": {},
     "execution_count": 10
    }
   ],
   "source": [
    "df['post_lower'] = df['post'].str.lower()\n",
    "df['title_lower'] = df['title'].str.lower()\n",
    "only_gmk = df[df['post_lower'].str.contains('gmk') | df['title_lower'].str.contains('gmk')].copy()\n",
    "not_gmk = df[(~(df['post_lower'].str.contains('gmk') | df['title_lower'].str.contains('gmk')))].copy()\n",
    "\n",
    "only_gmk.shape, df.shape"
   ]
  },
  {
   "cell_type": "code",
   "execution_count": 11,
   "metadata": {},
   "outputs": [
    {
     "output_type": "execute_result",
     "data": {
      "text/plain": [
       "                                                       author          date  \\\n",
       "link                                                                          \n",
       "/r/mechmarket/comments/jff2e3/usnyhlubrigante_n...  Phailure_  1.603294e+09   \n",
       "/r/mechmarket/comments/ix1cex/gb_key_switch_hoo...  enby-girl  1.600698e+09   \n",
       "/r/mechmarket/comments/j22mil/gb_reminder_and_g...  enby-girl  1.601397e+09   \n",
       "/r/mechmarket/comments/iut48b/caqc_h_paypal_w_p...  enby-girl  1.600379e+09   \n",
       "/r/mechmarket/comments/iuj8dj/ic_key_switch_hoo...  enby-girl  1.600349e+09   \n",
       "\n",
       "                                                                                                 post  \\\n",
       "link                                                                                                    \n",
       "/r/mechmarket/comments/jff2e3/usnyhlubrigante_n...  [timestamp](https://imgur.com/gallery/6iG806B)...   \n",
       "/r/mechmarket/comments/ix1cex/gb_key_switch_hoo...  Hey folks! I posted [an interest check](https:...   \n",
       "/r/mechmarket/comments/j22mil/gb_reminder_and_g...  Hey folks! I thought I'd bump my GB for the Ke...   \n",
       "/r/mechmarket/comments/iut48b/caqc_h_paypal_w_p...  WTB: Percent Volt 80 Snow White.\\r\\n\\r\\nPrefer...   \n",
       "/r/mechmarket/comments/iuj8dj/ic_key_switch_hoo...  I posted a pair of my custom/DIY mechanical sw...   \n",
       "\n",
       "                                                                                              rawtext  \\\n",
       "link                                                                                                    \n",
       "/r/mechmarket/comments/jff2e3/usnyhlubrigante_n...      sold gmk olivia++ dark base to u/wavyhundreds   \n",
       "/r/mechmarket/comments/ix1cex/gb_key_switch_hoo...  bought gmk olivia++ light base and 41 kiwi swi...   \n",
       "/r/mechmarket/comments/j22mil/gb_reminder_and_g...  bought gmk olivia++ light base and 41 kiwi swi...   \n",
       "/r/mechmarket/comments/iut48b/caqc_h_paypal_w_p...  bought gmk olivia++ light base and 41 kiwi swi...   \n",
       "/r/mechmarket/comments/iuj8dj/ic_key_switch_hoo...  bought gmk olivia++ light base and 41 kiwi swi...   \n",
       "\n",
       "                                                                                                title  \\\n",
       "link                                                                                                    \n",
       "/r/mechmarket/comments/jff2e3/usnyhlubrigante_n...  [US-NY][H]Lubrigante, Norbaforce MK1, kbd8x pc...   \n",
       "/r/mechmarket/comments/ix1cex/gb_key_switch_hoo...                      [GB] Key Switch Hook Earrings   \n",
       "/r/mechmarket/comments/j22mil/gb_reminder_and_g...  [GB] Reminder and giveaway winner: Key Switch ...   \n",
       "/r/mechmarket/comments/iut48b/caqc_h_paypal_w_p...  [CA-QC] [H] PayPal [W] Percent Volt 80 Snow White   \n",
       "/r/mechmarket/comments/iuj8dj/ic_key_switch_hoo...                      [IC] Key Switch Hook Earrings   \n",
       "\n",
       "                                                                                           post_lower  \\\n",
       "link                                                                                                    \n",
       "/r/mechmarket/comments/jff2e3/usnyhlubrigante_n...  [timestamp](https://imgur.com/gallery/6ig806b)...   \n",
       "/r/mechmarket/comments/ix1cex/gb_key_switch_hoo...  hey folks! i posted [an interest check](https:...   \n",
       "/r/mechmarket/comments/j22mil/gb_reminder_and_g...  hey folks! i thought i'd bump my gb for the ke...   \n",
       "/r/mechmarket/comments/iut48b/caqc_h_paypal_w_p...  wtb: percent volt 80 snow white.\\r\\n\\r\\nprefer...   \n",
       "/r/mechmarket/comments/iuj8dj/ic_key_switch_hoo...  i posted a pair of my custom/diy mechanical sw...   \n",
       "\n",
       "                                                                                          title_lower  \n",
       "link                                                                                                   \n",
       "/r/mechmarket/comments/jff2e3/usnyhlubrigante_n...  [us-ny][h]lubrigante, norbaforce mk1, kbd8x pc...  \n",
       "/r/mechmarket/comments/ix1cex/gb_key_switch_hoo...                      [gb] key switch hook earrings  \n",
       "/r/mechmarket/comments/j22mil/gb_reminder_and_g...  [gb] reminder and giveaway winner: key switch ...  \n",
       "/r/mechmarket/comments/iut48b/caqc_h_paypal_w_p...  [ca-qc] [h] paypal [w] percent volt 80 snow white  \n",
       "/r/mechmarket/comments/iuj8dj/ic_key_switch_hoo...                      [ic] key switch hook earrings  "
      ],
      "text/html": "<div>\n<style scoped>\n    .dataframe tbody tr th:only-of-type {\n        vertical-align: middle;\n    }\n\n    .dataframe tbody tr th {\n        vertical-align: top;\n    }\n\n    .dataframe thead th {\n        text-align: right;\n    }\n</style>\n<table border=\"1\" class=\"dataframe\">\n  <thead>\n    <tr style=\"text-align: right;\">\n      <th></th>\n      <th>author</th>\n      <th>date</th>\n      <th>post</th>\n      <th>rawtext</th>\n      <th>title</th>\n      <th>post_lower</th>\n      <th>title_lower</th>\n    </tr>\n    <tr>\n      <th>link</th>\n      <th></th>\n      <th></th>\n      <th></th>\n      <th></th>\n      <th></th>\n      <th></th>\n      <th></th>\n    </tr>\n  </thead>\n  <tbody>\n    <tr>\n      <th>/r/mechmarket/comments/jff2e3/usnyhlubrigante_norbaforce_mk1_kbd8x_pcb_olivia/</th>\n      <td>Phailure_</td>\n      <td>1.603294e+09</td>\n      <td>[timestamp](https://imgur.com/gallery/6iG806B)...</td>\n      <td>sold gmk olivia++ dark base to u/wavyhundreds</td>\n      <td>[US-NY][H]Lubrigante, Norbaforce MK1, kbd8x pc...</td>\n      <td>[timestamp](https://imgur.com/gallery/6ig806b)...</td>\n      <td>[us-ny][h]lubrigante, norbaforce mk1, kbd8x pc...</td>\n    </tr>\n    <tr>\n      <th>/r/mechmarket/comments/ix1cex/gb_key_switch_hook_earrings/</th>\n      <td>enby-girl</td>\n      <td>1.600698e+09</td>\n      <td>Hey folks! I posted [an interest check](https:...</td>\n      <td>bought gmk olivia++ light base and 41 kiwi swi...</td>\n      <td>[GB] Key Switch Hook Earrings</td>\n      <td>hey folks! i posted [an interest check](https:...</td>\n      <td>[gb] key switch hook earrings</td>\n    </tr>\n    <tr>\n      <th>/r/mechmarket/comments/j22mil/gb_reminder_and_giveaway_winner_key_switch_hook/</th>\n      <td>enby-girl</td>\n      <td>1.601397e+09</td>\n      <td>Hey folks! I thought I'd bump my GB for the Ke...</td>\n      <td>bought gmk olivia++ light base and 41 kiwi swi...</td>\n      <td>[GB] Reminder and giveaway winner: Key Switch ...</td>\n      <td>hey folks! i thought i'd bump my gb for the ke...</td>\n      <td>[gb] reminder and giveaway winner: key switch ...</td>\n    </tr>\n    <tr>\n      <th>/r/mechmarket/comments/iut48b/caqc_h_paypal_w_percent_volt_80_snow_white/</th>\n      <td>enby-girl</td>\n      <td>1.600379e+09</td>\n      <td>WTB: Percent Volt 80 Snow White.\\r\\n\\r\\nPrefer...</td>\n      <td>bought gmk olivia++ light base and 41 kiwi swi...</td>\n      <td>[CA-QC] [H] PayPal [W] Percent Volt 80 Snow White</td>\n      <td>wtb: percent volt 80 snow white.\\r\\n\\r\\nprefer...</td>\n      <td>[ca-qc] [h] paypal [w] percent volt 80 snow white</td>\n    </tr>\n    <tr>\n      <th>/r/mechmarket/comments/iuj8dj/ic_key_switch_hook_earrings/</th>\n      <td>enby-girl</td>\n      <td>1.600349e+09</td>\n      <td>I posted a pair of my custom/DIY mechanical sw...</td>\n      <td>bought gmk olivia++ light base and 41 kiwi swi...</td>\n      <td>[IC] Key Switch Hook Earrings</td>\n      <td>i posted a pair of my custom/diy mechanical sw...</td>\n      <td>[ic] key switch hook earrings</td>\n    </tr>\n  </tbody>\n</table>\n</div>"
     },
     "metadata": {},
     "execution_count": 11
    }
   ],
   "source": [
    "not_gmk.head()"
   ]
  },
  {
   "cell_type": "code",
   "execution_count": 49,
   "metadata": {
    "tags": []
   },
   "outputs": [
    {
     "output_type": "stream",
     "name": "stdout",
     "text": [
      "| ~~gmk red honey~~ | used for a few months, commonly used alphas and mod keys have some shine. comes with tray but can ship in bags if you really want.  don't have the banderole anymore but it was the generic gmk so nothing special. | $147 | n |\n/r/mechmarket/comments/j0a020/usnyhpc_theo60_hotswap_gmk_red_honey_lubed_filmed/\nmonths,\n|[*~~^(gmk ceresia - red accent kit)~~*](https://imgur.com/gwqesbm)|*~~^(used - like new)~~*|*~~^(mounted for pictures only; no shine)~~*|*~~^($160 shipped conus)~~*|***sold!***|\n/r/mechmarket/comments/j0w5v4/usmd_h_gmk_olive_gmk_plum_gmk_violet_on_cream_gmk/\n-\ngmk coral - brand new in box with spacebars. 280$ + shipping for the set and spacebars. ~~sold for asking~~\n/r/mechmarket/comments/j0yxks/usca_h_ultramarine_fjell_gmk_coral_gmk_crimson/\n-\ngmk crimson cadet - mounted once for a few days. lightly used with no shine. spacebars are sealed. spacebars are in stock on novelkeys. 250$ + shipping for the set and space kit. ~~sold for asking~~\n/r/mechmarket/comments/j0yxks/usca_h_ultramarine_fjell_gmk_coral_gmk_crimson/\n-\n|~~gmk red samurai~~|~~tkl from drop. complete kit, but no box - will be shipped in bag. does have short shift for 65% and novelties.~~|~~$90 shipped~~ **~~\\[sold\\]~~**|\n/r/mechmarket/comments/j4i1os/usmi_h_gmk_red_samurai_tkl_zeal_healio_switches/\nkit,\n|[gmk laser cyberdeck v1 + blocknet, extras, novelties and more](https://imgur.com/gallery/9nfylwl)|original v1 laserdeck + a few addons. cyberdeck with original box. good condition, just sat on a display keeb and didnt see much use. - extra sets shipped split up in bags with it. dont really want to split ad would prefer to sell together. will also include laser theme cabled coiled usb if wanted|~~$250 shipped conus but taking offers~~  sold for asking|\n/r/mechmarket/comments/j5zmrj/ustx_h_rama_m60a_seq2_haze_gmk_laser_cyberdeck_v1/\n+\n~~**gmk camping + novelties: $280**~~ sold\n/r/mechmarket/comments/j7qf42/ustx_h_gmk_camping_novelties_gmk_dark_olivia/\n+\n~~**gmk dark olivia + spacebars: $280**~~ sold\n/r/mechmarket/comments/j7qf42/ustx_h_gmk_camping_novelties_gmk_dark_olivia/\n+\n~~new sealed gmk rudy + spacebar kit~~   ~~$350 shipped~~ sold\n/r/mechmarket/comments/j89wbk/uswa_h_new_sealed_gmk_rudy_spacebar_kit_w_paypal/\n+\n|[~~gmk jamon bundle~~](https://imgur.com/a/bnypqde)|~~core, pata negra, numpad, jamonelties, 2x eñe, rama egg and bacon cap - sealed~~|~~sealed, brand new~~|~~$700~~ **sold**|\n/r/mechmarket/comments/j8x6w9/usca_h_gmk_jamon_gmk_mizu_gmk_peaches_and_cream/\nbundle~~](https://imgur.com/a/bnypqde)|~~core,\n|gmk pnc + spacebars|new/sealed|$370|sold|\n/r/mechmarket/comments/j9b0u9/usvah_e85_gmk_sets_tangies_w_paypal/\n+\n~~9)~~ **~~gmk mizu + novelties~~** ~~- $450 shipped~~\n/r/mechmarket/comments/j9goho/uscah_fmj80_space65_r2_dolchcr_kbd67v2_equalz/\n+\n~~**gmk white on black + gmk wob hangul alphas $90 shipped**~~ sold\n/r/mechmarket/comments/jcdbx3/usca_h_canoe_gen2_eva01_le_built_with_eva/\n+\n* ~~gmk camping r2 + novelties : $275 shipped - new, unopened. note this has the japanese + latin legends.~~ sold for asking. \n/r/mechmarket/comments/jdnvnq/usca_h_gmk_oblivion_v2_regular_gmk_camping_r2/\n+\n~~gmk camping r2 + novelties~~| ~~used for a couple weeks. only [these keys](https://i.imgur.com/i5s4vze.jpg?1) were used. no shine as far as i can tell, but they are smoothed a bit~~ | ~~**looking for $300 shipped in original tray** or **$290 shipped in bags**. (not looking to make a profit here, as i purchased it as extras from novelkeys). after fees it's almost dead even.~~ **sold for asking**\n/r/mechmarket/comments/jeb9nq/usca_h_drop_alt_highprofile_space_grey_hotswap/\n+\n|~~gmk dualshot + novelties~~|~~sealed, brand new. never used or mounted.~~|~~$360  $285 shipped~~|\n/r/mechmarket/comments/jfmhh4/usfl_h_gmk_dualshot_novelties_w_paypal/\n+\n"
     ]
    }
   ],
   "source": [
    "from collections import defaultdict\n",
    "all_prices = defaultdict(list)\n",
    "\n",
    "money_regex = r'\\$(\\d+)|(\\d+)\\$'\n",
    "\n",
    "sets = ['base', 'nov', 'alpha', 'accent', 'bar', 'light base', 'dark base', 'deskmat', 'rama', '40s', '40\\'s', 'fourties', 'mods', 'extension']\n",
    "\n",
    "sales_data = []\n",
    "\n",
    "def match_product(df):\n",
    "    for row in df.itertuples():\n",
    "        s = row.post_lower.split(\"\\n\")\n",
    "        #product = row.product_name.lower()\n",
    "        #print(row[0][1])\n",
    "        for l in s:\n",
    "            low = l.lower()\n",
    "            if \"gmk \" in low and ('~~' in low or 'sold' in low):\n",
    "                a = low.split(\"gmk \")[1]\n",
    "                product_name = \"gmk \" + re.split(r\"[^\\w\\+]\", a)[0]\n",
    "                matches = re.split(money_regex, low)\n",
    "                temp_data = {}\n",
    "                if len(matches) > 1:\n",
    "                    #print(f\"FULL LINE: {low}\")\n",
    "                    hadBase = False\n",
    "                    allKits = []\n",
    "                    for i in range(0, len(matches)-1, 3):\n",
    "                        curr_price = int(matches[i+1] if matches[i+1] else matches[i+2])\n",
    "                        curr_str = matches[i]\n",
    "                        kits = []\n",
    "                        removeBase = False\n",
    "                        empty=True\n",
    "                        for x in sets:\n",
    "                            if x in curr_str:\n",
    "                                empty=False\n",
    "                                if x == 'nov':\n",
    "                                    kits.append('novelties')\n",
    "                                elif x == 'light base' or x == 'dark base':\n",
    "                                    kits.insert(0, f'{x}')\n",
    "                                    removeBase = True\n",
    "                                elif x == 'bar':\n",
    "                                    kits.append('spacebars')\n",
    "                                elif x in ['40s', '40\\'s', 'fourties']:\n",
    "                                    kits.append('40s')\n",
    "                                else:\n",
    "                                    kits.append(x)\n",
    "                        products = product_name\n",
    "                        if i == 0 and not kits:\n",
    "                            kits = ['base']\n",
    "                        for x in kits:\n",
    "                            if removeBase and x == 'base':\n",
    "                                continue\n",
    "                            products += f', {x}'\n",
    "                        if i == 0:\n",
    "                            temp_data[\"products\"] = products\n",
    "                            temp_data[\"str\"] = curr_str\n",
    "                            temp_data[\"price\"] = curr_price\n",
    "                        \n",
    "                        if kits and i > 0:\n",
    "                            #print(f\"PRODUCT: {temp_data['products']} CURRENT STRING: {temp_data['str']} PRICE: {temp_data['price']}\")\n",
    "                            #all_prices[temp_data['products']].append(temp_data['price'])\n",
    "                            sales_data.append([row[0], temp_data['products'], temp_data['price'], row.date])\n",
    "                            if temp_data['products'] == 'gmk dark|base, base, novelties':\n",
    "                                #print(row)\n",
    "                                pass\n",
    "                            temp_data[\"products\"] = products\n",
    "                            temp_data[\"str\"] = curr_str\n",
    "                            temp_data[\"price\"] = curr_price\n",
    "                        else:\n",
    "                            temp_data[\"price\"] = min(temp_data[\"price\"], curr_price)\n",
    "                    #print(type(temp_data['products']))\n",
    "                    quit = False\n",
    "                    if 'base' not in temp_data['products'] and 'stabs' not in low:\n",
    "                        temp = low.split('gmk')[1]\n",
    "                        for x in temp.split(' '):\n",
    "                            for y in sets[1:]:\n",
    "                                if y in x:\n",
    "                                    quit = True\n",
    "                            if quit: break\n",
    "                                    \n",
    "                            if '+' in x or ',' in x or '-' in x:\n",
    "\n",
    "                                if x == 'olivia++':\n",
    "                                    break\n",
    "                                print(low)\n",
    "                                print(row[0])\n",
    "                                print(x)\n",
    "                                a = temp_data['products']\n",
    "                                temp_data['products'] = a[:a.index(',')] + ', base' + a[a.index(','):]\n",
    "\n",
    "                                break\n",
    "                            \n",
    "\n",
    "\n",
    "\n",
    "                    #print(f\"PRODUCT: {temp_data['products']} CURRENT STRING: {temp_data['str']} PRICE: {temp_data['price']}\")\n",
    "                    #all_prices[temp_data['products']].append(temp_data['price'])\n",
    "                    sales_data.append([row[0], temp_data['products'], temp_data['price'], row.date])\n",
    "                \n",
    "\n",
    "for i, new_df in only_gmk.groupby(level=0):\n",
    "    match_product(new_df)\n",
    "    \n",
    "#print(sales_data)"
   ]
  },
  {
   "cell_type": "code",
   "execution_count": 45,
   "metadata": {},
   "outputs": [],
   "source": [
    "sales_df = pd.DataFrame(sales_data, columns=['link', 'product', 'price', 'date'])\n",
    "sales_df['date'] = pd.to_datetime(sales_df['date'], unit = 's')\n",
    "sales_df.to_csv('results_2' + filename)"
   ]
  },
  {
   "cell_type": "code",
   "execution_count": null,
   "metadata": {},
   "outputs": [],
   "source": []
  }
 ],
 "metadata": {
  "kernelspec": {
   "name": "python388jvsc74a57bd083c37cfb601c034df582858d233453172d1d663bf85d40f2eea2ab530f817b68",
   "display_name": "Python 3.8.8 64-bit ('PythonSoftwareFoundation.Python.3.8_qbz5n2kfra8p0')"
  },
  "metadata": {
   "interpreter": {
    "hash": "83c37cfb601c034df582858d233453172d1d663bf85d40f2eea2ab530f817b68"
   }
  }
 },
 "nbformat": 4,
 "nbformat_minor": 2
}